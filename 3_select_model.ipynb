{
 "cells": [
  {
   "cell_type": "code",
   "execution_count": 80,
   "id": "10ad8e3d",
   "metadata": {},
   "outputs": [],
   "source": [
    "# barplot\n",
    "# https://12jeong.github.io/python-barplot/\n",
    "\n",
    "# plot color\n",
    "# https://matplotlib.org/stable/gallery/color/named_colors.html\n",
    "\n",
    "# 신뢰 구간\n",
    "# https://angie-gil.medium.com/평점-순으로-정렬하지-않는-법-이론편-9ced2f26bc4b\n",
    "\n",
    "# cv\n",
    "# https://coding-potato.tistory.com/15\n",
    "# https://jimmy-ai.tistory.com/178"
   ]
  },
  {
   "cell_type": "markdown",
   "id": "2d1e465a",
   "metadata": {},
   "source": [
    "# Import Dataset and Libraries"
   ]
  },
  {
   "cell_type": "code",
   "execution_count": 23,
   "id": "2cf3f399",
   "metadata": {},
   "outputs": [],
   "source": [
    "from typing import Any\n",
    "import pandas as pd\n",
    "import numpy as np\n",
    "import seaborn as sns\n",
    "import matplotlib.pyplot as plt\n",
    "import warnings\n",
    "\n",
    "warnings.filterwarnings(action='ignore')\n",
    "plt.rc('font', family='Malgun Gothic')"
   ]
  },
  {
   "cell_type": "code",
   "execution_count": 24,
   "id": "2ea36df0",
   "metadata": {},
   "outputs": [],
   "source": [
    "preprocess_file = \"./preprocessing.csv\"\n",
    "\n",
    "drop_columns = [\n",
    "    'index',\n",
    "    'date',\n",
    "#    'round',\n",
    "#    'game_count',\n",
    "#    'game_goal',\n",
    "#    'cur_game_count',\n",
    "#    'win_odds',\n",
    "#    'lose_odds',\n",
    "    'track_E',\n",
    "#    'cc',\n",
    "#    'part_people',\n",
    "#    'rank',\n",
    "#    'prefix_rank',\n",
    "    'odds_result',\n",
    "    'significant',\n",
    "#    'RESULT',\n",
    "#    'track_E_encoded',\n",
    "#    'odds_result_SU',\n",
    "#    'odds_result_UD',\n",
    "]\n",
    "\n",
    "df_pp = pd.read_csv(preprocess_file)\n",
    "df_pp = df_pp.drop(drop_columns, axis=1)"
   ]
  },
  {
   "cell_type": "code",
   "execution_count": 25,
   "id": "11da5ef7",
   "metadata": {},
   "outputs": [
    {
     "data": {
      "text/html": [
       "<div>\n",
       "<style scoped>\n",
       "    .dataframe tbody tr th:only-of-type {\n",
       "        vertical-align: middle;\n",
       "    }\n",
       "\n",
       "    .dataframe tbody tr th {\n",
       "        vertical-align: top;\n",
       "    }\n",
       "\n",
       "    .dataframe thead th {\n",
       "        text-align: right;\n",
       "    }\n",
       "</style>\n",
       "<table border=\"1\" class=\"dataframe\">\n",
       "  <thead>\n",
       "    <tr style=\"text-align: right;\">\n",
       "      <th></th>\n",
       "      <th>round</th>\n",
       "      <th>game_count</th>\n",
       "      <th>game_goal</th>\n",
       "      <th>cur_game_count</th>\n",
       "      <th>win_odds</th>\n",
       "      <th>lose_odds</th>\n",
       "      <th>cc</th>\n",
       "      <th>part_people</th>\n",
       "      <th>rank</th>\n",
       "      <th>prefix_rank</th>\n",
       "      <th>RESULT</th>\n",
       "      <th>track_E_encoded</th>\n",
       "      <th>odds_result_SU</th>\n",
       "      <th>odds_result_UD</th>\n",
       "    </tr>\n",
       "  </thead>\n",
       "  <tbody>\n",
       "    <tr>\n",
       "      <th>0</th>\n",
       "      <td>1</td>\n",
       "      <td>3</td>\n",
       "      <td>15</td>\n",
       "      <td>1</td>\n",
       "      <td>4.71</td>\n",
       "      <td>1.27</td>\n",
       "      <td>150</td>\n",
       "      <td>10</td>\n",
       "      <td>10</td>\n",
       "      <td>10</td>\n",
       "      <td>False</td>\n",
       "      <td>41</td>\n",
       "      <td>1</td>\n",
       "      <td>0</td>\n",
       "    </tr>\n",
       "    <tr>\n",
       "      <th>1</th>\n",
       "      <td>1</td>\n",
       "      <td>3</td>\n",
       "      <td>15</td>\n",
       "      <td>2</td>\n",
       "      <td>4.71</td>\n",
       "      <td>1.27</td>\n",
       "      <td>150</td>\n",
       "      <td>12</td>\n",
       "      <td>7</td>\n",
       "      <td>17</td>\n",
       "      <td>False</td>\n",
       "      <td>20</td>\n",
       "      <td>1</td>\n",
       "      <td>0</td>\n",
       "    </tr>\n",
       "    <tr>\n",
       "      <th>2</th>\n",
       "      <td>2</td>\n",
       "      <td>3</td>\n",
       "      <td>15</td>\n",
       "      <td>1</td>\n",
       "      <td>7.04</td>\n",
       "      <td>1.17</td>\n",
       "      <td>150</td>\n",
       "      <td>11</td>\n",
       "      <td>2</td>\n",
       "      <td>2</td>\n",
       "      <td>True</td>\n",
       "      <td>41</td>\n",
       "      <td>0</td>\n",
       "      <td>1</td>\n",
       "    </tr>\n",
       "    <tr>\n",
       "      <th>3</th>\n",
       "      <td>2</td>\n",
       "      <td>3</td>\n",
       "      <td>15</td>\n",
       "      <td>2</td>\n",
       "      <td>7.04</td>\n",
       "      <td>1.17</td>\n",
       "      <td>150</td>\n",
       "      <td>11</td>\n",
       "      <td>5</td>\n",
       "      <td>7</td>\n",
       "      <td>True</td>\n",
       "      <td>0</td>\n",
       "      <td>0</td>\n",
       "      <td>1</td>\n",
       "    </tr>\n",
       "    <tr>\n",
       "      <th>4</th>\n",
       "      <td>2</td>\n",
       "      <td>3</td>\n",
       "      <td>15</td>\n",
       "      <td>3</td>\n",
       "      <td>7.04</td>\n",
       "      <td>1.17</td>\n",
       "      <td>150</td>\n",
       "      <td>12</td>\n",
       "      <td>5</td>\n",
       "      <td>12</td>\n",
       "      <td>True</td>\n",
       "      <td>18</td>\n",
       "      <td>0</td>\n",
       "      <td>1</td>\n",
       "    </tr>\n",
       "  </tbody>\n",
       "</table>\n",
       "</div>"
      ],
      "text/plain": [
       "   round  game_count  game_goal  cur_game_count  win_odds  lose_odds   cc  \\\n",
       "0      1           3         15               1      4.71       1.27  150   \n",
       "1      1           3         15               2      4.71       1.27  150   \n",
       "2      2           3         15               1      7.04       1.17  150   \n",
       "3      2           3         15               2      7.04       1.17  150   \n",
       "4      2           3         15               3      7.04       1.17  150   \n",
       "\n",
       "   part_people  rank  prefix_rank  RESULT  track_E_encoded  odds_result_SU  \\\n",
       "0           10    10           10   False               41               1   \n",
       "1           12     7           17   False               20               1   \n",
       "2           11     2            2    True               41               0   \n",
       "3           11     5            7    True                0               0   \n",
       "4           12     5           12    True               18               0   \n",
       "\n",
       "   odds_result_UD  \n",
       "0               0  \n",
       "1               0  \n",
       "2               1  \n",
       "3               1  \n",
       "4               1  "
      ]
     },
     "execution_count": 25,
     "metadata": {},
     "output_type": "execute_result"
    }
   ],
   "source": [
    "df_pp.head()"
   ]
  },
  {
   "cell_type": "code",
   "execution_count": 27,
   "id": "df897587",
   "metadata": {},
   "outputs": [
    {
     "name": "stdout",
     "output_type": "stream",
     "text": [
      "<class 'pandas.core.frame.DataFrame'>\n",
      "RangeIndex: 620 entries, 0 to 619\n",
      "Data columns (total 14 columns):\n",
      " #   Column           Non-Null Count  Dtype  \n",
      "---  ------           --------------  -----  \n",
      " 0   round            620 non-null    int64  \n",
      " 1   game_count       620 non-null    int64  \n",
      " 2   game_goal        620 non-null    int64  \n",
      " 3   cur_game_count   620 non-null    int64  \n",
      " 4   win_odds         620 non-null    float64\n",
      " 5   lose_odds        620 non-null    float64\n",
      " 6   cc               620 non-null    int64  \n",
      " 7   part_people      620 non-null    int64  \n",
      " 8   rank             620 non-null    int64  \n",
      " 9   prefix_rank      620 non-null    int64  \n",
      " 10  RESULT           620 non-null    bool   \n",
      " 11  track_E_encoded  620 non-null    int64  \n",
      " 12  odds_result_SU   620 non-null    int64  \n",
      " 13  odds_result_UD   620 non-null    int64  \n",
      "dtypes: bool(1), float64(2), int64(11)\n",
      "memory usage: 63.7 KB\n"
     ]
    }
   ],
   "source": [
    "df_pp.info()"
   ]
  },
  {
   "cell_type": "markdown",
   "id": "0ba2838e",
   "metadata": {},
   "source": [
    "# Modeling Data Subset"
   ]
  },
  {
   "cell_type": "code",
   "execution_count": 28,
   "id": "a07d4403",
   "metadata": {},
   "outputs": [],
   "source": [
    "X = df_pp\n",
    "X, y_rank, y_result = X.drop(['rank', 'RESULT'], axis=1), X['rank'], X['RESULT'].astype(bool)"
   ]
  },
  {
   "cell_type": "code",
   "execution_count": 29,
   "id": "03c01079",
   "metadata": {},
   "outputs": [
    {
     "data": {
      "text/html": [
       "<div>\n",
       "<style scoped>\n",
       "    .dataframe tbody tr th:only-of-type {\n",
       "        vertical-align: middle;\n",
       "    }\n",
       "\n",
       "    .dataframe tbody tr th {\n",
       "        vertical-align: top;\n",
       "    }\n",
       "\n",
       "    .dataframe thead th {\n",
       "        text-align: right;\n",
       "    }\n",
       "</style>\n",
       "<table border=\"1\" class=\"dataframe\">\n",
       "  <thead>\n",
       "    <tr style=\"text-align: right;\">\n",
       "      <th></th>\n",
       "      <th>round</th>\n",
       "      <th>game_count</th>\n",
       "      <th>game_goal</th>\n",
       "      <th>cur_game_count</th>\n",
       "      <th>win_odds</th>\n",
       "      <th>lose_odds</th>\n",
       "      <th>cc</th>\n",
       "      <th>part_people</th>\n",
       "      <th>prefix_rank</th>\n",
       "      <th>track_E_encoded</th>\n",
       "      <th>odds_result_SU</th>\n",
       "      <th>odds_result_UD</th>\n",
       "    </tr>\n",
       "  </thead>\n",
       "  <tbody>\n",
       "    <tr>\n",
       "      <th>0</th>\n",
       "      <td>1</td>\n",
       "      <td>3</td>\n",
       "      <td>15</td>\n",
       "      <td>1</td>\n",
       "      <td>4.71</td>\n",
       "      <td>1.27</td>\n",
       "      <td>150</td>\n",
       "      <td>10</td>\n",
       "      <td>10</td>\n",
       "      <td>41</td>\n",
       "      <td>1</td>\n",
       "      <td>0</td>\n",
       "    </tr>\n",
       "    <tr>\n",
       "      <th>1</th>\n",
       "      <td>1</td>\n",
       "      <td>3</td>\n",
       "      <td>15</td>\n",
       "      <td>2</td>\n",
       "      <td>4.71</td>\n",
       "      <td>1.27</td>\n",
       "      <td>150</td>\n",
       "      <td>12</td>\n",
       "      <td>17</td>\n",
       "      <td>20</td>\n",
       "      <td>1</td>\n",
       "      <td>0</td>\n",
       "    </tr>\n",
       "    <tr>\n",
       "      <th>2</th>\n",
       "      <td>2</td>\n",
       "      <td>3</td>\n",
       "      <td>15</td>\n",
       "      <td>1</td>\n",
       "      <td>7.04</td>\n",
       "      <td>1.17</td>\n",
       "      <td>150</td>\n",
       "      <td>11</td>\n",
       "      <td>2</td>\n",
       "      <td>41</td>\n",
       "      <td>0</td>\n",
       "      <td>1</td>\n",
       "    </tr>\n",
       "    <tr>\n",
       "      <th>3</th>\n",
       "      <td>2</td>\n",
       "      <td>3</td>\n",
       "      <td>15</td>\n",
       "      <td>2</td>\n",
       "      <td>7.04</td>\n",
       "      <td>1.17</td>\n",
       "      <td>150</td>\n",
       "      <td>11</td>\n",
       "      <td>7</td>\n",
       "      <td>0</td>\n",
       "      <td>0</td>\n",
       "      <td>1</td>\n",
       "    </tr>\n",
       "    <tr>\n",
       "      <th>4</th>\n",
       "      <td>2</td>\n",
       "      <td>3</td>\n",
       "      <td>15</td>\n",
       "      <td>3</td>\n",
       "      <td>7.04</td>\n",
       "      <td>1.17</td>\n",
       "      <td>150</td>\n",
       "      <td>12</td>\n",
       "      <td>12</td>\n",
       "      <td>18</td>\n",
       "      <td>0</td>\n",
       "      <td>1</td>\n",
       "    </tr>\n",
       "  </tbody>\n",
       "</table>\n",
       "</div>"
      ],
      "text/plain": [
       "   round  game_count  game_goal  cur_game_count  win_odds  lose_odds   cc  \\\n",
       "0      1           3         15               1      4.71       1.27  150   \n",
       "1      1           3         15               2      4.71       1.27  150   \n",
       "2      2           3         15               1      7.04       1.17  150   \n",
       "3      2           3         15               2      7.04       1.17  150   \n",
       "4      2           3         15               3      7.04       1.17  150   \n",
       "\n",
       "   part_people  prefix_rank  track_E_encoded  odds_result_SU  odds_result_UD  \n",
       "0           10           10               41               1               0  \n",
       "1           12           17               20               1               0  \n",
       "2           11            2               41               0               1  \n",
       "3           11            7                0               0               1  \n",
       "4           12           12               18               0               1  "
      ]
     },
     "execution_count": 29,
     "metadata": {},
     "output_type": "execute_result"
    }
   ],
   "source": [
    "X.head()"
   ]
  },
  {
   "cell_type": "markdown",
   "id": "41c77f4c",
   "metadata": {},
   "source": [
    "# Modeling"
   ]
  },
  {
   "cell_type": "code",
   "execution_count": 30,
   "id": "aaee1973",
   "metadata": {},
   "outputs": [
    {
     "name": "stdout",
     "output_type": "stream",
     "text": [
      "Python 3.11.5\n"
     ]
    }
   ],
   "source": [
    "!python --version"
   ]
  },
  {
   "cell_type": "code",
   "execution_count": 31,
   "id": "64445ce7",
   "metadata": {
    "scrolled": true
   },
   "outputs": [],
   "source": [
    "# !python.exe -m pip install --upgrade pip\n",
    "# !pip install scikit-learn\n",
    "# !pip install xgboost\n",
    "# !pip install lightgbm\n",
    "# !pip install catboost"
   ]
  },
  {
   "cell_type": "code",
   "execution_count": 32,
   "id": "44b75dbf",
   "metadata": {},
   "outputs": [],
   "source": [
    "from sklearn.multioutput import MultiOutputClassifier\n",
    "from sklearn.metrics import hamming_loss\n",
    "from sklearn.metrics import jaccard_score\n",
    "from sklearn.base import BaseEstimator\n",
    "\n",
    "# Classification Model Import\n",
    "from sklearn.linear_model import LogisticRegression\n",
    "from sklearn.ensemble import AdaBoostClassifier\n",
    "from sklearn.ensemble import GradientBoostingClassifier\n",
    "from sklearn.ensemble import RandomForestClassifier\n",
    "from xgboost import XGBClassifier\n",
    "from lightgbm import LGBMClassifier\n",
    "from catboost import CatBoostClassifier\n",
    "\n",
    "# Regression Model Import\n",
    "from sklearn.linear_model import Ridge\n",
    "from sklearn.linear_model import Lasso\n",
    "from sklearn.linear_model import LinearRegression\n",
    "from sklearn.ensemble import AdaBoostRegressor\n",
    "from sklearn.ensemble import GradientBoostingRegressor\n",
    "from sklearn.ensemble import RandomForestRegressor\n",
    "from xgboost import XGBRegressor\n",
    "from lightgbm import LGBMRegressor\n",
    "from catboost import CatBoostRegressor"
   ]
  },
  {
   "cell_type": "code",
   "execution_count": 33,
   "id": "a7504bc2",
   "metadata": {},
   "outputs": [],
   "source": [
    "clf_model_dict = {\n",
    "    \"clf_ridge\": LogisticRegression(penalty='l2'),\n",
    "    \"clf_lasso\": LogisticRegression(penalty='l1'),\n",
    "    \"clf_logistic_regression\": LogisticRegression(),\n",
    "    \"clf_logistic_regression_\": LogisticRegression(solver='liblinear'),\n",
    "    \"clf_adaboost\": AdaBoostClassifier(),\n",
    "    \"clf_gradient_boosting\": GradientBoostingClassifier(),\n",
    "    \"clf_random_forest\": RandomForestClassifier(),\n",
    "    \"clf_xgb\": XGBClassifier(),\n",
    "    \"clf_xgb_\": XGBClassifier(use_label_encoder=False, eval_metric='logloss'),\n",
    "    \"clf_lgbm\": LGBMClassifier(),\n",
    "    \"clf_catboost\": CatBoostClassifier(verbose=0),\n",
    "}\n",
    "\n",
    "reg_model_dict = {\n",
    "    \"reg_ridge\": Ridge(),\n",
    "    \"reg_lasso\": Lasso(),\n",
    "    \"reg_linear_regression\": LinearRegression(),\n",
    "    \"reg_adaboost\": AdaBoostRegressor(),\n",
    "    \"reg_gradient_boosting\": GradientBoostingRegressor(),\n",
    "    \"reg_random_forest\": RandomForestRegressor(),\n",
    "    \"reg_xgb\": XGBRegressor(),\n",
    "    \"reg_lgbm\": LGBMRegressor(),\n",
    "    \"reg_catboost\": CatBoostRegressor(verbose=0),\n",
    "}"
   ]
  },
  {
   "cell_type": "markdown",
   "id": "3dd8c0b5",
   "metadata": {},
   "source": [
    "# Training Model"
   ]
  },
  {
   "cell_type": "code",
   "execution_count": 34,
   "id": "677d7619",
   "metadata": {},
   "outputs": [],
   "source": [
    "from sklearn.model_selection import train_test_split\n",
    "\n",
    "\n",
    "def fit_model(\n",
    "    model: BaseEstimator,\n",
    "    X: pd.DataFrame,\n",
    "    y: pd.Series,\n",
    "    test_size: float = 0.2,\n",
    "    random_state: int = 42\n",
    ") -> tuple[BaseEstimator, pd.DataFrame, pd.Series, pd.DataFrame, pd.Series]:\n",
    "\n",
    "    X_train, X_test, y_train, y_test = train_test_split(\n",
    "        X,\n",
    "        y,\n",
    "        test_size = test_size,\n",
    "        random_state = random_state\n",
    "    )\n",
    "    model.fit(X_train, y_train)\n",
    "    \n",
    "    return model, X_train, X_test, y_train, y_test"
   ]
  },
  {
   "cell_type": "markdown",
   "id": "8667982c",
   "metadata": {},
   "source": [
    "# K-Fold Cross Validation"
   ]
  },
  {
   "cell_type": "code",
   "execution_count": 78,
   "id": "74da225a",
   "metadata": {},
   "outputs": [],
   "source": [
    "from sklearn.model_selection import cross_val_score\n",
    "from sklearn.model_selection import StratifiedKFold\n",
    "from sklearn.model_selection import GridSearchCV\n",
    "\n",
    "# cross_val_score의 estimator가 classifier 종류이면 내부적으로 stratified KFold 로 진행\n",
    "def cross_validation(\n",
    "    model: BaseEstimator,\n",
    "    X: pd.DataFrame,\n",
    "    y: pd.Series,\n",
    "    cv: int = 5\n",
    ") -> tuple[list[float], ...]:\n",
    "    \n",
    "    # No1 cv\n",
    "    scores1 = cross_val_score(model, X, y, cv=cv)\n",
    "\n",
    "    # No2 cv\n",
    "    skfolds = StratifiedKFold(n_splits = 5, random_state = 42, shuffle = True)\n",
    "    scores2 = cross_val_score(model, X, y, cv=skfolds)\n",
    "    \n",
    "    # No3 cv\n",
    "    scores3 = list()\n",
    "    for fold_idx, (train_idx, val_idx) in enumerate(skfolds.split(X, y)):\n",
    "        X_train, y_train = X.iloc[train_idx], y.iloc[train_idx]\n",
    "        X_val, y_val = X.iloc[val_idx], y.iloc[val_idx]\n",
    "\n",
    "        model = clf_model_dict['clf_logistic_regression']\n",
    "        model.fit(X_train, y_train)\n",
    "        prediction = model.predict(X_val)\n",
    "        acc = accuracy_score(y_val, prediction)\n",
    "        scores3.append(acc)\n",
    "    \n",
    "    return scores1,scores2, np.array(scores3)"
   ]
  },
  {
   "cell_type": "code",
   "execution_count": 77,
   "id": "10a81e6a",
   "metadata": {},
   "outputs": [
    {
     "data": {
      "text/plain": [
       "(array([0.93      , 0.92929293, 0.88888889, 0.85858586, 0.91919192]),\n",
       " array([0.91      , 0.92929293, 0.88888889, 0.92929293, 0.8989899 ]),\n",
       " array([0.91      , 0.91919192, 0.8989899 , 0.91919192, 0.86868687]))"
      ]
     },
     "execution_count": 77,
     "metadata": {},
     "output_type": "execute_result"
    }
   ],
   "source": [
    "model = clf_model_dict['clf_logistic_regression_']\n",
    "model, X_train, X_test, y_train, y_test = fit_model(model, X, y_result)\n",
    "scores1,scores2, scores3 = cross_validation(model, X_train, y_train, 5)\n",
    "\n",
    "scores1,scores2, scores3"
   ]
  },
  {
   "cell_type": "code",
   "execution_count": 79,
   "id": "3dc390a8",
   "metadata": {},
   "outputs": [
    {
     "data": {
      "image/png": "[encoded data removed]",
      "text/plain": [
       "<Figure size 1000x600 with 1 Axes>"
      ]
     },
     "metadata": {},
     "output_type": "display_data"
    }
   ],
   "source": [
    "# 데이터\n",
    "cross_val_score_results = sorted(scores1)\n",
    "stratified_by_cross_val_score_results = sorted(scores2)\n",
    "handmade_stratified_kfold_results = sorted(scores3)\n",
    "\n",
    "# Fold 번호\n",
    "folds = np.arange(1, 6)\n",
    "\n",
    "plt.figure(figsize=(10, 6))\n",
    "plt.plot(\n",
    "    folds,\n",
    "    cross_val_score_results,\n",
    "    marker='o', \n",
    "    color='tab:blue',\n",
    "    label='cross_val_score'\n",
    ")\n",
    "\n",
    "plt.plot(\n",
    "    folds,\n",
    "    stratified_by_cross_val_score_results,\n",
    "    marker='s',\n",
    "    color='tab:orange',\n",
    "    label='StratifiedKFold by cross_val_score'\n",
    ")\n",
    "\n",
    "plt.plot(\n",
    "    folds,\n",
    "    handmade_stratified_kfold_results,\n",
    "    marker='^',\n",
    "    color='tab:green',\n",
    "    label='Handmade StratifiedKFold'\n",
    ")\n",
    "\n",
    "# 제목 및 라벨 설정\n",
    "plt.title('Model Performance Across Different Folds')\n",
    "plt.xlabel('Fold Number')\n",
    "plt.ylabel('Score')\n",
    "plt.xticks(folds)\n",
    "\n",
    "# 범례 및 그리드 추가\n",
    "plt.legend()\n",
    "plt.grid(True)"
   ]
  },
  {
   "cell_type": "markdown",
   "id": "21fc904a",
   "metadata": {},
   "source": [
    "# Evaluate Model"
   ]
  },
  {
   "cell_type": "markdown",
   "id": "c0ff8df7",
   "metadata": {},
   "source": [
    "## Classification"
   ]
  },
  {
   "cell_type": "code",
   "execution_count": 13,
   "id": "744891b9",
   "metadata": {},
   "outputs": [],
   "source": [
    "from sklearn.metrics import (\n",
    "    accuracy_score,\n",
    "    precision_score,\n",
    "    recall_score,\n",
    "    f1_score,\n",
    "    roc_auc_score,\n",
    "    confusion_matrix,\n",
    "    classification_report,\n",
    ")\n",
    "\n",
    "\n",
    "def eval_clf_model(model: BaseEstimator, X: pd.DataFrame, y: pd.Series) -> tuple[float]:\n",
    "    y_pred = model.predict(X)\n",
    "    y_proba = model.predict_proba(X)[:, 1]\n",
    "\n",
    "    accuracy = accuracy_score(y, y_pred)      # 정확도\n",
    "    precision = precision_score(y, y_pred)    # 정밀도\n",
    "    recall = recall_score(y, y_pred)          # 재현율\n",
    "    f1 = f1_score(y, y_pred)                  # F1 점수\n",
    "    roc_auc = roc_auc_score(y, y_proba)       # ROC-AUC 점수\n",
    "    \n",
    "    return accuracy, precision, recall, f1, roc_auc"
   ]
  },
  {
   "cell_type": "markdown",
   "id": "da91ad47",
   "metadata": {},
   "source": [
    "## Regression"
   ]
  },
  {
   "cell_type": "code",
   "execution_count": 14,
   "id": "db8bc384",
   "metadata": {},
   "outputs": [],
   "source": [
    "from sklearn.metrics import (\n",
    "    r2_score, mean_absolute_error, mean_squared_error\n",
    ")\n",
    "\n",
    "\n",
    "def eval_reg_model(model: BaseEstimator, X: pd.DataFrame, y: pd.Series) -> tuple[float]:\n",
    "    y_pred = model.predict(X)\n",
    "\n",
    "    r2 = r2_score(y, y_pred)                # R² 점수\n",
    "    mae = mean_absolute_error(y, y_pred)    # 평균 절대 오차 (MAE)\n",
    "    mse = mean_squared_error(y, y_pred)     # 평균 제곱 오차 (MSE)\n",
    "    rmse = mean_squared_error(y, y_pred, squared=False)    # 평균 제곱근 오차 (RMSE)\n",
    "\n",
    "    return r2, mae, mse, rmse"
   ]
  },
  {
   "cell_type": "markdown",
   "id": "59d93b9f",
   "metadata": {},
   "source": [
    "# Test model"
   ]
  },
  {
   "cell_type": "markdown",
   "id": "60532254",
   "metadata": {},
   "source": [
    "## Classification"
   ]
  },
  {
   "cell_type": "code",
   "execution_count": 15,
   "id": "e86235c1",
   "metadata": {},
   "outputs": [],
   "source": [
    "# columns_name = [\n",
    "#     'game_count',\n",
    "#     'game_goal',\n",
    "#     'cur_game_count',\n",
    "#     'cc',\n",
    "#     'part_people',\n",
    "#     'track_E_encoded',\n",
    "# ]\n",
    "\n",
    "# new_data = [\n",
    "#     1,    # 'game_count'\n",
    "#     12,   # 'game_goal'\n",
    "#     2,    # 'cur_game_count'\n",
    "#     150,  # 'cc'\n",
    "#     12,   # 'part_people'\n",
    "#     71,  # 'track_E_encoded'\n",
    "# ]\n",
    "\n",
    "# df = pd.DataFrame([new_data], columns=columns_name)\n",
    "# proba = rank_model.predict(df)\n",
    "# f'{proba[0]:.0f}등'"
   ]
  },
  {
   "cell_type": "markdown",
   "id": "11c27f60",
   "metadata": {},
   "source": [
    "## Regression"
   ]
  },
  {
   "cell_type": "code",
   "execution_count": 16,
   "id": "ed6c594d",
   "metadata": {},
   "outputs": [],
   "source": [
    "# columns_name = [\n",
    "#     'game_count',\n",
    "#     'game_goal',\n",
    "#     'cur_game_count',\n",
    "#     'cc',\n",
    "#     'part_people',\n",
    "#     'track_E_encoded',\n",
    "# ]\n",
    "\n",
    "# new_data = [\n",
    "#     1,    # 'game_count'\n",
    "#     12,   # 'game_goal'\n",
    "#     2,    # 'cur_game_count'\n",
    "#     150,  # 'cc'\n",
    "#     12,   # 'part_people'\n",
    "#     71,  # 'track_E_encoded'\n",
    "# ]\n",
    "\n",
    "# df = pd.DataFrame([new_data], columns=columns_name)\n",
    "# proba = result_model.predict_proba(df)\n",
    "# f, t = proba.flatten()\n",
    "\n",
    "# print(f\"True  probability: {t}\")\n",
    "# print(f\"False probability: {f}\")"
   ]
  },
  {
   "cell_type": "code",
   "execution_count": null,
   "id": "1b43903a",
   "metadata": {},
   "outputs": [],
   "source": []
  },
  {
   "cell_type": "markdown",
   "id": "33c9a1a2",
   "metadata": {},
   "source": [
    "# Hyperparameter Tuning"
   ]
  },
  {
   "cell_type": "code",
   "execution_count": 74,
   "id": "38b76872",
   "metadata": {},
   "outputs": [],
   "source": [
    "# https://velog.io/@hyunicecream/GridSearchCV%EB%9E%80-%EC%96%B4%EB%96%BB%EA%B2%8C-%EC%82%AC%EC%9A%A9%ED%95%A0%EA%B9%8C\n",
    "\n",
    "\n",
    "def hyper_tuning():\n",
    "    # No5 cv\n",
    "    param_grid = {\n",
    "        \"C\": [0.1, 1, 10, 100],\n",
    "    }\n",
    "    grid_search = GridSearchCV(model, param_grid, cv = 5)\n",
    "    grid_search.fit(X, y)\n",
    "    \n",
    "    return grid_search.best_params_, grid_search.best_score_"
   ]
  },
  {
   "cell_type": "code",
   "execution_count": null,
   "id": "1a41998d",
   "metadata": {},
   "outputs": [],
   "source": []
  },
  {
   "cell_type": "code",
   "execution_count": null,
   "id": "f4e8f6d8",
   "metadata": {},
   "outputs": [],
   "source": []
  },
  {
   "cell_type": "code",
   "execution_count": null,
   "id": "422f1738",
   "metadata": {},
   "outputs": [],
   "source": []
  },
  {
   "cell_type": "code",
   "execution_count": null,
   "id": "e1143c83",
   "metadata": {},
   "outputs": [],
   "source": []
  },
  {
   "cell_type": "code",
   "execution_count": null,
   "id": "b3dafa58",
   "metadata": {},
   "outputs": [],
   "source": []
  },
  {
   "cell_type": "code",
   "execution_count": null,
   "id": "d69000b3",
   "metadata": {},
   "outputs": [],
   "source": []
  },
  {
   "cell_type": "code",
   "execution_count": null,
   "id": "102e15f7",
   "metadata": {},
   "outputs": [],
   "source": []
  },
  {
   "cell_type": "code",
   "execution_count": null,
   "id": "7f714c4e",
   "metadata": {},
   "outputs": [],
   "source": []
  },
  {
   "cell_type": "code",
   "execution_count": null,
   "id": "1857f0fd",
   "metadata": {},
   "outputs": [],
   "source": []
  },
  {
   "cell_type": "code",
   "execution_count": null,
   "id": "bddf27fd",
   "metadata": {},
   "outputs": [],
   "source": []
  },
  {
   "cell_type": "code",
   "execution_count": null,
   "id": "eacc7ad8",
   "metadata": {},
   "outputs": [],
   "source": []
  }
 ],
 "metadata": {
  "kernelspec": {
   "display_name": "Python 3 (ipykernel)",
   "language": "python",
   "name": "python3"
  },
  "language_info": {
   "codemirror_mode": {
    "name": "ipython",
    "version": 3
   },
   "file_extension": ".py",
   "mimetype": "text/x-python",
   "name": "python",
   "nbconvert_exporter": "python",
   "pygments_lexer": "ipython3",
   "version": "3.11.5"
  }
 },
 "nbformat": 4,
 "nbformat_minor": 5
}
