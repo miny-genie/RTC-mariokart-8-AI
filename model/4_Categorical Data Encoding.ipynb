{
 "cells": [
  {
   "cell_type": "markdown",
   "id": "4e1e603b",
   "metadata": {},
   "source": [
    "# Comment"
   ]
  },
  {
   "cell_type": "code",
   "execution_count": 26,
   "id": "cbe5cd28",
   "metadata": {},
   "outputs": [],
   "source": [
    "# plot color\n",
    "# https://matplotlib.org/stable/gallery/color/named_colors.html\n",
    "\n",
    "# cv\n",
    "# https://coding-potato.tistory.com/15\n",
    "# https://jimmy-ai.tistory.com/178\n",
    "\n",
    "# feature importance\n",
    "# https://machinelearningmastery.com/feature-importance-and-feature-selection-with-xgboost-in-python/\n",
    "\n",
    "# set_axis\n",
    "# https://stackoverflow.com/questions/39132181/dataframe-set-index-from-list\n",
    "\n",
    "# plt, ax\n",
    "# https://m.blog.naver.com/allieverwanted/222146678032"
   ]
  },
  {
   "cell_type": "markdown",
   "id": "9c76e01a",
   "metadata": {},
   "source": [
    "# Import"
   ]
  },
  {
   "cell_type": "code",
   "execution_count": 27,
   "id": "90b02785",
   "metadata": {},
   "outputs": [],
   "source": [
    "from typing import Any\n",
    "from tqdm import tqdm\n",
    "import pandas as pd\n",
    "import numpy as np\n",
    "import seaborn as sns\n",
    "import matplotlib.pyplot as plt\n",
    "import warnings\n",
    "\n",
    "warnings.filterwarnings(action=\"ignore\")\n",
    "plt.rc('font', family=\"Malgun Gothic\")"
   ]
  },
  {
   "cell_type": "code",
   "execution_count": 28,
   "id": "600c1a40",
   "metadata": {},
   "outputs": [],
   "source": [
    "preprocess_file = \"../data/preprocessing.csv\"\n",
    "df_pp = pd.read_csv(preprocess_file)"
   ]
  },
  {
   "cell_type": "code",
   "execution_count": 29,
   "id": "2886befc",
   "metadata": {},
   "outputs": [
    {
     "data": {
      "text/plain": [
       "0              Mount Wario\n",
       "1          Dragon Driftway\n",
       "2              Mount Wario\n",
       "3            3DS DK Jungle\n",
       "4        DS Wario Stardium\n",
       "              ...         \n",
       "615       DS Mario Circuit\n",
       "616    Wii Grumble Volcano\n",
       "617     GC Yoshi's Circuit\n",
       "618    DS Walluigi Pinball\n",
       "619          Mario Circuit\n",
       "Name: track_E, Length: 620, dtype: object"
      ]
     },
     "execution_count": 29,
     "metadata": {},
     "output_type": "execute_result"
    }
   ],
   "source": [
    "df_pp['track_E']"
   ]
  },
  {
   "cell_type": "markdown",
   "id": "d165cad5",
   "metadata": {},
   "source": [
    "# Label Encoding"
   ]
  },
  {
   "cell_type": "code",
   "execution_count": 30,
   "id": "090b2cb0",
   "metadata": {},
   "outputs": [],
   "source": [
    "from sklearn.preprocessing import LabelEncoder"
   ]
  },
  {
   "cell_type": "code",
   "execution_count": 31,
   "id": "b0b6988d",
   "metadata": {},
   "outputs": [],
   "source": [
    "# Load course data\n",
    "df_course = pd.read_csv(\"../data/course.csv\")\n",
    "\n",
    "# Generate label encoder\n",
    "label_encoder = LabelEncoder()\n",
    "encoded = label_encoder.fit_transform(df_course['track_name_E'])\n",
    "origin_classes = label_encoder.classes_\n",
    "\n",
    "# Generate course and encoded data dictionary\n",
    "cte = dict(zip(origin_classes, encoded))    # course_to_encoding\n",
    "etc = dict(zip(encoded, origin_classes))    # encoding_to_course"
   ]
  },
  {
   "cell_type": "markdown",
   "id": "9c65a779",
   "metadata": {},
   "source": [
    "# One Hot Encoding"
   ]
  },
  {
   "cell_type": "code",
   "execution_count": 32,
   "id": "056ab408",
   "metadata": {},
   "outputs": [],
   "source": [
    "from sklearn.preprocessing import OneHotEncoder\n",
    "from sklearn.preprocessing import StandardScaler"
   ]
  },
  {
   "cell_type": "code",
   "execution_count": 33,
   "id": "de73a2bf",
   "metadata": {},
   "outputs": [],
   "source": [
    "# Extract 'track_E' column\n",
    "track_E = df_pp[['track_E']]\n",
    "\n",
    "# Ohe Hot Encoding\n",
    "ohe = OneHotEncoder()\n",
    "df_encoded = ohe.fit_transform(track_E).toarray()\n",
    "\n",
    "# To transform ohe df, avgerage is 0 and variance is 1\n",
    "scaler = StandardScaler()\n",
    "scaled_data = scaler.fit_transform(df_encoded)"
   ]
  },
  {
   "cell_type": "markdown",
   "id": "407a07b2",
   "metadata": {},
   "source": [
    "# PCA"
   ]
  },
  {
   "cell_type": "code",
   "execution_count": 11,
   "id": "4a7e19f9",
   "metadata": {},
   "outputs": [],
   "source": [
    "from sklearn.decomposition import PCA"
   ]
  },
  {
   "cell_type": "code",
   "execution_count": 12,
   "id": "ceb1e621",
   "metadata": {},
   "outputs": [],
   "source": [
    "# dimension = 3\n",
    "# pca = PCA(n_components=dimension)\n",
    "# pca_result = pca.fit_transform(scaled_data)\n",
    "# pca_result"
   ]
  },
  {
   "cell_type": "code",
   "execution_count": 13,
   "id": "4ad8c421",
   "metadata": {},
   "outputs": [
    {
     "data": {
      "text/plain": [
       "array([[-1.42521836e-12, -1.73041687e-01,  1.49932445e-12, ...,\n",
       "        -6.85713449e-14, -1.87813945e-12,  8.43117592e-15],\n",
       "       [-1.80096744e-12, -2.18087804e-01, -2.89608858e-12, ...,\n",
       "         4.17736571e-15, -1.67127789e-12, -2.43301204e-14],\n",
       "       [-1.42582634e-12, -1.73041687e-01,  1.49916977e-12, ...,\n",
       "        -6.90320573e-14, -1.87778514e-12, -5.10737963e-15],\n",
       "       ...,\n",
       "       [-2.06788261e-12, -2.18087804e-01, -1.05201420e-12, ...,\n",
       "        -1.22233604e-14, -1.64332792e-12,  1.97056297e-15],\n",
       "       [-3.57878664e-12, -4.57410498e-01,  8.51089745e-12, ...,\n",
       "        -5.67504775e-15, -1.28103383e-12,  2.44760107e-16],\n",
       "       [-9.04600211e-12, -1.01964118e+00, -4.54660777e+00, ...,\n",
       "         6.72577912e-14, -1.27536372e-12, -9.22380074e-16]])"
      ]
     },
     "execution_count": 13,
     "metadata": {},
     "output_type": "execute_result"
    }
   ],
   "source": [
    "pca = PCA()\n",
    "pca.fit_transform(scaled_data)"
   ]
  },
  {
   "cell_type": "markdown",
   "id": "25f711bf",
   "metadata": {},
   "source": [
    "# Scree Plot"
   ]
  },
  {
   "cell_type": "code",
   "execution_count": 14,
   "id": "cd0efd35",
   "metadata": {},
   "outputs": [
    {
     "data": {
      "image/png": "[encoded data removed]",
      "text/plain": [
       "<Figure size 640x480 with 1 Axes>"
      ]
     },
     "metadata": {},
     "output_type": "display_data"
    }
   ],
   "source": [
    "# 설명된 분산 비율 시각화\n",
    "explained_variance = pca.explained_variance_ratio_\n",
    "cumulative_explained_variance = explained_variance.cumsum()\n",
    "\n",
    "plt.plot(range(1, len(explained_variance) + 1), cumulative_explained_variance, marker='o')\n",
    "plt.xlabel('Number of Components')\n",
    "plt.ylabel('Cumulative Explained Variance')\n",
    "plt.title('Explained Variance by Principal Components')\n",
    "plt.grid(True)\n",
    "plt.show()"
   ]
  },
  {
   "cell_type": "code",
   "execution_count": 15,
   "id": "aba37bc9",
   "metadata": {},
   "outputs": [
    {
     "name": "stdout",
     "output_type": "stream",
     "text": [
      "Number of components explaining 5% variance: 5\n",
      "Number of components explaining 10% variance: 9\n",
      "Number of components explaining 15% variance: 14\n",
      "Number of components explaining 20% variance: 18\n",
      "Number of components explaining 25% variance: 23\n",
      "Number of components explaining 30% variance: 27\n",
      "Number of components explaining 35% variance: 32\n",
      "Number of components explaining 40% variance: 36\n",
      "Number of components explaining 45% variance: 41\n",
      "Number of components explaining 50% variance: 45\n",
      "Number of components explaining 55% variance: 50\n",
      "Number of components explaining 60% variance: 54\n",
      "Number of components explaining 65% variance: 59\n",
      "Number of components explaining 70% variance: 63\n",
      "Number of components explaining 75% variance: 68\n",
      "Number of components explaining 80% variance: 72\n",
      "Number of components explaining 85% variance: 77\n",
      "Number of components explaining 90% variance: 81\n",
      "Number of components explaining 95% variance: 86\n",
      "Number of components explaining 100% variance: 90\n"
     ]
    }
   ],
   "source": [
    "# 90%와 95% 설명 분산 비율을 달성하는 주성분 수\n",
    "for ratio in range(5, 100 + 1, 5):\n",
    "    n_components_ratio = next(i for i, total in enumerate(cumulative_explained_variance) if total >= 0.01 * ratio) + 1\n",
    "    print(f'Number of components explaining {ratio}% variance: {n_components_ratio}')"
   ]
  },
  {
   "cell_type": "markdown",
   "id": "394d6d46",
   "metadata": {},
   "source": [
    "# Sparse Matrix Dimension Reduction"
   ]
  },
  {
   "cell_type": "code",
   "execution_count": 62,
   "id": "a1643581",
   "metadata": {},
   "outputs": [],
   "source": [
    "dimensions = 3\n",
    "sparse_matrix = df_encoded\n",
    "original_data = track_E"
   ]
  },
  {
   "cell_type": "markdown",
   "id": "4515d2b8",
   "metadata": {},
   "source": [
    "# Truncated SVD (Latent Semantic Analysis)"
   ]
  },
  {
   "cell_type": "code",
   "execution_count": 48,
   "id": "6b54bcba",
   "metadata": {},
   "outputs": [],
   "source": [
    "from sklearn.decomposition import TruncatedSVD"
   ]
  },
  {
   "cell_type": "code",
   "execution_count": 49,
   "id": "b2ebe301",
   "metadata": {},
   "outputs": [],
   "source": [
    "svd = TruncatedSVD(n_components=dimensions)\n",
    "reduced_data = svd.fit_transform(sparse_matrix)"
   ]
  },
  {
   "cell_type": "markdown",
   "id": "80fcf395",
   "metadata": {},
   "source": [
    "### Scree Plot"
   ]
  },
  {
   "cell_type": "code",
   "execution_count": 53,
   "id": "a73323d8",
   "metadata": {},
   "outputs": [
    {
     "data": {
      "text/html": [
       "<style>#sk-container-id-1 {color: black;background-color: white;}#sk-container-id-1 pre{padding: 0;}#sk-container-id-1 div.sk-toggleable {background-color: white;}#sk-container-id-1 label.sk-toggleable__label {cursor: pointer;display: block;width: 100%;margin-bottom: 0;padding: 0.3em;box-sizing: border-box;text-align: center;}#sk-container-id-1 label.sk-toggleable__label-arrow:before {content: \"▸\";float: left;margin-right: 0.25em;color: #696969;}#sk-container-id-1 label.sk-toggleable__label-arrow:hover:before {color: black;}#sk-container-id-1 div.sk-estimator:hover label.sk-toggleable__label-arrow:before {color: black;}#sk-container-id-1 div.sk-toggleable__content {max-height: 0;max-width: 0;overflow: hidden;text-align: left;background-color: #f0f8ff;}#sk-container-id-1 div.sk-toggleable__content pre {margin: 0.2em;color: black;border-radius: 0.25em;background-color: #f0f8ff;}#sk-container-id-1 input.sk-toggleable__control:checked~div.sk-toggleable__content {max-height: 200px;max-width: 100%;overflow: auto;}#sk-container-id-1 input.sk-toggleable__control:checked~label.sk-toggleable__label-arrow:before {content: \"▾\";}#sk-container-id-1 div.sk-estimator input.sk-toggleable__control:checked~label.sk-toggleable__label {background-color: #d4ebff;}#sk-container-id-1 div.sk-label input.sk-toggleable__control:checked~label.sk-toggleable__label {background-color: #d4ebff;}#sk-container-id-1 input.sk-hidden--visually {border: 0;clip: rect(1px 1px 1px 1px);clip: rect(1px, 1px, 1px, 1px);height: 1px;margin: -1px;overflow: hidden;padding: 0;position: absolute;width: 1px;}#sk-container-id-1 div.sk-estimator {font-family: monospace;background-color: #f0f8ff;border: 1px dotted black;border-radius: 0.25em;box-sizing: border-box;margin-bottom: 0.5em;}#sk-container-id-1 div.sk-estimator:hover {background-color: #d4ebff;}#sk-container-id-1 div.sk-parallel-item::after {content: \"\";width: 100%;border-bottom: 1px solid gray;flex-grow: 1;}#sk-container-id-1 div.sk-label:hover label.sk-toggleable__label {background-color: #d4ebff;}#sk-container-id-1 div.sk-serial::before {content: \"\";position: absolute;border-left: 1px solid gray;box-sizing: border-box;top: 0;bottom: 0;left: 50%;z-index: 0;}#sk-container-id-1 div.sk-serial {display: flex;flex-direction: column;align-items: center;background-color: white;padding-right: 0.2em;padding-left: 0.2em;position: relative;}#sk-container-id-1 div.sk-item {position: relative;z-index: 1;}#sk-container-id-1 div.sk-parallel {display: flex;align-items: stretch;justify-content: center;background-color: white;position: relative;}#sk-container-id-1 div.sk-item::before, #sk-container-id-1 div.sk-parallel-item::before {content: \"\";position: absolute;border-left: 1px solid gray;box-sizing: border-box;top: 0;bottom: 0;left: 50%;z-index: -1;}#sk-container-id-1 div.sk-parallel-item {display: flex;flex-direction: column;z-index: 1;position: relative;background-color: white;}#sk-container-id-1 div.sk-parallel-item:first-child::after {align-self: flex-end;width: 50%;}#sk-container-id-1 div.sk-parallel-item:last-child::after {align-self: flex-start;width: 50%;}#sk-container-id-1 div.sk-parallel-item:only-child::after {width: 0;}#sk-container-id-1 div.sk-dashed-wrapped {border: 1px dashed gray;margin: 0 0.4em 0.5em 0.4em;box-sizing: border-box;padding-bottom: 0.4em;background-color: white;}#sk-container-id-1 div.sk-label label {font-family: monospace;font-weight: bold;display: inline-block;line-height: 1.2em;}#sk-container-id-1 div.sk-label-container {text-align: center;}#sk-container-id-1 div.sk-container {/* jupyter's `normalize.less` sets `[hidden] { display: none; }` but bootstrap.min.css set `[hidden] { display: none !important; }` so we also need the `!important` here to be able to override the default hidden behavior on the sphinx rendered scikit-learn.org. See: https://github.com/scikit-learn/scikit-learn/issues/21755 */display: inline-block !important;position: relative;}#sk-container-id-1 div.sk-text-repr-fallback {display: none;}</style><div id=\"sk-container-id-1\" class=\"sk-top-container\"><div class=\"sk-text-repr-fallback\"><pre>TruncatedSVD(n_components=90)</pre><b>In a Jupyter environment, please rerun this cell to show the HTML representation or trust the notebook. <br />On GitHub, the HTML representation is unable to render, please try loading this page with nbviewer.org.</b></div><div class=\"sk-container\" hidden><div class=\"sk-item\"><div class=\"sk-estimator sk-toggleable\"><input class=\"sk-toggleable__control sk-hidden--visually\" id=\"sk-estimator-id-1\" type=\"checkbox\" checked><label for=\"sk-estimator-id-1\" class=\"sk-toggleable__label sk-toggleable__label-arrow\">TruncatedSVD</label><div class=\"sk-toggleable__content\"><pre>TruncatedSVD(n_components=90)</pre></div></div></div></div></div>"
      ],
      "text/plain": [
       "TruncatedSVD(n_components=90)"
      ]
     },
     "execution_count": 53,
     "metadata": {},
     "output_type": "execute_result"
    }
   ],
   "source": [
    "svd = TruncatedSVD(n_components=sparse_matrix.shape[1] - 1)\n",
    "svd.fit(sparse_matrix)"
   ]
  },
  {
   "cell_type": "code",
   "execution_count": 54,
   "id": "0339df33",
   "metadata": {},
   "outputs": [
    {
     "data": {
      "image/png": "[encoded data removed]",
      "text/plain": [
       "<Figure size 640x480 with 1 Axes>"
      ]
     },
     "metadata": {},
     "output_type": "display_data"
    }
   ],
   "source": [
    "explained_variance = svd.explained_variance_ratio_\n",
    "cumulative_explained_variance = explained_variance.cumsum()\n",
    "\n",
    "plt.plot(\n",
    "    range(1, len(cumulative_explained_variance) + 1),\n",
    "    cumulative_explained_variance, marker='o'\n",
    ")\n",
    "plt.xlabel('Number of Components')\n",
    "plt.ylabel('Cumulative Explained Variance')\n",
    "plt.title('Truncated SVD - Scree Plot')\n",
    "plt.grid(True)\n",
    "plt.show()"
   ]
  },
  {
   "cell_type": "markdown",
   "id": "a587586f",
   "metadata": {},
   "source": [
    "# Non-Negative Matrix Factorization (NMF)"
   ]
  },
  {
   "cell_type": "code",
   "execution_count": 19,
   "id": "e9365437",
   "metadata": {},
   "outputs": [],
   "source": [
    "from sklearn.decomposition import NMF"
   ]
  },
  {
   "cell_type": "code",
   "execution_count": 20,
   "id": "5cf2d71e",
   "metadata": {},
   "outputs": [],
   "source": [
    "nmf = NMF(n_components=dimensions)\n",
    "reduced_data = nmf.fit_transform(sparse_matrix)"
   ]
  },
  {
   "cell_type": "markdown",
   "id": "a6c84826",
   "metadata": {},
   "source": [
    "### Reconstruction Error"
   ]
  },
  {
   "cell_type": "code",
   "execution_count": 58,
   "id": "e24a4aae",
   "metadata": {},
   "outputs": [
    {
     "data": {
      "image/png": "[encoded data removed]",
      "text/plain": [
       "<Figure size 640x480 with 1 Axes>"
      ]
     },
     "metadata": {},
     "output_type": "display_data"
    }
   ],
   "source": [
    "# 재구성 오차 저장 리스트\n",
    "reconstruction_errors = []\n",
    "\n",
    "# 여러 차원 수에 대한 NMF 실행\n",
    "for n in range(1, sparse_matrix.shape[1] + 1):\n",
    "    nmf = NMF(n_components=n, init='random', random_state=0)\n",
    "    W = nmf.fit_transform(sparse_matrix)\n",
    "    H = nmf.components_\n",
    "    reconstruction = W @ H\n",
    "    error = np.linalg.norm(sparse_matrix - reconstruction, 'fro')\n",
    "    reconstruction_errors.append(error)\n",
    "\n",
    "# 재구성 오차 플롯\n",
    "plt.plot(range(1, sparse_matrix.shape[1] + 1), reconstruction_errors, marker='o')\n",
    "plt.xlabel('Number of Components')\n",
    "plt.ylabel('Reconstruction Error')\n",
    "plt.title('NMF - Reconstruction Error')\n",
    "plt.grid(True)\n",
    "plt.show()"
   ]
  },
  {
   "cell_type": "markdown",
   "id": "74097fad",
   "metadata": {},
   "source": [
    "# Autoencoder"
   ]
  },
  {
   "cell_type": "code",
   "execution_count": 21,
   "id": "cb7427aa",
   "metadata": {},
   "outputs": [],
   "source": [
    "from tensorflow.keras.models import Model\n",
    "from tensorflow.keras.layers import Input, Dense\n",
    "from tensorflow.keras.optimizers import Adam"
   ]
  },
  {
   "cell_type": "code",
   "execution_count": 45,
   "id": "0291c886",
   "metadata": {
    "collapsed": true
   },
   "outputs": [
    {
     "name": "stdout",
     "output_type": "stream",
     "text": [
      "Epoch 1/50\n",
      "2/2 [==============================] - 0s 125ms/step - loss: 0.2500 - val_loss: 0.2497\n",
      "Epoch 2/50\n",
      "2/2 [==============================] - 0s 27ms/step - loss: 0.2494 - val_loss: 0.2490\n",
      "Epoch 3/50\n",
      "2/2 [==============================] - 0s 26ms/step - loss: 0.2488 - val_loss: 0.2484\n",
      "Epoch 4/50\n",
      "2/2 [==============================] - 0s 19ms/step - loss: 0.2482 - val_loss: 0.2478\n",
      "Epoch 5/50\n",
      "2/2 [==============================] - 0s 26ms/step - loss: 0.2476 - val_loss: 0.2472\n",
      "Epoch 6/50\n",
      "2/2 [==============================] - 0s 25ms/step - loss: 0.2470 - val_loss: 0.2466\n",
      "Epoch 7/50\n",
      "2/2 [==============================] - 0s 26ms/step - loss: 0.2464 - val_loss: 0.2460\n",
      "Epoch 8/50\n",
      "2/2 [==============================] - 0s 25ms/step - loss: 0.2458 - val_loss: 0.2454\n",
      "Epoch 9/50\n",
      "2/2 [==============================] - 0s 26ms/step - loss: 0.2452 - val_loss: 0.2448\n",
      "Epoch 10/50\n",
      "2/2 [==============================] - 0s 25ms/step - loss: 0.2445 - val_loss: 0.2441\n",
      "Epoch 11/50\n",
      "2/2 [==============================] - 0s 24ms/step - loss: 0.2439 - val_loss: 0.2435\n",
      "Epoch 12/50\n",
      "2/2 [==============================] - 0s 26ms/step - loss: 0.2433 - val_loss: 0.2429\n",
      "Epoch 13/50\n",
      "2/2 [==============================] - 0s 25ms/step - loss: 0.2427 - val_loss: 0.2423\n",
      "Epoch 14/50\n",
      "2/2 [==============================] - 0s 24ms/step - loss: 0.2420 - val_loss: 0.2416\n",
      "Epoch 15/50\n",
      "2/2 [==============================] - 0s 26ms/step - loss: 0.2414 - val_loss: 0.2410\n",
      "Epoch 16/50\n",
      "2/2 [==============================] - 0s 27ms/step - loss: 0.2407 - val_loss: 0.2403\n",
      "Epoch 17/50\n",
      "2/2 [==============================] - 0s 27ms/step - loss: 0.2401 - val_loss: 0.2397\n",
      "Epoch 18/50\n",
      "2/2 [==============================] - 0s 26ms/step - loss: 0.2394 - val_loss: 0.2390\n",
      "Epoch 19/50\n",
      "2/2 [==============================] - 0s 28ms/step - loss: 0.2388 - val_loss: 0.2384\n",
      "Epoch 20/50\n",
      "2/2 [==============================] - 0s 26ms/step - loss: 0.2381 - val_loss: 0.2377\n",
      "Epoch 21/50\n",
      "2/2 [==============================] - 0s 18ms/step - loss: 0.2374 - val_loss: 0.2370\n",
      "Epoch 22/50\n",
      "2/2 [==============================] - 0s 27ms/step - loss: 0.2367 - val_loss: 0.2363\n",
      "Epoch 23/50\n",
      "2/2 [==============================] - 0s 26ms/step - loss: 0.2360 - val_loss: 0.2356\n",
      "Epoch 24/50\n",
      "2/2 [==============================] - 0s 24ms/step - loss: 0.2353 - val_loss: 0.2349\n",
      "Epoch 25/50\n",
      "2/2 [==============================] - 0s 20ms/step - loss: 0.2346 - val_loss: 0.2342\n",
      "Epoch 26/50\n",
      "2/2 [==============================] - 0s 47ms/step - loss: 0.2339 - val_loss: 0.2335\n",
      "Epoch 27/50\n",
      "2/2 [==============================] - 0s 24ms/step - loss: 0.2331 - val_loss: 0.2327\n",
      "Epoch 28/50\n",
      "2/2 [==============================] - 0s 43ms/step - loss: 0.2324 - val_loss: 0.2320\n",
      "Epoch 29/50\n",
      "2/2 [==============================] - 0s 19ms/step - loss: 0.2316 - val_loss: 0.2312\n",
      "Epoch 30/50\n",
      "2/2 [==============================] - 0s 25ms/step - loss: 0.2308 - val_loss: 0.2304\n",
      "Epoch 31/50\n",
      "2/2 [==============================] - 0s 25ms/step - loss: 0.2300 - val_loss: 0.2297\n",
      "Epoch 32/50\n",
      "2/2 [==============================] - 0s 25ms/step - loss: 0.2292 - val_loss: 0.2289\n",
      "Epoch 33/50\n",
      "2/2 [==============================] - 0s 24ms/step - loss: 0.2284 - val_loss: 0.2281\n",
      "Epoch 34/50\n",
      "2/2 [==============================] - 0s 22ms/step - loss: 0.2276 - val_loss: 0.2272\n",
      "Epoch 35/50\n",
      "2/2 [==============================] - 0s 24ms/step - loss: 0.2268 - val_loss: 0.2264\n",
      "Epoch 36/50\n",
      "2/2 [==============================] - 0s 26ms/step - loss: 0.2259 - val_loss: 0.2255\n",
      "Epoch 37/50\n",
      "2/2 [==============================] - 0s 24ms/step - loss: 0.2250 - val_loss: 0.2247\n",
      "Epoch 38/50\n",
      "2/2 [==============================] - 0s 25ms/step - loss: 0.2241 - val_loss: 0.2238\n",
      "Epoch 39/50\n",
      "2/2 [==============================] - 0s 25ms/step - loss: 0.2232 - val_loss: 0.2229\n",
      "Epoch 40/50\n",
      "2/2 [==============================] - 0s 25ms/step - loss: 0.2223 - val_loss: 0.2220\n",
      "Epoch 41/50\n",
      "2/2 [==============================] - 0s 26ms/step - loss: 0.2214 - val_loss: 0.2210\n",
      "Epoch 42/50\n",
      "2/2 [==============================] - 0s 25ms/step - loss: 0.2204 - val_loss: 0.2201\n",
      "Epoch 43/50\n",
      "2/2 [==============================] - 0s 26ms/step - loss: 0.2195 - val_loss: 0.2191\n",
      "Epoch 44/50\n",
      "2/2 [==============================] - 0s 27ms/step - loss: 0.2185 - val_loss: 0.2181\n",
      "Epoch 45/50\n",
      "2/2 [==============================] - 0s 27ms/step - loss: 0.2175 - val_loss: 0.2171\n",
      "Epoch 46/50\n",
      "2/2 [==============================] - 0s 23ms/step - loss: 0.2164 - val_loss: 0.2161\n",
      "Epoch 47/50\n",
      "2/2 [==============================] - 0s 26ms/step - loss: 0.2154 - val_loss: 0.2150\n",
      "Epoch 48/50\n",
      "2/2 [==============================] - 0s 54ms/step - loss: 0.2143 - val_loss: 0.2139\n",
      "Epoch 49/50\n",
      "2/2 [==============================] - 0s 24ms/step - loss: 0.2132 - val_loss: 0.2128\n",
      "Epoch 50/50\n",
      "2/2 [==============================] - 0s 27ms/step - loss: 0.2121 - val_loss: 0.2117\n"
     ]
    },
    {
     "data": {
      "text/plain": [
       "<keras.src.callbacks.History at 0x152ae355d90>"
      ]
     },
     "execution_count": 45,
     "metadata": {},
     "output_type": "execute_result"
    }
   ],
   "source": [
    "input_dim = sparse_matrix.shape[1]    # 입력 차원 설정\n",
    "encoding_dim = dimensions    # 차원 축소 후의 차원\n",
    "\n",
    "# 인코더 정의\n",
    "input_layer = Input(shape=(input_dim, ))\n",
    "encoded = Dense(encoding_dim, activation='relu')(input_layer)\n",
    "\n",
    "# 디코더 정의\n",
    "decoded = Dense(input_dim, activation='sigmoid')(encoded)\n",
    "\n",
    "# Autoencoder 모델\n",
    "autoencoder = Model(inputs=input_layer, outputs=decoded)\n",
    "\n",
    "# 인코더 모델\n",
    "encoder = Model(inputs=input_layer, outputs=encoded)\n",
    "\n",
    "# 컴파일 및 학습\n",
    "autoencoder.compile(optimizer=Adam(learning_rate=0.001), loss='mean_squared_error')\n",
    "autoencoder.fit(sparse_matrix, sparse_matrix,\n",
    "               epochs=50,\n",
    "               batch_size=256,\n",
    "               shuffle=True,\n",
    "               validation_split=0.2)"
   ]
  },
  {
   "cell_type": "code",
   "execution_count": 59,
   "id": "45c066df",
   "metadata": {
    "scrolled": true
   },
   "outputs": [
    {
     "name": "stdout",
     "output_type": "stream",
     "text": [
      "20/20 [==============================] - 0s 789us/step\n"
     ]
    }
   ],
   "source": [
    "reduced_data = encoder.predict(sparse_matrix)"
   ]
  },
  {
   "cell_type": "markdown",
   "id": "54dd6434",
   "metadata": {},
   "source": [
    "### Reconstruction Error"
   ]
  },
  {
   "cell_type": "code",
   "execution_count": 60,
   "id": "8b32fc11",
   "metadata": {
    "collapsed": true
   },
   "outputs": [
    {
     "name": "stdout",
     "output_type": "stream",
     "text": [
      "20/20 [==============================] - 0s 842us/step\n",
      "20/20 [==============================] - 0s 866us/step\n",
      "20/20 [==============================] - 0s 816us/step\n",
      "20/20 [==============================] - 0s 793us/step\n",
      "20/20 [==============================] - 0s 842us/step\n",
      "20/20 [==============================] - 0s 1ms/step\n",
      "20/20 [==============================] - 0s 895us/step\n",
      "20/20 [==============================] - 0s 922us/step\n",
      "20/20 [==============================] - 0s 846us/step\n",
      "20/20 [==============================] - 0s 840us/step\n",
      "20/20 [==============================] - 0s 898us/step\n",
      "20/20 [==============================] - 0s 842us/step\n",
      "20/20 [==============================] - 0s 842us/step\n",
      "20/20 [==============================] - 0s 895us/step\n",
      "20/20 [==============================] - 0s 842us/step\n",
      "20/20 [==============================] - 0s 948us/step\n",
      "20/20 [==============================] - 0s 842us/step\n",
      "20/20 [==============================] - 0s 844us/step\n",
      "20/20 [==============================] - 0s 875us/step\n",
      "20/20 [==============================] - 0s 873us/step\n",
      "20/20 [==============================] - 0s 906us/step\n",
      "20/20 [==============================] - 0s 819us/step\n",
      "20/20 [==============================] - 0s 843us/step\n",
      "20/20 [==============================] - 0s 842us/step\n",
      "20/20 [==============================] - 0s 829us/step\n",
      "20/20 [==============================] - 0s 790us/step\n",
      "20/20 [==============================] - 0s 897us/step\n",
      "20/20 [==============================] - 0s 842us/step\n",
      "20/20 [==============================] - 0s 789us/step\n",
      "20/20 [==============================] - 0s 789us/step\n",
      "20/20 [==============================] - 0s 869us/step\n",
      "20/20 [==============================] - 0s 789us/step\n",
      "20/20 [==============================] - 0s 874us/step\n",
      "20/20 [==============================] - 0s 842us/step\n",
      "20/20 [==============================] - 0s 895us/step\n",
      "20/20 [==============================] - 0s 840us/step\n",
      "20/20 [==============================] - 0s 922us/step\n",
      "20/20 [==============================] - 0s 872us/step\n",
      "20/20 [==============================] - 0s 842us/step\n",
      "20/20 [==============================] - 0s 789us/step\n",
      "20/20 [==============================] - 0s 897us/step\n",
      "20/20 [==============================] - 0s 840us/step\n",
      "20/20 [==============================] - 0s 842us/step\n",
      "20/20 [==============================] - 0s 842us/step\n",
      "20/20 [==============================] - 0s 872us/step\n",
      "20/20 [==============================] - 0s 843us/step\n",
      "20/20 [==============================] - 0s 842us/step\n",
      "20/20 [==============================] - 0s 842us/step\n",
      "20/20 [==============================] - 0s 737us/step\n",
      "20/20 [==============================] - 0s 895us/step\n",
      "20/20 [==============================] - 0s 895us/step\n",
      "20/20 [==============================] - 0s 842us/step\n",
      "20/20 [==============================] - 0s 842us/step\n",
      "20/20 [==============================] - 0s 844us/step\n",
      "20/20 [==============================] - 0s 795us/step\n",
      "20/20 [==============================] - 0s 841us/step\n",
      "20/20 [==============================] - 0s 816us/step\n",
      "20/20 [==============================] - 0s 842us/step\n",
      "20/20 [==============================] - 0s 872us/step\n",
      "20/20 [==============================] - 0s 842us/step\n",
      "20/20 [==============================] - 0s 895us/step\n",
      "20/20 [==============================] - 0s 843us/step\n",
      "20/20 [==============================] - 0s 895us/step\n",
      "20/20 [==============================] - 0s 842us/step\n",
      "20/20 [==============================] - 0s 874us/step\n",
      "20/20 [==============================] - 0s 895us/step\n",
      "20/20 [==============================] - 0s 895us/step\n",
      "20/20 [==============================] - 0s 844us/step\n",
      "20/20 [==============================] - 0s 842us/step\n",
      "20/20 [==============================] - 0s 1ms/step\n",
      "20/20 [==============================] - 0s 898us/step\n",
      "20/20 [==============================] - 0s 895us/step\n",
      "20/20 [==============================] - 0s 615us/step\n",
      "20/20 [==============================] - 0s 840us/step\n",
      "20/20 [==============================] - 0s 895us/step\n",
      "20/20 [==============================] - 0s 896us/step\n",
      "20/20 [==============================] - 0s 947us/step\n",
      "20/20 [==============================] - 0s 895us/step\n",
      "20/20 [==============================] - 0s 840us/step\n",
      "20/20 [==============================] - 0s 839us/step\n",
      "20/20 [==============================] - 0s 849us/step\n",
      "20/20 [==============================] - 0s 895us/step\n",
      "20/20 [==============================] - 0s 792us/step\n",
      "20/20 [==============================] - 0s 921us/step\n",
      "20/20 [==============================] - 0s 842us/step\n",
      "20/20 [==============================] - 0s 787us/step\n",
      "20/20 [==============================] - 0s 1ms/step\n",
      "20/20 [==============================] - 0s 897us/step\n",
      "20/20 [==============================] - 0s 874us/step\n",
      "20/20 [==============================] - 0s 897us/step\n",
      "20/20 [==============================] - 0s 895us/step\n"
     ]
    }
   ],
   "source": [
    "# 차원 수별 재구성 오차 저장 리스트\n",
    "reconstruction_errors = []\n",
    "\n",
    "# 여러 차원 수에 대한 Autoencoder 실행\n",
    "for encoding_dim in range(1, sparse_matrix.shape[1] + 1):\n",
    "    # Autoencoder 모델 정의\n",
    "    input_layer = Input(shape=(sparse_matrix.shape[1],))\n",
    "    encoded = Dense(encoding_dim, activation='relu')(input_layer)\n",
    "    decoded = Dense(sparse_matrix.shape[1], activation='sigmoid')(encoded)\n",
    "    autoencoder = Model(inputs=input_layer, outputs=decoded)\n",
    "    \n",
    "    # 모델 컴파일 및 학습\n",
    "    autoencoder.compile(optimizer=Adam(learning_rate=0.001), loss='mean_squared_error')\n",
    "    autoencoder.fit(sparse_matrix, sparse_matrix, epochs=10, batch_size=256, shuffle=True, validation_split=0.2, verbose=0)\n",
    "    \n",
    "    # 재구성 오차 계산\n",
    "    reconstructed = autoencoder.predict(sparse_matrix)\n",
    "    error = np.mean(np.square(sparse_matrix - reconstructed))\n",
    "    reconstruction_errors.append(error)"
   ]
  },
  {
   "cell_type": "code",
   "execution_count": 61,
   "id": "91338b05",
   "metadata": {
    "scrolled": false
   },
   "outputs": [
    {
     "data": {
      "image/png": "[encoded data removed]",
      "text/plain": [
       "<Figure size 640x480 with 1 Axes>"
      ]
     },
     "metadata": {},
     "output_type": "display_data"
    }
   ],
   "source": [
    "# 재구성 오차 플롯\n",
    "plt.plot(range(1, sparse_matrix.shape[1] + 1), reconstruction_errors, marker='o')\n",
    "plt.xlabel('Number of Components')\n",
    "plt.ylabel('Reconstruction Error')\n",
    "plt.title('Autoencoder - Reconstruction Error')\n",
    "plt.grid(True)\n",
    "plt.show()"
   ]
  },
  {
   "cell_type": "markdown",
   "id": "00f0a73e",
   "metadata": {},
   "source": [
    "# Feature Hashing (Hashing Trick)"
   ]
  },
  {
   "cell_type": "code",
   "execution_count": 23,
   "id": "9a4ea75c",
   "metadata": {},
   "outputs": [],
   "source": [
    "from sklearn.feature_extraction.text import FeatureHasher"
   ]
  },
  {
   "cell_type": "code",
   "execution_count": 69,
   "id": "f37b667e",
   "metadata": {},
   "outputs": [],
   "source": [
    "hasher = FeatureHasher(n_features=dimensions, input_type='dict')\n",
    "hashed_data = hasher.transform(original_data.to_dict(orient='records'))"
   ]
  },
  {
   "cell_type": "code",
   "execution_count": 73,
   "id": "1b3e1685",
   "metadata": {},
   "outputs": [
    {
     "data": {
      "text/plain": [
       "array([[-1.,  0.,  0.],\n",
       "       [ 0.,  0., -1.],\n",
       "       [-1.,  0.,  0.],\n",
       "       ...,\n",
       "       [ 0., -1.,  0.],\n",
       "       [ 0., -1.,  0.],\n",
       "       [ 0.,  1.,  0.]])"
      ]
     },
     "execution_count": 73,
     "metadata": {},
     "output_type": "execute_result"
    }
   ],
   "source": [
    "hashed_data.toarray()"
   ]
  },
  {
   "cell_type": "markdown",
   "id": "26e63bfa",
   "metadata": {},
   "source": [
    "# Frequency Encoding"
   ]
  },
  {
   "cell_type": "code",
   "execution_count": 81,
   "id": "1f699621",
   "metadata": {},
   "outputs": [
    {
     "ename": "TypeError",
     "evalue": "the first argument must be callable",
     "output_type": "error",
     "traceback": [
      "\u001b[1;31m---------------------------------------------------------------------------\u001b[0m",
      "\u001b[1;31mTypeError\u001b[0m                                 Traceback (most recent call last)",
      "Cell \u001b[1;32mIn[81], line 2\u001b[0m\n\u001b[0;32m      1\u001b[0m frequency_encoding \u001b[38;5;241m=\u001b[39m track_E\u001b[38;5;241m.\u001b[39mvalue_counts()\n\u001b[1;32m----> 2\u001b[0m track_E_encoded \u001b[38;5;241m=\u001b[39m track_E\u001b[38;5;241m.\u001b[39mmap(frequency_encoding)\n",
      "File \u001b[1;32m~\\anaconda3\\Lib\\site-packages\\pandas\\core\\frame.py:10118\u001b[0m, in \u001b[0;36mDataFrame.map\u001b[1;34m(self, func, na_action, **kwargs)\u001b[0m\n\u001b[0;32m  10115\u001b[0m \u001b[38;5;28;01mif\u001b[39;00m \u001b[38;5;28mself\u001b[39m\u001b[38;5;241m.\u001b[39mempty:\n\u001b[0;32m  10116\u001b[0m     \u001b[38;5;28;01mreturn\u001b[39;00m \u001b[38;5;28mself\u001b[39m\u001b[38;5;241m.\u001b[39mcopy()\n\u001b[1;32m> 10118\u001b[0m func \u001b[38;5;241m=\u001b[39m functools\u001b[38;5;241m.\u001b[39mpartial(func, \u001b[38;5;241m*\u001b[39m\u001b[38;5;241m*\u001b[39mkwargs)\n\u001b[0;32m  10120\u001b[0m \u001b[38;5;28;01mdef\u001b[39;00m \u001b[38;5;21minfer\u001b[39m(x):\n\u001b[0;32m  10121\u001b[0m     \u001b[38;5;28;01mreturn\u001b[39;00m x\u001b[38;5;241m.\u001b[39m_map_values(func, na_action\u001b[38;5;241m=\u001b[39mna_action)\n",
      "\u001b[1;31mTypeError\u001b[0m: the first argument must be callable"
     ]
    }
   ],
   "source": [
    "frequency_encoding = track_E.value_counts()\n",
    "track_E_encoded = track_E.map(frequency_encoding)"
   ]
  }
 ],
 "metadata": {
  "kernelspec": {
   "display_name": "Python 3 (ipykernel)",
   "language": "python",
   "name": "python3"
  },
  "language_info": {
   "codemirror_mode": {
    "name": "ipython",
    "version": 3
   },
   "file_extension": ".py",
   "mimetype": "text/x-python",
   "name": "python",
   "nbconvert_exporter": "python",
   "pygments_lexer": "ipython3",
   "version": "3.11.5"
  }
 },
 "nbformat": 4,
 "nbformat_minor": 5
}
