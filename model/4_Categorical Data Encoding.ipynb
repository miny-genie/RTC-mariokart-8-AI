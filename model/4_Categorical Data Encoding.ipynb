{
 "cells": [
  {
   "cell_type": "markdown",
   "id": "4e1e603b",
   "metadata": {},
   "source": [
    "# Comment"
   ]
  },
  {
   "cell_type": "code",
   "execution_count": 44,
   "id": "cbe5cd28",
   "metadata": {},
   "outputs": [],
   "source": [
    "# plot color\n",
    "# https://matplotlib.org/stable/gallery/color/named_colors.html\n",
    "\n",
    "# cv\n",
    "# https://coding-potato.tistory.com/15\n",
    "# https://jimmy-ai.tistory.com/178\n",
    "\n",
    "# feature importance\n",
    "# https://machinelearningmastery.com/feature-importance-and-feature-selection-with-xgboost-in-python/\n",
    "\n",
    "# set_axis\n",
    "# https://stackoverflow.com/questions/39132181/dataframe-set-index-from-list\n",
    "\n",
    "# plt, ax\n",
    "# https://m.blog.naver.com/allieverwanted/222146678032"
   ]
  },
  {
   "cell_type": "markdown",
   "id": "e9633020",
   "metadata": {},
   "source": [
    "# GPU"
   ]
  },
  {
   "cell_type": "code",
   "execution_count": 82,
   "id": "7ca55904",
   "metadata": {},
   "outputs": [],
   "source": [
    "# Graphic Driver\n",
    "# https://www.nvidia.com/Download/index.aspx?lang=en-us\n",
    "\n",
    "# CUDA Toolkit\n",
    "# https://developer.nvidia.com/cuda-toolkit\n",
    "\n",
    "# cuDNN\n",
    "# https://developer.nvidia.com/cudnn"
   ]
  },
  {
   "cell_type": "code",
   "execution_count": 94,
   "id": "6571df24",
   "metadata": {},
   "outputs": [
    {
     "name": "stdout",
     "output_type": "stream",
     "text": [
      "Num GPUs Available:  0\n"
     ]
    }
   ],
   "source": [
    "import tensorflow as tf\n",
    "\n",
    "# TensorFlow가 GPU를 인식하는지 확인\n",
    "print(\"Num GPUs Available: \", len(tf.config.experimental.list_physical_devices('GPU')))"
   ]
  },
  {
   "cell_type": "markdown",
   "id": "9c76e01a",
   "metadata": {},
   "source": [
    "# Import and Load"
   ]
  },
  {
   "cell_type": "code",
   "execution_count": 45,
   "id": "90b02785",
   "metadata": {},
   "outputs": [],
   "source": [
    "from typing import Any\n",
    "from tqdm import tqdm\n",
    "import pandas as pd\n",
    "import numpy as np\n",
    "import seaborn as sns\n",
    "import matplotlib.pyplot as plt\n",
    "import warnings\n",
    "\n",
    "warnings.filterwarnings(action=\"ignore\")\n",
    "plt.rc('font', family=\"Malgun Gothic\")"
   ]
  },
  {
   "cell_type": "code",
   "execution_count": 147,
   "id": "600c1a40",
   "metadata": {},
   "outputs": [],
   "source": [
    "preprocess_file = \"../data/preprocessing.csv\"\n",
    "df_pp = pd.read_csv(preprocess_file)\n",
    "\n",
    "df_test_1 = pd.read_csv(\"../원본 데이터/test240227_ver315.csv\")"
   ]
  },
  {
   "cell_type": "code",
   "execution_count": 47,
   "id": "2886befc",
   "metadata": {},
   "outputs": [
    {
     "data": {
      "text/plain": [
       "0              Mount Wario\n",
       "1          Dragon Driftway\n",
       "2              Mount Wario\n",
       "3            3DS DK Jungle\n",
       "4        DS Wario Stardium\n",
       "              ...         \n",
       "615       DS Mario Circuit\n",
       "616    Wii Grumble Volcano\n",
       "617     GC Yoshi's Circuit\n",
       "618    DS Walluigi Pinball\n",
       "619          Mario Circuit\n",
       "Name: track_E, Length: 620, dtype: object"
      ]
     },
     "execution_count": 47,
     "metadata": {},
     "output_type": "execute_result"
    }
   ],
   "source": [
    "df_pp['track_E']"
   ]
  },
  {
   "cell_type": "markdown",
   "id": "9182685a",
   "metadata": {},
   "source": [
    "# AI formula Preprocessing Function"
   ]
  },
  {
   "cell_type": "code",
   "execution_count": 135,
   "id": "ae5b8a99",
   "metadata": {},
   "outputs": [],
   "source": [
    "from sklearn.base import BaseEstimator\n",
    "from sklearn.ensemble import GradientBoostingClassifier\n",
    "from sklearn.ensemble import GradientBoostingRegressor\n",
    "from sklearn.model_selection import train_test_split"
   ]
  },
  {
   "cell_type": "code",
   "execution_count": 157,
   "id": "4549ca37",
   "metadata": {},
   "outputs": [],
   "source": [
    "drop_columns = [\n",
    "    'index', 'date', 'round', 'win_odds', 'lose_odds', 'track_E_encoded', 'prefix_rank',\n",
    "    'odds_result', 'significant', 'odds_result_SU', 'odds_result_UD',\n",
    "]\n",
    "remain_columns = [\n",
    "    'game_count', 'game_goal', 'cur_game_count', 'cc', 'part_people', 'track_E',\n",
    "    'rank', 'RESULT'\n",
    "]\n",
    "df_pp = pd.read_csv(preprocess_file)\n",
    "df_pp = df_pp.drop(drop_columns, axis=1)\n",
    "X = df_pp\n",
    "X, y_rank, y_result = X.drop(['rank', 'RESULT'], axis=1), X['rank'], X['RESULT'].astype(bool)"
   ]
  },
  {
   "cell_type": "code",
   "execution_count": 136,
   "id": "b34efa93",
   "metadata": {},
   "outputs": [],
   "source": [
    "def modeling(\n",
    "    X: pd.DataFrame,\n",
    "    y_rank: pd.Series=y_rank,\n",
    "    y_result: pd.Series=y_result\n",
    ") -> BaseEstimator:\n",
    "    \n",
    "    clf = GradientBoostingClassifier()    \n",
    "    x_train, x_test, y_train, y_test = train_test_split(\n",
    "        X, y_result, test_size=0.2, random_state=42\n",
    "    )\n",
    "    clf.fit(x_train, y_train)\n",
    "    \n",
    "    reg = GradientBoostingRegressor()\n",
    "    x_train, x_test, y_train, y_test = train_test_split(\n",
    "        X, y_rank, test_size=0.2, random_state=42\n",
    "    )\n",
    "    reg.fit(x_train, y_train)\n",
    "    \n",
    "    return clf, reg"
   ]
  },
  {
   "cell_type": "markdown",
   "id": "d165cad5",
   "metadata": {},
   "source": [
    "# Label Encoding"
   ]
  },
  {
   "cell_type": "code",
   "execution_count": 48,
   "id": "090b2cb0",
   "metadata": {},
   "outputs": [],
   "source": [
    "from sklearn.preprocessing import LabelEncoder"
   ]
  },
  {
   "cell_type": "code",
   "execution_count": 49,
   "id": "b0b6988d",
   "metadata": {},
   "outputs": [],
   "source": [
    "# Load course data\n",
    "df_course = pd.read_csv(\"../data/course.csv\")\n",
    "\n",
    "# Generate label encoder\n",
    "label_encoder = LabelEncoder()\n",
    "encoded = label_encoder.fit_transform(df_course['track_name_E'])\n",
    "origin_classes = label_encoder.classes_\n",
    "\n",
    "# Generate course and encoded data dictionary\n",
    "cte = dict(zip(origin_classes, encoded))    # course_to_encoding\n",
    "etc = dict(zip(encoded, origin_classes))    # encoding_to_course"
   ]
  },
  {
   "cell_type": "markdown",
   "id": "9c65a779",
   "metadata": {},
   "source": [
    "# One Hot Encoding"
   ]
  },
  {
   "cell_type": "code",
   "execution_count": 50,
   "id": "056ab408",
   "metadata": {},
   "outputs": [],
   "source": [
    "from sklearn.preprocessing import OneHotEncoder\n",
    "from sklearn.preprocessing import StandardScaler"
   ]
  },
  {
   "cell_type": "code",
   "execution_count": 51,
   "id": "de73a2bf",
   "metadata": {},
   "outputs": [],
   "source": [
    "# Extract 'track_E' column\n",
    "df_track_E = df_pp[['track_E']]\n",
    "\n",
    "# Ohe Hot Encoding\n",
    "ohe = OneHotEncoder()\n",
    "df_encoded = ohe.fit_transform(df_track_E).toarray()\n",
    "\n",
    "# To transform ohe df, avgerage is 0 and variance is 1\n",
    "scaler = StandardScaler()\n",
    "scaled_data = scaler.fit_transform(df_encoded)"
   ]
  },
  {
   "cell_type": "markdown",
   "id": "407a07b2",
   "metadata": {},
   "source": [
    "# PCA"
   ]
  },
  {
   "cell_type": "code",
   "execution_count": 52,
   "id": "4a7e19f9",
   "metadata": {},
   "outputs": [],
   "source": [
    "from sklearn.decomposition import PCA"
   ]
  },
  {
   "cell_type": "code",
   "execution_count": 53,
   "id": "ceb1e621",
   "metadata": {},
   "outputs": [],
   "source": [
    "# dimension = 3\n",
    "# pca = PCA(n_components=dimension)\n",
    "# pca_result = pca.fit_transform(scaled_data)\n",
    "# pca_result"
   ]
  },
  {
   "cell_type": "code",
   "execution_count": 54,
   "id": "4ad8c421",
   "metadata": {},
   "outputs": [
    {
     "data": {
      "text/plain": [
       "array([[-1.42521836e-12, -1.73041687e-01,  1.49932445e-12, ...,\n",
       "        -6.85713449e-14, -1.87813945e-12,  8.43117592e-15],\n",
       "       [-1.80096744e-12, -2.18087804e-01, -2.89608858e-12, ...,\n",
       "         4.17736571e-15, -1.67127789e-12, -2.43301204e-14],\n",
       "       [-1.42582634e-12, -1.73041687e-01,  1.49916977e-12, ...,\n",
       "        -6.90320573e-14, -1.87778514e-12, -5.10737963e-15],\n",
       "       ...,\n",
       "       [-2.06788261e-12, -2.18087804e-01, -1.05201420e-12, ...,\n",
       "        -1.22233604e-14, -1.64332792e-12,  1.97056297e-15],\n",
       "       [-3.57878664e-12, -4.57410498e-01,  8.51089745e-12, ...,\n",
       "        -5.67504775e-15, -1.28103383e-12,  2.44760107e-16],\n",
       "       [-9.04600211e-12, -1.01964118e+00, -4.54660777e+00, ...,\n",
       "         6.72577912e-14, -1.27536372e-12, -9.22380074e-16]])"
      ]
     },
     "execution_count": 54,
     "metadata": {},
     "output_type": "execute_result"
    }
   ],
   "source": [
    "pca = PCA()\n",
    "pca.fit_transform(scaled_data)"
   ]
  },
  {
   "cell_type": "markdown",
   "id": "25f711bf",
   "metadata": {},
   "source": [
    "# Scree Plot"
   ]
  },
  {
   "cell_type": "code",
   "execution_count": 55,
   "id": "cd0efd35",
   "metadata": {},
   "outputs": [
    {
     "data": {
      "image/png": "[encoded data removed]",
      "text/plain": [
       "<Figure size 640x480 with 1 Axes>"
      ]
     },
     "metadata": {},
     "output_type": "display_data"
    }
   ],
   "source": [
    "# 설명된 분산 비율 시각화\n",
    "explained_variance = pca.explained_variance_ratio_\n",
    "cumulative_explained_variance = explained_variance.cumsum()\n",
    "\n",
    "plt.plot(range(1, len(explained_variance) + 1), cumulative_explained_variance, marker='o')\n",
    "plt.xlabel('Number of Components')\n",
    "plt.ylabel('Cumulative Explained Variance')\n",
    "plt.title('Explained Variance by Principal Components')\n",
    "plt.grid(True)\n",
    "plt.show()"
   ]
  },
  {
   "cell_type": "code",
   "execution_count": 56,
   "id": "aba37bc9",
   "metadata": {},
   "outputs": [
    {
     "name": "stdout",
     "output_type": "stream",
     "text": [
      "Number of components explaining 5% variance: 5\n",
      "Number of components explaining 10% variance: 9\n",
      "Number of components explaining 15% variance: 14\n",
      "Number of components explaining 20% variance: 18\n",
      "Number of components explaining 25% variance: 23\n",
      "Number of components explaining 30% variance: 27\n",
      "Number of components explaining 35% variance: 32\n",
      "Number of components explaining 40% variance: 36\n",
      "Number of components explaining 45% variance: 41\n",
      "Number of components explaining 50% variance: 45\n",
      "Number of components explaining 55% variance: 50\n",
      "Number of components explaining 60% variance: 54\n",
      "Number of components explaining 65% variance: 59\n",
      "Number of components explaining 70% variance: 63\n",
      "Number of components explaining 75% variance: 68\n",
      "Number of components explaining 80% variance: 72\n",
      "Number of components explaining 85% variance: 77\n",
      "Number of components explaining 90% variance: 81\n",
      "Number of components explaining 95% variance: 86\n",
      "Number of components explaining 100% variance: 90\n"
     ]
    }
   ],
   "source": [
    "# 90%와 95% 설명 분산 비율을 달성하는 주성분 수\n",
    "for ratio in range(5, 100 + 1, 5):\n",
    "    n_components_ratio = next(i for i, total in enumerate(cumulative_explained_variance) if total >= 0.01 * ratio) + 1\n",
    "    print(f'Number of components explaining {ratio}% variance: {n_components_ratio}')"
   ]
  },
  {
   "cell_type": "markdown",
   "id": "394d6d46",
   "metadata": {},
   "source": [
    "# Sparse Matrix Dimension Reduction"
   ]
  },
  {
   "cell_type": "code",
   "execution_count": 57,
   "id": "a1643581",
   "metadata": {},
   "outputs": [],
   "source": [
    "dimensions = 3\n",
    "sparse_matrix = df_encoded\n",
    "original_data = df_track_E"
   ]
  },
  {
   "cell_type": "markdown",
   "id": "4515d2b8",
   "metadata": {},
   "source": [
    "# Truncated SVD (Latent Semantic Analysis)"
   ]
  },
  {
   "cell_type": "code",
   "execution_count": 58,
   "id": "6b54bcba",
   "metadata": {},
   "outputs": [],
   "source": [
    "from sklearn.decomposition import TruncatedSVD"
   ]
  },
  {
   "cell_type": "code",
   "execution_count": 59,
   "id": "b2ebe301",
   "metadata": {},
   "outputs": [],
   "source": [
    "svd = TruncatedSVD(n_components=dimensions)\n",
    "reduced_data = svd.fit_transform(sparse_matrix)"
   ]
  },
  {
   "cell_type": "markdown",
   "id": "80fcf395",
   "metadata": {},
   "source": [
    "### Scree Plot"
   ]
  },
  {
   "cell_type": "code",
   "execution_count": 60,
   "id": "a73323d8",
   "metadata": {},
   "outputs": [
    {
     "data": {
      "text/html": [
       "<style>#sk-container-id-2 {color: black;background-color: white;}#sk-container-id-2 pre{padding: 0;}#sk-container-id-2 div.sk-toggleable {background-color: white;}#sk-container-id-2 label.sk-toggleable__label {cursor: pointer;display: block;width: 100%;margin-bottom: 0;padding: 0.3em;box-sizing: border-box;text-align: center;}#sk-container-id-2 label.sk-toggleable__label-arrow:before {content: \"▸\";float: left;margin-right: 0.25em;color: #696969;}#sk-container-id-2 label.sk-toggleable__label-arrow:hover:before {color: black;}#sk-container-id-2 div.sk-estimator:hover label.sk-toggleable__label-arrow:before {color: black;}#sk-container-id-2 div.sk-toggleable__content {max-height: 0;max-width: 0;overflow: hidden;text-align: left;background-color: #f0f8ff;}#sk-container-id-2 div.sk-toggleable__content pre {margin: 0.2em;color: black;border-radius: 0.25em;background-color: #f0f8ff;}#sk-container-id-2 input.sk-toggleable__control:checked~div.sk-toggleable__content {max-height: 200px;max-width: 100%;overflow: auto;}#sk-container-id-2 input.sk-toggleable__control:checked~label.sk-toggleable__label-arrow:before {content: \"▾\";}#sk-container-id-2 div.sk-estimator input.sk-toggleable__control:checked~label.sk-toggleable__label {background-color: #d4ebff;}#sk-container-id-2 div.sk-label input.sk-toggleable__control:checked~label.sk-toggleable__label {background-color: #d4ebff;}#sk-container-id-2 input.sk-hidden--visually {border: 0;clip: rect(1px 1px 1px 1px);clip: rect(1px, 1px, 1px, 1px);height: 1px;margin: -1px;overflow: hidden;padding: 0;position: absolute;width: 1px;}#sk-container-id-2 div.sk-estimator {font-family: monospace;background-color: #f0f8ff;border: 1px dotted black;border-radius: 0.25em;box-sizing: border-box;margin-bottom: 0.5em;}#sk-container-id-2 div.sk-estimator:hover {background-color: #d4ebff;}#sk-container-id-2 div.sk-parallel-item::after {content: \"\";width: 100%;border-bottom: 1px solid gray;flex-grow: 1;}#sk-container-id-2 div.sk-label:hover label.sk-toggleable__label {background-color: #d4ebff;}#sk-container-id-2 div.sk-serial::before {content: \"\";position: absolute;border-left: 1px solid gray;box-sizing: border-box;top: 0;bottom: 0;left: 50%;z-index: 0;}#sk-container-id-2 div.sk-serial {display: flex;flex-direction: column;align-items: center;background-color: white;padding-right: 0.2em;padding-left: 0.2em;position: relative;}#sk-container-id-2 div.sk-item {position: relative;z-index: 1;}#sk-container-id-2 div.sk-parallel {display: flex;align-items: stretch;justify-content: center;background-color: white;position: relative;}#sk-container-id-2 div.sk-item::before, #sk-container-id-2 div.sk-parallel-item::before {content: \"\";position: absolute;border-left: 1px solid gray;box-sizing: border-box;top: 0;bottom: 0;left: 50%;z-index: -1;}#sk-container-id-2 div.sk-parallel-item {display: flex;flex-direction: column;z-index: 1;position: relative;background-color: white;}#sk-container-id-2 div.sk-parallel-item:first-child::after {align-self: flex-end;width: 50%;}#sk-container-id-2 div.sk-parallel-item:last-child::after {align-self: flex-start;width: 50%;}#sk-container-id-2 div.sk-parallel-item:only-child::after {width: 0;}#sk-container-id-2 div.sk-dashed-wrapped {border: 1px dashed gray;margin: 0 0.4em 0.5em 0.4em;box-sizing: border-box;padding-bottom: 0.4em;background-color: white;}#sk-container-id-2 div.sk-label label {font-family: monospace;font-weight: bold;display: inline-block;line-height: 1.2em;}#sk-container-id-2 div.sk-label-container {text-align: center;}#sk-container-id-2 div.sk-container {/* jupyter's `normalize.less` sets `[hidden] { display: none; }` but bootstrap.min.css set `[hidden] { display: none !important; }` so we also need the `!important` here to be able to override the default hidden behavior on the sphinx rendered scikit-learn.org. See: https://github.com/scikit-learn/scikit-learn/issues/21755 */display: inline-block !important;position: relative;}#sk-container-id-2 div.sk-text-repr-fallback {display: none;}</style><div id=\"sk-container-id-2\" class=\"sk-top-container\"><div class=\"sk-text-repr-fallback\"><pre>TruncatedSVD(n_components=90)</pre><b>In a Jupyter environment, please rerun this cell to show the HTML representation or trust the notebook. <br />On GitHub, the HTML representation is unable to render, please try loading this page with nbviewer.org.</b></div><div class=\"sk-container\" hidden><div class=\"sk-item\"><div class=\"sk-estimator sk-toggleable\"><input class=\"sk-toggleable__control sk-hidden--visually\" id=\"sk-estimator-id-2\" type=\"checkbox\" checked><label for=\"sk-estimator-id-2\" class=\"sk-toggleable__label sk-toggleable__label-arrow\">TruncatedSVD</label><div class=\"sk-toggleable__content\"><pre>TruncatedSVD(n_components=90)</pre></div></div></div></div></div>"
      ],
      "text/plain": [
       "TruncatedSVD(n_components=90)"
      ]
     },
     "execution_count": 60,
     "metadata": {},
     "output_type": "execute_result"
    }
   ],
   "source": [
    "svd = TruncatedSVD(n_components=sparse_matrix.shape[1] - 1)\n",
    "svd.fit(sparse_matrix)"
   ]
  },
  {
   "cell_type": "code",
   "execution_count": 61,
   "id": "0339df33",
   "metadata": {},
   "outputs": [
    {
     "data": {
      "image/png": "[encoded data removed]",
      "text/plain": [
       "<Figure size 640x480 with 1 Axes>"
      ]
     },
     "metadata": {},
     "output_type": "display_data"
    }
   ],
   "source": [
    "explained_variance = svd.explained_variance_ratio_\n",
    "cumulative_explained_variance = explained_variance.cumsum()\n",
    "\n",
    "plt.plot(\n",
    "    range(1, len(cumulative_explained_variance) + 1),\n",
    "    cumulative_explained_variance, marker='o'\n",
    ")\n",
    "plt.xlabel('Number of Components')\n",
    "plt.ylabel('Cumulative Explained Variance')\n",
    "plt.title('Truncated SVD - Scree Plot')\n",
    "plt.grid(True)\n",
    "plt.show()"
   ]
  },
  {
   "cell_type": "markdown",
   "id": "a587586f",
   "metadata": {},
   "source": [
    "# Non-Negative Matrix Factorization (NMF)"
   ]
  },
  {
   "cell_type": "code",
   "execution_count": 62,
   "id": "e9365437",
   "metadata": {},
   "outputs": [],
   "source": [
    "from sklearn.decomposition import NMF"
   ]
  },
  {
   "cell_type": "code",
   "execution_count": 63,
   "id": "5cf2d71e",
   "metadata": {},
   "outputs": [],
   "source": [
    "nmf = NMF(n_components=dimensions)\n",
    "reduced_data = nmf.fit_transform(sparse_matrix)"
   ]
  },
  {
   "cell_type": "markdown",
   "id": "a6c84826",
   "metadata": {},
   "source": [
    "### Reconstruction Error"
   ]
  },
  {
   "cell_type": "code",
   "execution_count": 64,
   "id": "e24a4aae",
   "metadata": {},
   "outputs": [
    {
     "data": {
      "image/png": "[encoded data removed]",
      "text/plain": [
       "<Figure size 640x480 with 1 Axes>"
      ]
     },
     "metadata": {},
     "output_type": "display_data"
    }
   ],
   "source": [
    "# 재구성 오차 저장 리스트\n",
    "reconstruction_errors = []\n",
    "\n",
    "# 여러 차원 수에 대한 NMF 실행\n",
    "for n in range(1, sparse_matrix.shape[1] + 1):\n",
    "    nmf = NMF(n_components=n, init='random', random_state=0)\n",
    "    W = nmf.fit_transform(sparse_matrix)\n",
    "    H = nmf.components_\n",
    "    reconstruction = W @ H\n",
    "    error = np.linalg.norm(sparse_matrix - reconstruction, 'fro')\n",
    "    reconstruction_errors.append(error)\n",
    "\n",
    "# 재구성 오차 플롯\n",
    "plt.plot(range(1, sparse_matrix.shape[1] + 1), reconstruction_errors, marker='o')\n",
    "plt.xlabel('Number of Components')\n",
    "plt.ylabel('Reconstruction Error')\n",
    "plt.title('NMF - Reconstruction Error')\n",
    "plt.grid(True)\n",
    "plt.show()"
   ]
  },
  {
   "cell_type": "markdown",
   "id": "74097fad",
   "metadata": {},
   "source": [
    "# Autoencoder"
   ]
  },
  {
   "cell_type": "code",
   "execution_count": 65,
   "id": "cb7427aa",
   "metadata": {},
   "outputs": [],
   "source": [
    "from tensorflow.keras.models import Model\n",
    "from tensorflow.keras.layers import Input, Dense\n",
    "from tensorflow.keras.optimizers import Adam"
   ]
  },
  {
   "cell_type": "code",
   "execution_count": 66,
   "id": "0291c886",
   "metadata": {
    "collapsed": true
   },
   "outputs": [
    {
     "name": "stdout",
     "output_type": "stream",
     "text": [
      "Epoch 1/50\n",
      "2/2 [==============================] - 0s 98ms/step - loss: 0.2502 - val_loss: 0.2497\n",
      "Epoch 2/50\n",
      "2/2 [==============================] - 0s 26ms/step - loss: 0.2496 - val_loss: 0.2491\n",
      "Epoch 3/50\n",
      "2/2 [==============================] - 0s 28ms/step - loss: 0.2490 - val_loss: 0.2486\n",
      "Epoch 4/50\n",
      "2/2 [==============================] - 0s 26ms/step - loss: 0.2485 - val_loss: 0.2480\n",
      "Epoch 5/50\n",
      "2/2 [==============================] - 0s 25ms/step - loss: 0.2479 - val_loss: 0.2475\n",
      "Epoch 6/50\n",
      "2/2 [==============================] - 0s 26ms/step - loss: 0.2473 - val_loss: 0.2469\n",
      "Epoch 7/50\n",
      "2/2 [==============================] - 0s 26ms/step - loss: 0.2468 - val_loss: 0.2464\n",
      "Epoch 8/50\n",
      "2/2 [==============================] - 0s 52ms/step - loss: 0.2462 - val_loss: 0.2458\n",
      "Epoch 9/50\n",
      "2/2 [==============================] - 0s 26ms/step - loss: 0.2457 - val_loss: 0.2453\n",
      "Epoch 10/50\n",
      "2/2 [==============================] - 0s 54ms/step - loss: 0.2451 - val_loss: 0.2447\n",
      "Epoch 11/50\n",
      "2/2 [==============================] - 0s 28ms/step - loss: 0.2445 - val_loss: 0.2441\n",
      "Epoch 12/50\n",
      "2/2 [==============================] - 0s 25ms/step - loss: 0.2440 - val_loss: 0.2436\n",
      "Epoch 13/50\n",
      "2/2 [==============================] - 0s 24ms/step - loss: 0.2434 - val_loss: 0.2430\n",
      "Epoch 14/50\n",
      "2/2 [==============================] - 0s 27ms/step - loss: 0.2428 - val_loss: 0.2424\n",
      "Epoch 15/50\n",
      "2/2 [==============================] - 0s 24ms/step - loss: 0.2422 - val_loss: 0.2418\n",
      "Epoch 16/50\n",
      "2/2 [==============================] - 0s 26ms/step - loss: 0.2416 - val_loss: 0.2412\n",
      "Epoch 17/50\n",
      "2/2 [==============================] - 0s 26ms/step - loss: 0.2410 - val_loss: 0.2407\n",
      "Epoch 18/50\n",
      "2/2 [==============================] - 0s 26ms/step - loss: 0.2404 - val_loss: 0.2400\n",
      "Epoch 19/50\n",
      "2/2 [==============================] - 0s 29ms/step - loss: 0.2398 - val_loss: 0.2394\n",
      "Epoch 20/50\n",
      "2/2 [==============================] - 0s 25ms/step - loss: 0.2392 - val_loss: 0.2388\n",
      "Epoch 21/50\n",
      "2/2 [==============================] - 0s 28ms/step - loss: 0.2385 - val_loss: 0.2382\n",
      "Epoch 22/50\n",
      "2/2 [==============================] - 0s 26ms/step - loss: 0.2379 - val_loss: 0.2376\n",
      "Epoch 23/50\n",
      "2/2 [==============================] - 0s 27ms/step - loss: 0.2372 - val_loss: 0.2369\n",
      "Epoch 24/50\n",
      "2/2 [==============================] - 0s 51ms/step - loss: 0.2366 - val_loss: 0.2363\n",
      "Epoch 25/50\n",
      "2/2 [==============================] - 0s 26ms/step - loss: 0.2359 - val_loss: 0.2356\n",
      "Epoch 26/50\n",
      "2/2 [==============================] - 0s 55ms/step - loss: 0.2352 - val_loss: 0.2349\n",
      "Epoch 27/50\n",
      "2/2 [==============================] - 0s 24ms/step - loss: 0.2345 - val_loss: 0.2342\n",
      "Epoch 28/50\n",
      "2/2 [==============================] - 0s 29ms/step - loss: 0.2338 - val_loss: 0.2335\n",
      "Epoch 29/50\n",
      "2/2 [==============================] - 0s 25ms/step - loss: 0.2330 - val_loss: 0.2328\n",
      "Epoch 30/50\n",
      "2/2 [==============================] - 0s 26ms/step - loss: 0.2323 - val_loss: 0.2321\n",
      "Epoch 31/50\n",
      "2/2 [==============================] - 0s 25ms/step - loss: 0.2315 - val_loss: 0.2313\n",
      "Epoch 32/50\n",
      "2/2 [==============================] - 0s 25ms/step - loss: 0.2307 - val_loss: 0.2306\n",
      "Epoch 33/50\n",
      "2/2 [==============================] - 0s 27ms/step - loss: 0.2300 - val_loss: 0.2298\n",
      "Epoch 34/50\n",
      "2/2 [==============================] - 0s 26ms/step - loss: 0.2292 - val_loss: 0.2290\n",
      "Epoch 35/50\n",
      "2/2 [==============================] - 0s 24ms/step - loss: 0.2283 - val_loss: 0.2282\n",
      "Epoch 36/50\n",
      "2/2 [==============================] - 0s 25ms/step - loss: 0.2275 - val_loss: 0.2274\n",
      "Epoch 37/50\n",
      "2/2 [==============================] - 0s 25ms/step - loss: 0.2267 - val_loss: 0.2266\n",
      "Epoch 38/50\n",
      "2/2 [==============================] - 0s 24ms/step - loss: 0.2258 - val_loss: 0.2258\n",
      "Epoch 39/50\n",
      "2/2 [==============================] - 0s 26ms/step - loss: 0.2249 - val_loss: 0.2249\n",
      "Epoch 40/50\n",
      "2/2 [==============================] - 0s 25ms/step - loss: 0.2240 - val_loss: 0.2241\n",
      "Epoch 41/50\n",
      "2/2 [==============================] - 0s 26ms/step - loss: 0.2231 - val_loss: 0.2232\n",
      "Epoch 42/50\n",
      "2/2 [==============================] - 0s 25ms/step - loss: 0.2222 - val_loss: 0.2223\n",
      "Epoch 43/50\n",
      "2/2 [==============================] - 0s 24ms/step - loss: 0.2212 - val_loss: 0.2214\n",
      "Epoch 44/50\n",
      "2/2 [==============================] - 0s 26ms/step - loss: 0.2203 - val_loss: 0.2205\n",
      "Epoch 45/50\n",
      "2/2 [==============================] - 0s 27ms/step - loss: 0.2193 - val_loss: 0.2195\n",
      "Epoch 46/50\n",
      "2/2 [==============================] - 0s 23ms/step - loss: 0.2183 - val_loss: 0.2186\n",
      "Epoch 47/50\n",
      "2/2 [==============================] - 0s 25ms/step - loss: 0.2173 - val_loss: 0.2176\n",
      "Epoch 48/50\n",
      "2/2 [==============================] - 0s 25ms/step - loss: 0.2162 - val_loss: 0.2166\n",
      "Epoch 49/50\n",
      "2/2 [==============================] - 0s 26ms/step - loss: 0.2152 - val_loss: 0.2156\n",
      "Epoch 50/50\n",
      "2/2 [==============================] - 0s 27ms/step - loss: 0.2141 - val_loss: 0.2146\n"
     ]
    },
    {
     "data": {
      "text/plain": [
       "<keras.src.callbacks.History at 0x1ae9a570e50>"
      ]
     },
     "execution_count": 66,
     "metadata": {},
     "output_type": "execute_result"
    }
   ],
   "source": [
    "input_dim = sparse_matrix.shape[1]    # 입력 차원 설정\n",
    "encoding_dim = dimensions    # 차원 축소 후의 차원\n",
    "\n",
    "# 인코더 정의\n",
    "input_layer = Input(shape=(input_dim, ))\n",
    "encoded = Dense(encoding_dim, activation='relu')(input_layer)\n",
    "\n",
    "# 디코더 정의\n",
    "decoded = Dense(input_dim, activation='sigmoid')(encoded)\n",
    "\n",
    "# Autoencoder 모델\n",
    "autoencoder = Model(inputs=input_layer, outputs=decoded)\n",
    "\n",
    "# 인코더 모델\n",
    "encoder = Model(inputs=input_layer, outputs=encoded)\n",
    "\n",
    "# 컴파일 및 학습\n",
    "autoencoder.compile(optimizer=Adam(learning_rate=0.001), loss='mean_squared_error')\n",
    "autoencoder.fit(sparse_matrix, sparse_matrix,\n",
    "               epochs=50,\n",
    "               batch_size=256,\n",
    "               shuffle=True,\n",
    "               validation_split=0.2)"
   ]
  },
  {
   "cell_type": "code",
   "execution_count": 67,
   "id": "45c066df",
   "metadata": {
    "scrolled": true
   },
   "outputs": [
    {
     "name": "stdout",
     "output_type": "stream",
     "text": [
      "20/20 [==============================] - 0s 842us/step\n"
     ]
    }
   ],
   "source": [
    "reduced_data = encoder.predict(sparse_matrix)"
   ]
  },
  {
   "cell_type": "markdown",
   "id": "54dd6434",
   "metadata": {},
   "source": [
    "### Reconstruction Error"
   ]
  },
  {
   "cell_type": "code",
   "execution_count": 68,
   "id": "8b32fc11",
   "metadata": {
    "collapsed": true
   },
   "outputs": [
    {
     "name": "stdout",
     "output_type": "stream",
     "text": [
      "20/20 [==============================] - 0s 895us/step\n",
      "20/20 [==============================] - 0s 895us/step\n",
      "20/20 [==============================] - 0s 842us/step\n",
      "20/20 [==============================] - 0s 898us/step\n",
      "20/20 [==============================] - 0s 789us/step\n",
      "20/20 [==============================] - 0s 895us/step\n",
      "20/20 [==============================] - 0s 816us/step\n",
      "20/20 [==============================] - 0s 842us/step\n",
      "20/20 [==============================] - 0s 921us/step\n",
      "20/20 [==============================] - 0s 842us/step\n",
      "20/20 [==============================] - 0s 842us/step\n",
      "20/20 [==============================] - 0s 842us/step\n",
      "20/20 [==============================] - 0s 842us/step\n",
      "20/20 [==============================] - 0s 842us/step\n",
      "20/20 [==============================] - 0s 840us/step\n",
      "20/20 [==============================] - 0s 816us/step\n",
      "20/20 [==============================] - 0s 895us/step\n",
      "20/20 [==============================] - 0s 921us/step\n",
      "20/20 [==============================] - 0s 947us/step\n",
      "20/20 [==============================] - 0s 842us/step\n",
      "20/20 [==============================] - 0s 845us/step\n",
      "20/20 [==============================] - 0s 842us/step\n",
      "20/20 [==============================] - 0s 869us/step\n",
      "20/20 [==============================] - 0s 895us/step\n",
      "20/20 [==============================] - 0s 842us/step\n",
      "20/20 [==============================] - 0s 895us/step\n",
      "20/20 [==============================] - 0s 869us/step\n",
      "20/20 [==============================] - 0s 842us/step\n",
      "20/20 [==============================] - 0s 842us/step\n",
      "20/20 [==============================] - 0s 842us/step\n",
      "20/20 [==============================] - 0s 816us/step\n",
      "20/20 [==============================] - 0s 842us/step\n",
      "20/20 [==============================] - 0s 869us/step\n",
      "20/20 [==============================] - 0s 842us/step\n",
      "20/20 [==============================] - 0s 842us/step\n",
      "20/20 [==============================] - 0s 842us/step\n",
      "20/20 [==============================] - 0s 869us/step\n",
      "20/20 [==============================] - 0s 842us/step\n",
      "20/20 [==============================] - 0s 895us/step\n",
      "20/20 [==============================] - 0s 842us/step\n",
      "20/20 [==============================] - 0s 842us/step\n",
      "20/20 [==============================] - 0s 789us/step\n",
      "20/20 [==============================] - 0s 895us/step\n",
      "20/20 [==============================] - 0s 895us/step\n",
      "20/20 [==============================] - 0s 895us/step\n",
      "20/20 [==============================] - 0s 895us/step\n",
      "20/20 [==============================] - 0s 947us/step\n",
      "20/20 [==============================] - 0s 816us/step\n",
      "20/20 [==============================] - 0s 842us/step\n",
      "20/20 [==============================] - 0s 895us/step\n",
      "20/20 [==============================] - 0s 895us/step\n",
      "20/20 [==============================] - 0s 895us/step\n",
      "20/20 [==============================] - 0s 895us/step\n",
      "20/20 [==============================] - 0s 842us/step\n",
      "20/20 [==============================] - 0s 895us/step\n",
      "20/20 [==============================] - 0s 895us/step\n",
      "20/20 [==============================] - 0s 894us/step\n",
      "20/20 [==============================] - 0s 790us/step\n",
      "20/20 [==============================] - 0s 844us/step\n",
      "20/20 [==============================] - 0s 842us/step\n",
      "20/20 [==============================] - 0s 842us/step\n",
      "20/20 [==============================] - 0s 840us/step\n",
      "20/20 [==============================] - 0s 869us/step\n",
      "20/20 [==============================] - 0s 842us/step\n",
      "20/20 [==============================] - 0s 842us/step\n",
      "20/20 [==============================] - 0s 842us/step\n",
      "20/20 [==============================] - 0s 842us/step\n",
      "20/20 [==============================] - 0s 842us/step\n",
      "20/20 [==============================] - 0s 895us/step\n",
      "20/20 [==============================] - 0s 895us/step\n",
      "20/20 [==============================] - 0s 869us/step\n",
      "20/20 [==============================] - 0s 842us/step\n",
      "20/20 [==============================] - 0s 842us/step\n",
      "20/20 [==============================] - 0s 895us/step\n",
      "20/20 [==============================] - 0s 842us/step\n",
      "20/20 [==============================] - 0s 901us/step\n",
      "20/20 [==============================] - 0s 895us/step\n",
      "20/20 [==============================] - 0s 816us/step\n",
      "20/20 [==============================] - 0s 842us/step\n",
      "20/20 [==============================] - 0s 895us/step\n",
      "20/20 [==============================] - 0s 947us/step\n",
      "20/20 [==============================] - 0s 869us/step\n",
      "20/20 [==============================] - 0s 947us/step\n",
      "20/20 [==============================] - 0s 895us/step\n",
      "20/20 [==============================] - 0s 895us/step\n",
      "20/20 [==============================] - 0s 892us/step\n",
      "20/20 [==============================] - 0s 844us/step\n",
      "20/20 [==============================] - 0s 842us/step\n",
      "20/20 [==============================] - 0s 842us/step\n",
      "20/20 [==============================] - 0s 842us/step\n",
      "20/20 [==============================] - 0s 895us/step\n"
     ]
    }
   ],
   "source": [
    "# 차원 수별 재구성 오차 저장 리스트\n",
    "reconstruction_errors = []\n",
    "\n",
    "# 여러 차원 수에 대한 Autoencoder 실행\n",
    "for encoding_dim in range(1, sparse_matrix.shape[1] + 1):\n",
    "    # Autoencoder 모델 정의\n",
    "    input_layer = Input(shape=(sparse_matrix.shape[1],))\n",
    "    encoded = Dense(encoding_dim, activation='relu')(input_layer)\n",
    "    decoded = Dense(sparse_matrix.shape[1], activation='sigmoid')(encoded)\n",
    "    autoencoder = Model(inputs=input_layer, outputs=decoded)\n",
    "    \n",
    "    # 모델 컴파일 및 학습\n",
    "    autoencoder.compile(optimizer=Adam(learning_rate=0.001), loss='mean_squared_error')\n",
    "    autoencoder.fit(sparse_matrix, sparse_matrix, epochs=10, batch_size=256, shuffle=True, validation_split=0.2, verbose=0)\n",
    "    \n",
    "    # 재구성 오차 계산\n",
    "    reconstructed = autoencoder.predict(sparse_matrix)\n",
    "    error = np.mean(np.square(sparse_matrix - reconstructed))\n",
    "    reconstruction_errors.append(error)"
   ]
  },
  {
   "cell_type": "code",
   "execution_count": 69,
   "id": "91338b05",
   "metadata": {
    "scrolled": false
   },
   "outputs": [
    {
     "data": {
      "image/png": "[encoded data removed]",
      "text/plain": [
       "<Figure size 640x480 with 1 Axes>"
      ]
     },
     "metadata": {},
     "output_type": "display_data"
    }
   ],
   "source": [
    "# 재구성 오차 플롯\n",
    "plt.plot(range(1, sparse_matrix.shape[1] + 1), reconstruction_errors, marker='o')\n",
    "plt.xlabel('Number of Components')\n",
    "plt.ylabel('Reconstruction Error')\n",
    "plt.title('Autoencoder - Reconstruction Error')\n",
    "plt.grid(True)\n",
    "plt.show()"
   ]
  },
  {
   "cell_type": "markdown",
   "id": "00f0a73e",
   "metadata": {},
   "source": [
    "# Feature Hashing (Hashing Trick)"
   ]
  },
  {
   "cell_type": "code",
   "execution_count": 70,
   "id": "9a4ea75c",
   "metadata": {},
   "outputs": [],
   "source": [
    "from sklearn.feature_extraction.text import FeatureHasher"
   ]
  },
  {
   "cell_type": "code",
   "execution_count": 71,
   "id": "f37b667e",
   "metadata": {},
   "outputs": [],
   "source": [
    "hasher = FeatureHasher(n_features=dimensions, input_type='dict')\n",
    "hashed_data = hasher.transform(original_data.to_dict(orient='records'))"
   ]
  },
  {
   "cell_type": "code",
   "execution_count": 72,
   "id": "1b3e1685",
   "metadata": {},
   "outputs": [
    {
     "data": {
      "text/plain": [
       "array([[-1.,  0.,  0.],\n",
       "       [ 0.,  0., -1.],\n",
       "       [-1.,  0.,  0.],\n",
       "       ...,\n",
       "       [ 0., -1.,  0.],\n",
       "       [ 0., -1.,  0.],\n",
       "       [ 0.,  1.,  0.]])"
      ]
     },
     "execution_count": 72,
     "metadata": {},
     "output_type": "execute_result"
    }
   ],
   "source": [
    "hashed_data.toarray()"
   ]
  },
  {
   "cell_type": "markdown",
   "id": "26e63bfa",
   "metadata": {},
   "source": [
    "# Frequency Encoding"
   ]
  },
  {
   "cell_type": "code",
   "execution_count": 90,
   "id": "1f699621",
   "metadata": {},
   "outputs": [
    {
     "data": {
      "text/html": [
       "<div>\n",
       "<style scoped>\n",
       "    .dataframe tbody tr th:only-of-type {\n",
       "        vertical-align: middle;\n",
       "    }\n",
       "\n",
       "    .dataframe tbody tr th {\n",
       "        vertical-align: top;\n",
       "    }\n",
       "\n",
       "    .dataframe thead th {\n",
       "        text-align: right;\n",
       "    }\n",
       "</style>\n",
       "<table border=\"1\" class=\"dataframe\">\n",
       "  <thead>\n",
       "    <tr style=\"text-align: right;\">\n",
       "      <th></th>\n",
       "      <th>track_E</th>\n",
       "    </tr>\n",
       "  </thead>\n",
       "  <tbody>\n",
       "    <tr>\n",
       "      <th>0</th>\n",
       "      <td>10</td>\n",
       "    </tr>\n",
       "    <tr>\n",
       "      <th>1</th>\n",
       "      <td>11</td>\n",
       "    </tr>\n",
       "    <tr>\n",
       "      <th>2</th>\n",
       "      <td>10</td>\n",
       "    </tr>\n",
       "    <tr>\n",
       "      <th>3</th>\n",
       "      <td>7</td>\n",
       "    </tr>\n",
       "    <tr>\n",
       "      <th>4</th>\n",
       "      <td>9</td>\n",
       "    </tr>\n",
       "    <tr>\n",
       "      <th>...</th>\n",
       "      <td>...</td>\n",
       "    </tr>\n",
       "    <tr>\n",
       "      <th>615</th>\n",
       "      <td>8</td>\n",
       "    </tr>\n",
       "    <tr>\n",
       "      <th>616</th>\n",
       "      <td>4</td>\n",
       "    </tr>\n",
       "    <tr>\n",
       "      <th>617</th>\n",
       "      <td>11</td>\n",
       "    </tr>\n",
       "    <tr>\n",
       "      <th>618</th>\n",
       "      <td>13</td>\n",
       "    </tr>\n",
       "    <tr>\n",
       "      <th>619</th>\n",
       "      <td>14</td>\n",
       "    </tr>\n",
       "  </tbody>\n",
       "</table>\n",
       "<p>620 rows × 1 columns</p>\n",
       "</div>"
      ],
      "text/plain": [
       "     track_E\n",
       "0         10\n",
       "1         11\n",
       "2         10\n",
       "3          7\n",
       "4          9\n",
       "..       ...\n",
       "615        8\n",
       "616        4\n",
       "617       11\n",
       "618       13\n",
       "619       14\n",
       "\n",
       "[620 rows x 1 columns]"
      ]
     },
     "execution_count": 90,
     "metadata": {},
     "output_type": "execute_result"
    }
   ],
   "source": [
    "frequency_encoding = df_track_E['track_E'].value_counts()\n",
    "encoded = df_track_E['track_E'].map(frequency_encoding)\n",
    "pd.DataFrame(encoded)"
   ]
  },
  {
   "cell_type": "code",
   "execution_count": 91,
   "id": "fb2f6098",
   "metadata": {},
   "outputs": [],
   "source": [
    "# 빈도(frequency)를 기준으로 인코딩 했을 때의 문제\n",
    "# 1. 데이터가 추가적으로 발생하면(마리오카트 게임을 한 판 했을 때) 빈도는 바로 달라진다.\n",
    "#    따라서 해당 빈도로 학습한 것에 대한 의미가 없어진다.\n",
    "# 2. 빈도가 달라질 때마다 주기적으로 재학습 시켜야 한다."
   ]
  },
  {
   "cell_type": "markdown",
   "id": "9578de4c",
   "metadata": {},
   "source": [
    "# Hash Encoding"
   ]
  },
  {
   "cell_type": "code",
   "execution_count": 110,
   "id": "8ad76f52",
   "metadata": {},
   "outputs": [],
   "source": [
    "import hashlib\n",
    "\n",
    "\n",
    "def hash_label_encoding(value: str, num_buckets=100) -> int:\n",
    "    return int(hashlib.sha256(value.encode('utf-8')).hexdigest(), 16) % num_buckets"
   ]
  },
  {
   "cell_type": "code",
   "execution_count": 170,
   "id": "59211f1b",
   "metadata": {
    "scrolled": false
   },
   "outputs": [],
   "source": [
    "encoded = pd.DataFrame(track_E['track_E'].apply(hash_label_encoding))\n",
    "X['track_E'] = encoded"
   ]
  },
  {
   "cell_type": "code",
   "execution_count": 167,
   "id": "7ff5a0a7",
   "metadata": {},
   "outputs": [],
   "source": [
    "drop_columns = list(set(df_test_1.columns.tolist()) - set(remain_columns))\n",
    "df_test = df_test_1.drop(drop_columns, axis=1)\n",
    "test_x, test_rank, test_result = (\n",
    "    df_test.drop(['rank', 'RESULT'], axis=1), df_test['rank'], df_test['RESULT'].astype(bool)\n",
    ")\n",
    "test_x['track_E'] = test_x['track_E'].apply(hash_label_encoding)"
   ]
  },
  {
   "cell_type": "code",
   "execution_count": 175,
   "id": "9aaa7141",
   "metadata": {},
   "outputs": [],
   "source": [
    "clf, reg = modeling(X)\n",
    "\n",
    "clf_pred = clf.predict_proba(test_x)\n",
    "reg_pred = reg.predict(test_x)"
   ]
  },
  {
   "cell_type": "code",
   "execution_count": 187,
   "id": "9360b734",
   "metadata": {},
   "outputs": [
    {
     "name": "stdout",
     "output_type": "stream",
     "text": [
      " 성공 15% 실패 85% / 예측값: False, 실제값: False\n",
      " 성공 46% 실패 54% / 예측값: False, 실제값: False\n",
      " 성공 32% 실패 68% / 예측값: False, 실제값: False\n",
      " 성공 16% 실패 84% / 예측값: False, 실제값: False\n",
      " 성공 16% 실패 84% / 예측값: False, 실제값: False\n",
      " 성공 26% 실패 74% / 예측값: False, 실제값: False\n",
      " 성공 20% 실패 80% / 예측값: False, 실제값: False\n",
      " 성공 16% 실패 84% / 예측값: False, 실제값: False\n",
      " 성공 18% 실패 82% / 예측값: False, 실제값: False\n",
      " 성공 15% 실패 85% / 예측값: False, 실제값: False\n",
      " 성공 22% 실패 78% / 예측값: False, 실제값: False\n",
      " 성공 20% 실패 80% / 예측값: False, 실제값: False\n",
      " 성공 22% 실패 78% / 예측값: False, 실제값: False\n",
      " 성공 26% 실패 74% / 예측값: False, 실제값: False\n",
      " 성공 18% 실패 82% / 예측값: False, 실제값: False\n",
      " 성공 33% 실패 67% / 예측값: False, 실제값: False\n",
      " 성공 37% 실패 63% / 예측값: False, 실제값: False\n",
      " 성공 10% 실패 90% / 예측값: False, 실제값: False\n",
      " 성공 19% 실패 81% / 예측값: False, 실제값: False\n",
      " 성공 37% 실패 63% / 예측값: False, 실제값: False\n",
      " 성공 33% 실패 67% / 예측값: False, 실제값: False\n",
      " 성공 26% 실패 74% / 예측값: False, 실제값: False\n",
      " 성공 12% 실패 88% / 예측값: False, 실제값: False\n",
      " 성공 18% 실패 82% / 예측값: False, 실제값: False\n",
      " 성공 24% 실패 76% / 예측값: False, 실제값: False\n",
      " 성공 14% 실패 86% / 예측값: False, 실제값: False\n",
      " 성공 28% 실패 72% / 예측값: False, 실제값: False\n"
     ]
    }
   ],
   "source": [
    "# clf 예측 결과 확인하기\n",
    "for p, r in zip(clf_pred, test_result):\n",
    "    print(f\" 성공 {round(p[1]*100)}% 실패 {round(p[0]*100)}%\", end=\" / \")\n",
    "    print(f\"예측값: {'True' if p[1]>p[0] else 'False'}, 실제값: {r}\")"
   ]
  },
  {
   "cell_type": "code",
   "execution_count": 179,
   "id": "9dd9b4a6",
   "metadata": {},
   "outputs": [
    {
     "name": "stdout",
     "output_type": "stream",
     "text": [
      "예측값: 7, 실제값: 11\n",
      "예측값: 6, 실제값: 12\n",
      "예측값: 5, 실제값: 10\n",
      "예측값: 6, 실제값: 10\n",
      "예측값: 7, 실제값: 2\n",
      "예측값: 7, 실제값: 12\n",
      "예측값: 7, 실제값: 10\n",
      "예측값: 7, 실제값: 7\n",
      "예측값: 6, 실제값: 11\n",
      "예측값: 7, 실제값: 5\n",
      "예측값: 8, 실제값: 10\n",
      "예측값: 6, 실제값: 3\n",
      "예측값: 7, 실제값: 7\n",
      "예측값: 7, 실제값: 11\n",
      "예측값: 6, 실제값: 8\n",
      "예측값: 7, 실제값: 8\n",
      "예측값: 5, 실제값: 6\n",
      "예측값: 8, 실제값: 8\n",
      "예측값: 8, 실제값: 2\n",
      "예측값: 5, 실제값: 4\n",
      "예측값: 6, 실제값: 10\n",
      "예측값: 7, 실제값: 4\n",
      "예측값: 6, 실제값: 3\n",
      "예측값: 7, 실제값: 12\n",
      "예측값: 6, 실제값: 4\n",
      "예측값: 7, 실제값: 6\n",
      "예측값: 5, 실제값: 8\n"
     ]
    }
   ],
   "source": [
    "# reg 예측 결과 확인하기\n",
    "for p, r in zip(reg_pred, test_rank):\n",
    "    print(f\"예측값: {round(p)}, 실제값: {r}\")"
   ]
  }
 ],
 "metadata": {
  "kernelspec": {
   "display_name": "Python 3 (ipykernel)",
   "language": "python",
   "name": "python3"
  },
  "language_info": {
   "codemirror_mode": {
    "name": "ipython",
    "version": 3
   },
   "file_extension": ".py",
   "mimetype": "text/x-python",
   "name": "python",
   "nbconvert_exporter": "python",
   "pygments_lexer": "ipython3",
   "version": "3.11.5"
  }
 },
 "nbformat": 4,
 "nbformat_minor": 5
}
