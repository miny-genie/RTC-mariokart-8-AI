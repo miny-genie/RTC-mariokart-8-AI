{
 "cells": [
  {
   "cell_type": "code",
   "execution_count": 1,
   "id": "10ad8e3d",
   "metadata": {},
   "outputs": [],
   "source": [
    "# barplot\n",
    "# https://12jeong.github.io/python-barplot/\n",
    "\n",
    "# plot color\n",
    "# https://matplotlib.org/stable/gallery/color/named_colors.html\n",
    "\n",
    "# 신뢰 구간\n",
    "# https://angie-gil.medium.com/평점-순으로-정렬하지-않는-법-이론편-9ced2f26bc4b"
   ]
  },
  {
   "cell_type": "markdown",
   "id": "2d1e465a",
   "metadata": {},
   "source": [
    "# Import Dataset and Libraries"
   ]
  },
  {
   "cell_type": "code",
   "execution_count": 2,
   "id": "2cf3f399",
   "metadata": {},
   "outputs": [],
   "source": [
    "import pandas as pd\n",
    "import numpy as np\n",
    "import seaborn as sns\n",
    "import matplotlib.pyplot as plt\n",
    "import warnings\n",
    "\n",
    "warnings.filterwarnings(action='ignore')\n",
    "plt.rc('font', family='Malgun Gothic')"
   ]
  },
  {
   "cell_type": "code",
   "execution_count": 6,
   "id": "2ea36df0",
   "metadata": {},
   "outputs": [],
   "source": [
    "train_file = \"../data/train_data.csv\"\n",
    "track_file = \"../data/course.csv\"\n",
    "\n",
    "drop_columns = [\n",
    "    'index',\n",
    "    # 'track_K',\n",
    "]\n",
    "df_train = pd.read_csv(train_file)\n",
    "df_train = df_train.drop(drop_columns, axis=1)\n",
    "\n",
    "drop_columns = [\n",
    "    'idx',\n",
    "    # 'grand_prix_K',\n",
    "    # 'cup_K',\n",
    "    # 'track_name_K',\n",
    "]\n",
    "df_track = pd.read_csv(track_file)\n",
    "df_track = df_track.drop(drop_columns, axis=1)"
   ]
  },
  {
   "cell_type": "code",
   "execution_count": 7,
   "id": "11da5ef7",
   "metadata": {},
   "outputs": [
    {
     "data": {
      "text/html": [
       "<div>\n",
       "<style scoped>\n",
       "    .dataframe tbody tr th:only-of-type {\n",
       "        vertical-align: middle;\n",
       "    }\n",
       "\n",
       "    .dataframe tbody tr th {\n",
       "        vertical-align: top;\n",
       "    }\n",
       "\n",
       "    .dataframe thead th {\n",
       "        text-align: right;\n",
       "    }\n",
       "</style>\n",
       "<table border=\"1\" class=\"dataframe\">\n",
       "  <thead>\n",
       "    <tr style=\"text-align: right;\">\n",
       "      <th></th>\n",
       "      <th>date</th>\n",
       "      <th>round</th>\n",
       "      <th>game_count</th>\n",
       "      <th>game_goal</th>\n",
       "      <th>cur_game_count</th>\n",
       "      <th>win_odds</th>\n",
       "      <th>lose_odds</th>\n",
       "      <th>track_K</th>\n",
       "      <th>track_E</th>\n",
       "      <th>cc</th>\n",
       "      <th>part_people</th>\n",
       "      <th>rank</th>\n",
       "      <th>prefix_rank</th>\n",
       "      <th>odds_result</th>\n",
       "      <th>significant</th>\n",
       "      <th>RESULT</th>\n",
       "    </tr>\n",
       "  </thead>\n",
       "  <tbody>\n",
       "    <tr>\n",
       "      <th>0</th>\n",
       "      <td>20220204</td>\n",
       "      <td>1</td>\n",
       "      <td>3</td>\n",
       "      <td>15</td>\n",
       "      <td>1</td>\n",
       "      <td>4.71</td>\n",
       "      <td>1.27</td>\n",
       "      <td>와리오 스노 마운틴</td>\n",
       "      <td>Mount Wario</td>\n",
       "      <td>150</td>\n",
       "      <td>10</td>\n",
       "      <td>10</td>\n",
       "      <td>10</td>\n",
       "      <td>straight up</td>\n",
       "      <td>NaN</td>\n",
       "      <td>False</td>\n",
       "    </tr>\n",
       "    <tr>\n",
       "      <th>1</th>\n",
       "      <td>20220204</td>\n",
       "      <td>1</td>\n",
       "      <td>3</td>\n",
       "      <td>15</td>\n",
       "      <td>2</td>\n",
       "      <td>4.71</td>\n",
       "      <td>1.27</td>\n",
       "      <td>드래곤 드리프트 로드</td>\n",
       "      <td>Dragon Driftway</td>\n",
       "      <td>mirror</td>\n",
       "      <td>12</td>\n",
       "      <td>7</td>\n",
       "      <td>17</td>\n",
       "      <td>straight up</td>\n",
       "      <td>NaN</td>\n",
       "      <td>False</td>\n",
       "    </tr>\n",
       "    <tr>\n",
       "      <th>2</th>\n",
       "      <td>20220204</td>\n",
       "      <td>2</td>\n",
       "      <td>3</td>\n",
       "      <td>15</td>\n",
       "      <td>1</td>\n",
       "      <td>7.04</td>\n",
       "      <td>1.17</td>\n",
       "      <td>와리오 스노 마운틴</td>\n",
       "      <td>Mount Wario</td>\n",
       "      <td>150</td>\n",
       "      <td>11</td>\n",
       "      <td>2</td>\n",
       "      <td>2</td>\n",
       "      <td>underdog</td>\n",
       "      <td>NaN</td>\n",
       "      <td>True</td>\n",
       "    </tr>\n",
       "    <tr>\n",
       "      <th>3</th>\n",
       "      <td>20220204</td>\n",
       "      <td>2</td>\n",
       "      <td>3</td>\n",
       "      <td>15</td>\n",
       "      <td>2</td>\n",
       "      <td>7.04</td>\n",
       "      <td>1.17</td>\n",
       "      <td>3DS DK 정글</td>\n",
       "      <td>3DS DK Jungle</td>\n",
       "      <td>150</td>\n",
       "      <td>11</td>\n",
       "      <td>5</td>\n",
       "      <td>7</td>\n",
       "      <td>underdog</td>\n",
       "      <td>NaN</td>\n",
       "      <td>True</td>\n",
       "    </tr>\n",
       "    <tr>\n",
       "      <th>4</th>\n",
       "      <td>20220204</td>\n",
       "      <td>2</td>\n",
       "      <td>3</td>\n",
       "      <td>15</td>\n",
       "      <td>3</td>\n",
       "      <td>7.04</td>\n",
       "      <td>1.17</td>\n",
       "      <td>DS 와리오 스타디움</td>\n",
       "      <td>DS Wario Stardium</td>\n",
       "      <td>150</td>\n",
       "      <td>12</td>\n",
       "      <td>5</td>\n",
       "      <td>12</td>\n",
       "      <td>underdog</td>\n",
       "      <td>NaN</td>\n",
       "      <td>True</td>\n",
       "    </tr>\n",
       "  </tbody>\n",
       "</table>\n",
       "</div>"
      ],
      "text/plain": [
       "       date  round game_count game_goal  cur_game_count win_odds lose_odds  \\\n",
       "0  20220204      1          3        15               1     4.71      1.27   \n",
       "1  20220204      1          3        15               2     4.71      1.27   \n",
       "2  20220204      2          3        15               1     7.04      1.17   \n",
       "3  20220204      2          3        15               2     7.04      1.17   \n",
       "4  20220204      2          3        15               3     7.04      1.17   \n",
       "\n",
       "       track_K            track_E      cc  part_people  rank  prefix_rank  \\\n",
       "0   와리오 스노 마운틴        Mount Wario     150           10    10           10   \n",
       "1  드래곤 드리프트 로드    Dragon Driftway  mirror           12     7           17   \n",
       "2   와리오 스노 마운틴        Mount Wario     150           11     2            2   \n",
       "3    3DS DK 정글      3DS DK Jungle     150           11     5            7   \n",
       "4  DS 와리오 스타디움  DS Wario Stardium     150           12     5           12   \n",
       "\n",
       "   odds_result significant RESULT  \n",
       "0  straight up         NaN  False  \n",
       "1  straight up         NaN  False  \n",
       "2     underdog         NaN   True  \n",
       "3     underdog         NaN   True  \n",
       "4     underdog         NaN   True  "
      ]
     },
     "execution_count": 7,
     "metadata": {},
     "output_type": "execute_result"
    }
   ],
   "source": [
    "df_train.head()"
   ]
  },
  {
   "cell_type": "markdown",
   "id": "196a26f8",
   "metadata": {},
   "source": [
    "# Preprocessing"
   ]
  },
  {
   "cell_type": "markdown",
   "id": "58ab333d",
   "metadata": {},
   "source": [
    "## columns drop and load"
   ]
  },
  {
   "cell_type": "code",
   "execution_count": 8,
   "id": "8c52a7a4",
   "metadata": {},
   "outputs": [],
   "source": [
    "drop_columns = [\n",
    "    \"track_K\",\n",
    "    'RESULT',\n",
    "]\n",
    "\n",
    "X = df_train\n",
    "# X = df_train.drop(drop_columns, axis=1)\n",
    "# y = df_train['RESULT']"
   ]
  },
  {
   "cell_type": "markdown",
   "id": "0c6d804b",
   "metadata": {},
   "source": [
    "## checking error & missing value"
   ]
  },
  {
   "cell_type": "code",
   "execution_count": 9,
   "id": "0657be2f",
   "metadata": {},
   "outputs": [
    {
     "name": "stdout",
     "output_type": "stream",
     "text": [
      "<class 'pandas.core.frame.DataFrame'>\n",
      "RangeIndex: 632 entries, 0 to 631\n",
      "Data columns (total 16 columns):\n",
      " #   Column          Non-Null Count  Dtype \n",
      "---  ------          --------------  ----- \n",
      " 0   date            632 non-null    int64 \n",
      " 1   round           632 non-null    int64 \n",
      " 2   game_count      632 non-null    object\n",
      " 3   game_goal       632 non-null    object\n",
      " 4   cur_game_count  632 non-null    int64 \n",
      " 5   win_odds        631 non-null    object\n",
      " 6   lose_odds       631 non-null    object\n",
      " 7   track_K         632 non-null    object\n",
      " 8   track_E         632 non-null    object\n",
      " 9   cc              632 non-null    object\n",
      " 10  part_people     632 non-null    int64 \n",
      " 11  rank            632 non-null    int64 \n",
      " 12  prefix_rank     632 non-null    int64 \n",
      " 13  odds_result     623 non-null    object\n",
      " 14  significant     11 non-null     object\n",
      " 15  RESULT          623 non-null    object\n",
      "dtypes: int64(6), object(10)\n",
      "memory usage: 79.1+ KB\n"
     ]
    }
   ],
   "source": [
    "X.info()"
   ]
  },
  {
   "cell_type": "code",
   "execution_count": 10,
   "id": "696dcb13",
   "metadata": {},
   "outputs": [],
   "source": [
    "check_columns = [\n",
    "    \"game_count\",\n",
    "    \"game_goal\",\n",
    "    \"win_odds\",\n",
    "    \"lose_odds\",\n",
    "    \"track_E\",\n",
    "    \"cc\",\n",
    "    \"odds_result\",\n",
    "    \"significant\",\n",
    "]"
   ]
  },
  {
   "cell_type": "markdown",
   "id": "8cdad3ad",
   "metadata": {},
   "source": [
    "### game_count"
   ]
  },
  {
   "cell_type": "code",
   "execution_count": 11,
   "id": "1ec2d6b1",
   "metadata": {},
   "outputs": [
    {
     "data": {
      "text/plain": [
       "game_count\n",
       "3          592\n",
       "1           27\n",
       "under 3      9\n",
       "under 4      4\n",
       "Name: count, dtype: int64"
      ]
     },
     "execution_count": 11,
     "metadata": {},
     "output_type": "execute_result"
    }
   ],
   "source": [
    "X[\"game_count\"].value_counts()"
   ]
  },
  {
   "cell_type": "code",
   "execution_count": 12,
   "id": "3b342919",
   "metadata": {},
   "outputs": [
    {
     "data": {
      "image/png": "[encoded data removed]",
      "text/plain": [
       "<Figure size 640x480 with 1 Axes>"
      ]
     },
     "metadata": {},
     "output_type": "display_data"
    }
   ],
   "source": [
    "# bar plot으로 데이터 균형 살펴보기\n",
    "X[\"game_count\"].value_counts().plot.bar(\n",
    "    color = ['royalblue'],\n",
    "    rot=0\n",
    ")\n",
    "\n",
    "plt.title(\"game_count 컬럼의 데이터 분포\")\n",
    "plt.xlabel(\"\")\n",
    "plt.ylabel(\"데이터 개수\")\n",
    "plt.grid(True, linestyle='--', linewidth=0.3, axis='y')"
   ]
  },
  {
   "cell_type": "code",
   "execution_count": 13,
   "id": "40dc09f1",
   "metadata": {},
   "outputs": [
    {
     "data": {
      "text/plain": [
       "game_count\n",
       "3    601\n",
       "1     27\n",
       "4      4\n",
       "Name: count, dtype: int64"
      ]
     },
     "execution_count": 13,
     "metadata": {},
     "output_type": "execute_result"
    }
   ],
   "source": [
    "X['game_count'] = X['game_count'].str.replace(\"under \", \"\")\n",
    "X['game_count'] = X['game_count'].astype(int)\n",
    "X['game_count'].value_counts()"
   ]
  },
  {
   "cell_type": "code",
   "execution_count": 14,
   "id": "b1ed67f0",
   "metadata": {},
   "outputs": [
    {
     "data": {
      "image/png": "[encoded data removed]",
      "text/plain": [
       "<Figure size 640x480 with 1 Axes>"
      ]
     },
     "metadata": {},
     "output_type": "display_data"
    }
   ],
   "source": [
    "# bar plot으로 데이터 균형 살펴보기\n",
    "X[\"game_count\"].value_counts().plot.bar(\n",
    "    color = ['royalblue'],\n",
    "    rot=0\n",
    ")\n",
    "\n",
    "plt.title(\"game_count 컬럼의 데이터 분포\")\n",
    "plt.xlabel(\"\")\n",
    "plt.ylabel(\"데이터 개수\")\n",
    "plt.grid(True, linestyle='--', linewidth=0.3, axis='y')"
   ]
  },
  {
   "cell_type": "markdown",
   "id": "8d26a0a2",
   "metadata": {},
   "source": [
    "### game_goal"
   ]
  },
  {
   "cell_type": "code",
   "execution_count": 15,
   "id": "e4b4dc6a",
   "metadata": {},
   "outputs": [
    {
     "data": {
      "text/plain": [
       "game_goal\n",
       "15          283\n",
       "20          123\n",
       "12           62\n",
       "10           57\n",
       "18           46\n",
       "1            18\n",
       "3            17\n",
       "17            5\n",
       "fix(etc)      4\n",
       "30            3\n",
       "22            3\n",
       "13            2\n",
       "25            2\n",
       "5             2\n",
       "27            2\n",
       "19            2\n",
       "fix(3)        1\n",
       "Name: count, dtype: int64"
      ]
     },
     "execution_count": 15,
     "metadata": {},
     "output_type": "execute_result"
    }
   ],
   "source": [
    "X[\"game_goal\"].value_counts()"
   ]
  },
  {
   "cell_type": "code",
   "execution_count": 16,
   "id": "ca4c0b67",
   "metadata": {},
   "outputs": [
    {
     "data": {
      "image/png": "[encoded data removed]",
      "text/plain": [
       "<Figure size 640x480 with 1 Axes>"
      ]
     },
     "metadata": {},
     "output_type": "display_data"
    }
   ],
   "source": [
    "# bar plot으로 데이터 균형 살펴보기\n",
    "X[\"game_goal\"].value_counts().plot.bar(\n",
    "    color = ['royalblue'],\n",
    "    rot=0\n",
    ")\n",
    "\n",
    "plt.title(\"game_goal 컬럼의 데이터 분포\")\n",
    "plt.xlabel(\"\")\n",
    "plt.ylabel(\"데이터 개수\")\n",
    "plt.grid(True, linestyle='--', linewidth=0.3, axis='y')"
   ]
  },
  {
   "cell_type": "code",
   "execution_count": 17,
   "id": "c22f3543",
   "metadata": {},
   "outputs": [
    {
     "data": {
      "text/plain": [
       "game_goal\n",
       "15    283\n",
       "20    123\n",
       "12     62\n",
       "10     57\n",
       "18     46\n",
       "1      18\n",
       "3      17\n",
       "17      5\n",
       "30      3\n",
       "22      3\n",
       "5       2\n",
       "27      2\n",
       "13      2\n",
       "25      2\n",
       "19      2\n",
       "Name: count, dtype: int64"
      ]
     },
     "execution_count": 17,
     "metadata": {},
     "output_type": "execute_result"
    }
   ],
   "source": [
    "# remove game_goal data that include word: \"fix\"\n",
    "X = X.loc[~X['game_goal'].str.contains(\"fix\")]\n",
    "X[\"game_goal\"] = X[\"game_goal\"].astype(int)\n",
    "X['game_goal'].value_counts()"
   ]
  },
  {
   "cell_type": "code",
   "execution_count": 18,
   "id": "cdb2ca80",
   "metadata": {},
   "outputs": [
    {
     "data": {
      "image/png": "[encoded data removed]",
      "text/plain": [
       "<Figure size 640x480 with 1 Axes>"
      ]
     },
     "metadata": {},
     "output_type": "display_data"
    }
   ],
   "source": [
    "# bar plot으로 데이터 균형 살펴보기\n",
    "X[\"game_goal\"].value_counts().plot.bar(\n",
    "    color = ['royalblue'],\n",
    "    rot=0\n",
    ")\n",
    "\n",
    "plt.title(\"game_goal 컬럼의 데이터 분포\")\n",
    "plt.xlabel(\"\")\n",
    "plt.ylabel(\"데이터 개수\")\n",
    "plt.grid(True, linestyle='--', linewidth=0.3, axis='y')"
   ]
  },
  {
   "cell_type": "markdown",
   "id": "2019549a",
   "metadata": {},
   "source": [
    "### win_odds, lose_odds"
   ]
  },
  {
   "cell_type": "code",
   "execution_count": 19,
   "id": "9d921570",
   "metadata": {},
   "outputs": [
    {
     "data": {
      "text/plain": [
       "date                0\n",
       "round               0\n",
       "game_count          0\n",
       "game_goal           0\n",
       "cur_game_count      0\n",
       "win_odds            1\n",
       "lose_odds           1\n",
       "track_K             0\n",
       "track_E             0\n",
       "cc                  0\n",
       "part_people         0\n",
       "rank                0\n",
       "prefix_rank         0\n",
       "odds_result         4\n",
       "significant       621\n",
       "RESULT              4\n",
       "dtype: int64"
      ]
     },
     "execution_count": 19,
     "metadata": {},
     "output_type": "execute_result"
    }
   ],
   "source": [
    "X.isna().sum()"
   ]
  },
  {
   "cell_type": "code",
   "execution_count": 20,
   "id": "b2a3f7ea",
   "metadata": {},
   "outputs": [
    {
     "data": {
      "text/plain": [
       "0      False\n",
       "1      False\n",
       "2      False\n",
       "3      False\n",
       "4      False\n",
       "       ...  \n",
       "627    False\n",
       "628    False\n",
       "629    False\n",
       "630    False\n",
       "631    False\n",
       "Name: win_odds, Length: 627, dtype: bool"
      ]
     },
     "execution_count": 20,
     "metadata": {},
     "output_type": "execute_result"
    }
   ],
   "source": [
    "X['win_odds'].isna()"
   ]
  },
  {
   "cell_type": "code",
   "execution_count": 21,
   "id": "50822307",
   "metadata": {},
   "outputs": [],
   "source": [
    "# 배당은 독립변수이기에 fill하지 않고, row 제거\n",
    "X = X.loc[~X['win_odds'].isna()]"
   ]
  },
  {
   "cell_type": "code",
   "execution_count": 22,
   "id": "5e2f6e0a",
   "metadata": {},
   "outputs": [
    {
     "data": {
      "text/html": [
       "<div>\n",
       "<style scoped>\n",
       "    .dataframe tbody tr th:only-of-type {\n",
       "        vertical-align: middle;\n",
       "    }\n",
       "\n",
       "    .dataframe tbody tr th {\n",
       "        vertical-align: top;\n",
       "    }\n",
       "\n",
       "    .dataframe thead th {\n",
       "        text-align: right;\n",
       "    }\n",
       "</style>\n",
       "<table border=\"1\" class=\"dataframe\">\n",
       "  <thead>\n",
       "    <tr style=\"text-align: right;\">\n",
       "      <th></th>\n",
       "      <th>date</th>\n",
       "      <th>round</th>\n",
       "      <th>game_count</th>\n",
       "      <th>game_goal</th>\n",
       "      <th>cur_game_count</th>\n",
       "      <th>win_odds</th>\n",
       "      <th>lose_odds</th>\n",
       "      <th>track_K</th>\n",
       "      <th>track_E</th>\n",
       "      <th>cc</th>\n",
       "      <th>part_people</th>\n",
       "      <th>rank</th>\n",
       "      <th>prefix_rank</th>\n",
       "      <th>odds_result</th>\n",
       "      <th>significant</th>\n",
       "      <th>RESULT</th>\n",
       "    </tr>\n",
       "  </thead>\n",
       "  <tbody>\n",
       "  </tbody>\n",
       "</table>\n",
       "</div>"
      ],
      "text/plain": [
       "Empty DataFrame\n",
       "Columns: [date, round, game_count, game_goal, cur_game_count, win_odds, lose_odds, track_K, track_E, cc, part_people, rank, prefix_rank, odds_result, significant, RESULT]\n",
       "Index: []"
      ]
     },
     "execution_count": 22,
     "metadata": {},
     "output_type": "execute_result"
    }
   ],
   "source": [
    "# EDA 할 때 확인했던, 오류값 확인\n",
    "X['win_odds'] = X['win_odds'].str.replace(\"..\", \".\" ,regex=False)\n",
    "X.loc[X['win_odds'].str.contains(\"\\.\\.\")]"
   ]
  },
  {
   "cell_type": "code",
   "execution_count": 23,
   "id": "4be73c78",
   "metadata": {},
   "outputs": [],
   "source": [
    "X['win_odds'] = X['win_odds'].astype(float)\n",
    "X['lose_odds'] = X['lose_odds'].astype(float)"
   ]
  },
  {
   "cell_type": "markdown",
   "id": "463a8371",
   "metadata": {},
   "source": [
    "### track_K"
   ]
  },
  {
   "cell_type": "code",
   "execution_count": 24,
   "id": "b0687b01",
   "metadata": {},
   "outputs": [],
   "source": [
    "# 영문 경기장 이름이 있기 때문에, 국문 데이터는 drop하기\n",
    "X = X.drop([\"track_K\"], axis=1)"
   ]
  },
  {
   "cell_type": "markdown",
   "id": "a8ec2f89",
   "metadata": {},
   "source": [
    "### track_E"
   ]
  },
  {
   "cell_type": "code",
   "execution_count": 25,
   "id": "04e0fb29",
   "metadata": {},
   "outputs": [
    {
     "data": {
      "text/html": [
       "<div>\n",
       "<style scoped>\n",
       "    .dataframe tbody tr th:only-of-type {\n",
       "        vertical-align: middle;\n",
       "    }\n",
       "\n",
       "    .dataframe tbody tr th {\n",
       "        vertical-align: top;\n",
       "    }\n",
       "\n",
       "    .dataframe thead th {\n",
       "        text-align: right;\n",
       "    }\n",
       "</style>\n",
       "<table border=\"1\" class=\"dataframe\">\n",
       "  <thead>\n",
       "    <tr style=\"text-align: right;\">\n",
       "      <th></th>\n",
       "      <th>date</th>\n",
       "      <th>round</th>\n",
       "      <th>game_count</th>\n",
       "      <th>game_goal</th>\n",
       "      <th>cur_game_count</th>\n",
       "      <th>win_odds</th>\n",
       "      <th>lose_odds</th>\n",
       "      <th>track_E</th>\n",
       "      <th>cc</th>\n",
       "      <th>part_people</th>\n",
       "      <th>rank</th>\n",
       "      <th>prefix_rank</th>\n",
       "      <th>odds_result</th>\n",
       "      <th>significant</th>\n",
       "      <th>RESULT</th>\n",
       "      <th>track_E_encoded</th>\n",
       "    </tr>\n",
       "  </thead>\n",
       "  <tbody>\n",
       "    <tr>\n",
       "      <th>0</th>\n",
       "      <td>20220204</td>\n",
       "      <td>1</td>\n",
       "      <td>3</td>\n",
       "      <td>15</td>\n",
       "      <td>1</td>\n",
       "      <td>4.71</td>\n",
       "      <td>1.27</td>\n",
       "      <td>Mount Wario</td>\n",
       "      <td>150</td>\n",
       "      <td>10</td>\n",
       "      <td>10</td>\n",
       "      <td>10</td>\n",
       "      <td>straight up</td>\n",
       "      <td>NaN</td>\n",
       "      <td>False</td>\n",
       "      <td>41</td>\n",
       "    </tr>\n",
       "    <tr>\n",
       "      <th>1</th>\n",
       "      <td>20220204</td>\n",
       "      <td>1</td>\n",
       "      <td>3</td>\n",
       "      <td>15</td>\n",
       "      <td>2</td>\n",
       "      <td>4.71</td>\n",
       "      <td>1.27</td>\n",
       "      <td>Dragon Driftway</td>\n",
       "      <td>mirror</td>\n",
       "      <td>12</td>\n",
       "      <td>7</td>\n",
       "      <td>17</td>\n",
       "      <td>straight up</td>\n",
       "      <td>NaN</td>\n",
       "      <td>False</td>\n",
       "      <td>20</td>\n",
       "    </tr>\n",
       "    <tr>\n",
       "      <th>2</th>\n",
       "      <td>20220204</td>\n",
       "      <td>2</td>\n",
       "      <td>3</td>\n",
       "      <td>15</td>\n",
       "      <td>1</td>\n",
       "      <td>7.04</td>\n",
       "      <td>1.17</td>\n",
       "      <td>Mount Wario</td>\n",
       "      <td>150</td>\n",
       "      <td>11</td>\n",
       "      <td>2</td>\n",
       "      <td>2</td>\n",
       "      <td>underdog</td>\n",
       "      <td>NaN</td>\n",
       "      <td>True</td>\n",
       "      <td>41</td>\n",
       "    </tr>\n",
       "    <tr>\n",
       "      <th>3</th>\n",
       "      <td>20220204</td>\n",
       "      <td>2</td>\n",
       "      <td>3</td>\n",
       "      <td>15</td>\n",
       "      <td>2</td>\n",
       "      <td>7.04</td>\n",
       "      <td>1.17</td>\n",
       "      <td>3DS DK Jungle</td>\n",
       "      <td>150</td>\n",
       "      <td>11</td>\n",
       "      <td>5</td>\n",
       "      <td>7</td>\n",
       "      <td>underdog</td>\n",
       "      <td>NaN</td>\n",
       "      <td>True</td>\n",
       "      <td>0</td>\n",
       "    </tr>\n",
       "    <tr>\n",
       "      <th>4</th>\n",
       "      <td>20220204</td>\n",
       "      <td>2</td>\n",
       "      <td>3</td>\n",
       "      <td>15</td>\n",
       "      <td>3</td>\n",
       "      <td>7.04</td>\n",
       "      <td>1.17</td>\n",
       "      <td>DS Wario Stardium</td>\n",
       "      <td>150</td>\n",
       "      <td>12</td>\n",
       "      <td>5</td>\n",
       "      <td>12</td>\n",
       "      <td>underdog</td>\n",
       "      <td>NaN</td>\n",
       "      <td>True</td>\n",
       "      <td>18</td>\n",
       "    </tr>\n",
       "    <tr>\n",
       "      <th>...</th>\n",
       "      <td>...</td>\n",
       "      <td>...</td>\n",
       "      <td>...</td>\n",
       "      <td>...</td>\n",
       "      <td>...</td>\n",
       "      <td>...</td>\n",
       "      <td>...</td>\n",
       "      <td>...</td>\n",
       "      <td>...</td>\n",
       "      <td>...</td>\n",
       "      <td>...</td>\n",
       "      <td>...</td>\n",
       "      <td>...</td>\n",
       "      <td>...</td>\n",
       "      <td>...</td>\n",
       "      <td>...</td>\n",
       "    </tr>\n",
       "    <tr>\n",
       "      <th>627</th>\n",
       "      <td>20231222</td>\n",
       "      <td>3</td>\n",
       "      <td>3</td>\n",
       "      <td>10</td>\n",
       "      <td>1</td>\n",
       "      <td>7.16</td>\n",
       "      <td>1.16</td>\n",
       "      <td>DS Mario Circuit</td>\n",
       "      <td>150</td>\n",
       "      <td>11</td>\n",
       "      <td>9</td>\n",
       "      <td>9</td>\n",
       "      <td>straight up</td>\n",
       "      <td>NaN</td>\n",
       "      <td>False</td>\n",
       "      <td>13</td>\n",
       "    </tr>\n",
       "    <tr>\n",
       "      <th>628</th>\n",
       "      <td>20231222</td>\n",
       "      <td>4</td>\n",
       "      <td>3</td>\n",
       "      <td>10</td>\n",
       "      <td>1</td>\n",
       "      <td>8.24</td>\n",
       "      <td>1.14</td>\n",
       "      <td>Wii Grumble Volcano</td>\n",
       "      <td>150</td>\n",
       "      <td>12</td>\n",
       "      <td>12</td>\n",
       "      <td>12</td>\n",
       "      <td>straight up</td>\n",
       "      <td>NaN</td>\n",
       "      <td>False</td>\n",
       "      <td>82</td>\n",
       "    </tr>\n",
       "    <tr>\n",
       "      <th>629</th>\n",
       "      <td>20231222</td>\n",
       "      <td>5</td>\n",
       "      <td>3</td>\n",
       "      <td>18</td>\n",
       "      <td>1</td>\n",
       "      <td>1.87</td>\n",
       "      <td>2.15</td>\n",
       "      <td>GC Yoshi's Circuit</td>\n",
       "      <td>150</td>\n",
       "      <td>8</td>\n",
       "      <td>6</td>\n",
       "      <td>6</td>\n",
       "      <td>underdog</td>\n",
       "      <td>NaN</td>\n",
       "      <td>False</td>\n",
       "      <td>36</td>\n",
       "    </tr>\n",
       "    <tr>\n",
       "      <th>630</th>\n",
       "      <td>20231222</td>\n",
       "      <td>5</td>\n",
       "      <td>3</td>\n",
       "      <td>18</td>\n",
       "      <td>2</td>\n",
       "      <td>1.87</td>\n",
       "      <td>2.15</td>\n",
       "      <td>DS Walluigi Pinball</td>\n",
       "      <td>150</td>\n",
       "      <td>9</td>\n",
       "      <td>6</td>\n",
       "      <td>12</td>\n",
       "      <td>underdog</td>\n",
       "      <td>NaN</td>\n",
       "      <td>False</td>\n",
       "      <td>17</td>\n",
       "    </tr>\n",
       "    <tr>\n",
       "      <th>631</th>\n",
       "      <td>20231222</td>\n",
       "      <td>5</td>\n",
       "      <td>3</td>\n",
       "      <td>18</td>\n",
       "      <td>3</td>\n",
       "      <td>1.87</td>\n",
       "      <td>2.15</td>\n",
       "      <td>Mario Circuit</td>\n",
       "      <td>150</td>\n",
       "      <td>10</td>\n",
       "      <td>10</td>\n",
       "      <td>22</td>\n",
       "      <td>underdog</td>\n",
       "      <td>NaN</td>\n",
       "      <td>False</td>\n",
       "      <td>39</td>\n",
       "    </tr>\n",
       "  </tbody>\n",
       "</table>\n",
       "<p>626 rows × 16 columns</p>\n",
       "</div>"
      ],
      "text/plain": [
       "         date  round  game_count  game_goal  cur_game_count  win_odds  \\\n",
       "0    20220204      1           3         15               1      4.71   \n",
       "1    20220204      1           3         15               2      4.71   \n",
       "2    20220204      2           3         15               1      7.04   \n",
       "3    20220204      2           3         15               2      7.04   \n",
       "4    20220204      2           3         15               3      7.04   \n",
       "..        ...    ...         ...        ...             ...       ...   \n",
       "627  20231222      3           3         10               1      7.16   \n",
       "628  20231222      4           3         10               1      8.24   \n",
       "629  20231222      5           3         18               1      1.87   \n",
       "630  20231222      5           3         18               2      1.87   \n",
       "631  20231222      5           3         18               3      1.87   \n",
       "\n",
       "     lose_odds              track_E      cc  part_people  rank  prefix_rank  \\\n",
       "0         1.27          Mount Wario     150           10    10           10   \n",
       "1         1.27      Dragon Driftway  mirror           12     7           17   \n",
       "2         1.17          Mount Wario     150           11     2            2   \n",
       "3         1.17        3DS DK Jungle     150           11     5            7   \n",
       "4         1.17    DS Wario Stardium     150           12     5           12   \n",
       "..         ...                  ...     ...          ...   ...          ...   \n",
       "627       1.16     DS Mario Circuit     150           11     9            9   \n",
       "628       1.14  Wii Grumble Volcano     150           12    12           12   \n",
       "629       2.15   GC Yoshi's Circuit     150            8     6            6   \n",
       "630       2.15  DS Walluigi Pinball     150            9     6           12   \n",
       "631       2.15        Mario Circuit     150           10    10           22   \n",
       "\n",
       "     odds_result significant RESULT  track_E_encoded  \n",
       "0    straight up         NaN  False               41  \n",
       "1    straight up         NaN  False               20  \n",
       "2       underdog         NaN   True               41  \n",
       "3       underdog         NaN   True                0  \n",
       "4       underdog         NaN   True               18  \n",
       "..           ...         ...    ...              ...  \n",
       "627  straight up         NaN  False               13  \n",
       "628  straight up         NaN  False               82  \n",
       "629     underdog         NaN  False               36  \n",
       "630     underdog         NaN  False               17  \n",
       "631     underdog         NaN  False               39  \n",
       "\n",
       "[626 rows x 16 columns]"
      ]
     },
     "execution_count": 25,
     "metadata": {},
     "output_type": "execute_result"
    }
   ],
   "source": [
    "from sklearn.preprocessing import LabelEncoder\n",
    "\n",
    "label_encoder = LabelEncoder()\n",
    "encoded = label_encoder.fit_transform(X['track_E'])\n",
    "X['track_E_encoded'] = encoded\n",
    "X"
   ]
  },
  {
   "cell_type": "code",
   "execution_count": 26,
   "id": "c02f0ded",
   "metadata": {},
   "outputs": [
    {
     "data": {
      "image/png": "[encoded data removed]",
      "text/plain": [
       "<Figure size 3000x1000 with 1 Axes>"
      ]
     },
     "metadata": {},
     "output_type": "display_data"
    }
   ],
   "source": [
    "# bar plot으로 데이터 균형 살펴보기\n",
    "X[\"track_E_encoded\"].value_counts().plot.bar(\n",
    "    figsize = (30, 10),\n",
    "    color = ['royalblue'],\n",
    "    rot=90,\n",
    "    fontsize = 15,\n",
    ")\n",
    "\n",
    "plt.title(\"track_E_encoded 컬럼의 데이터 분포\", fontsize = 20)\n",
    "plt.xlabel(\"\")\n",
    "plt.ylabel(\"데이터 개수\", fontsize = 20)\n",
    "plt.grid(True, linestyle='--', linewidth=0.3, axis='y')"
   ]
  },
  {
   "cell_type": "code",
   "execution_count": 27,
   "id": "aaa8c53c",
   "metadata": {
    "scrolled": true
   },
   "outputs": [
    {
     "data": {
      "text/plain": [
       "{'3DS DK Jungle': 0,\n",
       " '3DS Music Park': 1,\n",
       " '3DS Neo Bowser City': 2,\n",
       " '3DS Piranha Plant Slide': 3,\n",
       " '3DS Rainbow Road': 4,\n",
       " '3DS Rock Rock Mountain': 5,\n",
       " '3DS Toad Circuit': 6,\n",
       " 'Animal Crossing': 7,\n",
       " 'Big Blue': 8,\n",
       " 'Bone Dry Dunes': 9,\n",
       " \"Bowser's Castle\": 10,\n",
       " 'Cloudtop Cruise': 11,\n",
       " 'DS Cheep Cheep Beach': 12,\n",
       " 'DS Mario Circuit': 13,\n",
       " 'DS Peach Gardens': 14,\n",
       " 'DS Shroom Ridge': 15,\n",
       " 'DS Tick Tock Clock': 16,\n",
       " 'DS Walluigi Pinball': 17,\n",
       " 'DS Wario Stardium': 18,\n",
       " 'Dolphin Shoals': 19,\n",
       " 'Dragon Driftway': 20,\n",
       " 'Electrodrome': 21,\n",
       " 'Excitebike Arena': 22,\n",
       " 'GBA Boo Lake': 23,\n",
       " 'GBA Cheese Land': 24,\n",
       " 'GBA Mario Circuit': 25,\n",
       " 'GBA Ribbon Road': 26,\n",
       " 'GBA Riverside Park': 27,\n",
       " 'GBA Sky Garden': 28,\n",
       " 'GBA Snow Land': 29,\n",
       " 'GBA Sunset Wilds': 30,\n",
       " 'GC Baby Park': 31,\n",
       " 'GC DK Mountain': 32,\n",
       " 'GC Dry Dry Desert': 33,\n",
       " 'GC Sherbet Land': 34,\n",
       " 'GC Waluigi Stadium': 35,\n",
       " \"GC Yoshi's Circuit\": 36,\n",
       " 'Hyrule Circuit': 37,\n",
       " 'Ice Ice Outpost': 38,\n",
       " 'Mario Circuit': 39,\n",
       " 'Mario Kart Stadium': 40,\n",
       " 'Mount Wario': 41,\n",
       " 'Mute City': 42,\n",
       " 'N64 Choco Mountain': 43,\n",
       " 'N64 Kalimari Desert': 44,\n",
       " 'N64 Rainbow Road': 45,\n",
       " 'N64 Royal Raceway': 46,\n",
       " \"N64 Toad's Turnpike\": 47,\n",
       " 'N64 Yoshi Valley': 48,\n",
       " 'Rainbow Road': 49,\n",
       " 'SFC Bowser Castle 3': 50,\n",
       " 'SFC Dount Plains 3': 51,\n",
       " 'SFC Mario Circuit 3': 52,\n",
       " 'SFC Raindow Road': 53,\n",
       " 'Shy Guy Falls': 54,\n",
       " 'Sky-High Sundae': 55,\n",
       " 'Squeaky Clean Sprint': 56,\n",
       " 'Sunshine Airport': 57,\n",
       " 'Super Bell Subway': 58,\n",
       " 'Sweet Sweet Canyon': 59,\n",
       " 'Thwomp Ruins': 60,\n",
       " 'Toad Harbor': 61,\n",
       " 'Tour Amsterdam Drift': 62,\n",
       " 'Tour Athens Dash': 63,\n",
       " 'Tour Bangkok Rush': 64,\n",
       " 'Tour Berlin Byways': 65,\n",
       " 'Tour London Loop': 66,\n",
       " 'Tour Los Angeles Laps': 67,\n",
       " 'Tour Madrid Drive': 68,\n",
       " 'Tour Merry Mountain': 69,\n",
       " 'Tour New York Minute': 70,\n",
       " 'Tour Ninja Hideway': 71,\n",
       " 'Tour Paris Promenade': 72,\n",
       " 'Tour Rome Avanti': 73,\n",
       " 'Tour Singapore Speedway': 74,\n",
       " 'Tour Sydney Sprint': 75,\n",
       " 'Tour Tokyo Blur': 76,\n",
       " 'Tour Vancouver Velocity': 77,\n",
       " 'Twisted Mansion': 78,\n",
       " 'Water Park': 79,\n",
       " 'Wii Coconut Mall': 80,\n",
       " 'Wii DK Summit': 81,\n",
       " 'Wii Grumble Volcano': 82,\n",
       " 'Wii Koopa Cape': 83,\n",
       " 'Wii Maple Treeway': 84,\n",
       " 'Wii Moo Moo Meadows': 85,\n",
       " 'Wii Mushroom Gorge': 86,\n",
       " 'Wii Rainbow Road': 87,\n",
       " \"Wii Wario's Gold Mine\": 88,\n",
       " 'Wild Woods': 89,\n",
       " \"Yoshi's Island\": 90}"
      ]
     },
     "execution_count": 27,
     "metadata": {},
     "output_type": "execute_result"
    }
   ],
   "source": [
    "track_2_num = dict()\n",
    "num_2_track = dict()\n",
    "\n",
    "for num, track in enumerate(label_encoder.classes_):\n",
    "    track_2_num[track] = num\n",
    "    num_2_track[num] = track\n",
    "    \n",
    "track_2_num"
   ]
  },
  {
   "cell_type": "markdown",
   "id": "e4e2d80c",
   "metadata": {},
   "source": [
    "### cc"
   ]
  },
  {
   "cell_type": "code",
   "execution_count": 28,
   "id": "a6604012",
   "metadata": {},
   "outputs": [
    {
     "data": {
      "text/plain": [
       "cc\n",
       "150       560\n",
       "mirror     38\n",
       "200        28\n",
       "Name: count, dtype: int64"
      ]
     },
     "execution_count": 28,
     "metadata": {},
     "output_type": "execute_result"
    }
   ],
   "source": [
    "X['cc'].value_counts()"
   ]
  },
  {
   "cell_type": "code",
   "execution_count": 29,
   "id": "67f8f19b",
   "metadata": {},
   "outputs": [
    {
     "data": {
      "image/png": "[encoded data removed]",
      "text/plain": [
       "<Figure size 640x480 with 1 Axes>"
      ]
     },
     "metadata": {},
     "output_type": "display_data"
    }
   ],
   "source": [
    "# bar plot으로 데이터 균형 살펴보기\n",
    "X[\"cc\"].value_counts().plot.bar(\n",
    "    color = ['royalblue'],\n",
    "    rot=0\n",
    ")\n",
    "\n",
    "plt.title(\"cc 컬럼의 데이터 분포\")\n",
    "plt.xlabel(\"\")\n",
    "plt.ylabel(\"데이터 개수\")\n",
    "plt.grid(True, linestyle='--', linewidth=0.3, axis='y')"
   ]
  },
  {
   "cell_type": "code",
   "execution_count": 30,
   "id": "9f7129f5",
   "metadata": {},
   "outputs": [],
   "source": [
    "# mirror는 맵 대칭만 적용이고, 속도는 150cc임을 감안하여 150으로 변경\n",
    "X['cc'].replace(\"mirror\", \"150\", inplace=True)\n",
    "X['cc'] = X['cc'].astype(int)"
   ]
  },
  {
   "cell_type": "code",
   "execution_count": 31,
   "id": "52b67bda",
   "metadata": {},
   "outputs": [
    {
     "data": {
      "image/png": "[encoded data removed]",
      "text/plain": [
       "<Figure size 640x480 with 1 Axes>"
      ]
     },
     "metadata": {},
     "output_type": "display_data"
    }
   ],
   "source": [
    "# bar plot으로 데이터 균형 살펴보기\n",
    "X[\"cc\"].value_counts().plot.bar(\n",
    "    color = ['royalblue'],\n",
    "    rot=0\n",
    ")\n",
    "\n",
    "plt.title(\"cc 컬럼의 데이터 분포\")\n",
    "plt.xlabel(\"\")\n",
    "plt.ylabel(\"데이터 개수\")\n",
    "plt.grid(True, linestyle='--', linewidth=0.3, axis='y')"
   ]
  },
  {
   "cell_type": "markdown",
   "id": "adb55f81",
   "metadata": {},
   "source": [
    "### odds_result"
   ]
  },
  {
   "cell_type": "code",
   "execution_count": 32,
   "id": "6e1a2268",
   "metadata": {},
   "outputs": [
    {
     "data": {
      "text/plain": [
       "4"
      ]
     },
     "execution_count": 32,
     "metadata": {},
     "output_type": "execute_result"
    }
   ],
   "source": [
    "X['odds_result'].isna().sum()"
   ]
  },
  {
   "cell_type": "code",
   "execution_count": 33,
   "id": "3deca997",
   "metadata": {},
   "outputs": [
    {
     "data": {
      "text/plain": [
       "odds_result\n",
       "straight up    436\n",
       "underdog       186\n",
       "Name: count, dtype: int64"
      ]
     },
     "execution_count": 33,
     "metadata": {},
     "output_type": "execute_result"
    }
   ],
   "source": [
    "X['odds_result'].value_counts()"
   ]
  },
  {
   "cell_type": "code",
   "execution_count": 34,
   "id": "6bfaa68d",
   "metadata": {},
   "outputs": [],
   "source": [
    "# 배당 결과가 없는 오류 row 제거\n",
    "X = X.loc[~X['odds_result'].isna()]"
   ]
  },
  {
   "cell_type": "code",
   "execution_count": 35,
   "id": "076ebb44",
   "metadata": {},
   "outputs": [],
   "source": [
    "# 원핫인코딩으로 정배-역배 여부 인코딩하기\n",
    "from sklearn.preprocessing import OneHotEncoder\n",
    "\n",
    "X['odds_result'] = X['odds_result'].replace(\"straight up\", \"SU\").replace(\"underdog\", \"UD\")\n",
    "\n",
    "encoder = OneHotEncoder(sparse=False)\n",
    "encoded = encoder.fit_transform(X[['odds_result']])\n",
    "\n",
    "df_encoded = pd.DataFrame(encoded.astype(int), columns=encoder.get_feature_names_out())\n",
    "X = pd.concat([X.reset_index(), df_encoded], axis=1)"
   ]
  },
  {
   "cell_type": "code",
   "execution_count": 36,
   "id": "0dcbd11c",
   "metadata": {},
   "outputs": [
    {
     "data": {
      "image/png": "[encoded data removed]",
      "text/plain": [
       "<Figure size 640x480 with 1 Axes>"
      ]
     },
     "metadata": {},
     "output_type": "display_data"
    }
   ],
   "source": [
    "# bar plot으로 데이터 균형 살펴보기\n",
    "X[\"odds_result\"].value_counts().plot.bar(\n",
    "    color = ['royalblue'],\n",
    "    rot=0\n",
    ")\n",
    "\n",
    "plt.title(\"odds_result 컬럼의 데이터 분포\")\n",
    "plt.xlabel(\"\")\n",
    "plt.ylabel(\"데이터 개수\")\n",
    "plt.grid(True, linestyle='--', linewidth=0.3, axis='y')"
   ]
  },
  {
   "cell_type": "markdown",
   "id": "b47eb0d0",
   "metadata": {},
   "source": [
    "### significant"
   ]
  },
  {
   "cell_type": "code",
   "execution_count": 37,
   "id": "83a193c6",
   "metadata": {},
   "outputs": [],
   "source": [
    "# significant의 특이사항들(CANCEL, MISS, NOT OPEN 등) 제외\n",
    "X = X.loc[X['significant'].isna()]"
   ]
  },
  {
   "cell_type": "markdown",
   "id": "fec76e4e",
   "metadata": {},
   "source": [
    "### RESULT"
   ]
  },
  {
   "cell_type": "code",
   "execution_count": 38,
   "id": "2a35cb52",
   "metadata": {},
   "outputs": [
    {
     "data": {
      "text/plain": [
       "RESULT\n",
       "False    442\n",
       "True     178\n",
       "Name: count, dtype: int64"
      ]
     },
     "execution_count": 38,
     "metadata": {},
     "output_type": "execute_result"
    }
   ],
   "source": [
    "X['RESULT'].value_counts()"
   ]
  },
  {
   "cell_type": "code",
   "execution_count": 39,
   "id": "9017c6a3",
   "metadata": {},
   "outputs": [
    {
     "data": {
      "image/png": "[encoded data removed]",
      "text/plain": [
       "<Figure size 640x480 with 1 Axes>"
      ]
     },
     "metadata": {},
     "output_type": "display_data"
    }
   ],
   "source": [
    "# bar plot으로 데이터 균형 살펴보기\n",
    "X[\"RESULT\"].value_counts().plot.bar(\n",
    "    color = ['royalblue'],\n",
    "    rot=0\n",
    ")\n",
    "\n",
    "plt.title(\"RESULT 컬럼의 데이터 분포\")\n",
    "plt.xlabel(\"\")\n",
    "plt.ylabel(\"데이터 개수\")\n",
    "plt.grid(True, linestyle='--', linewidth=0.3, axis='y')"
   ]
  },
  {
   "cell_type": "markdown",
   "id": "dc2f61ea",
   "metadata": {},
   "source": [
    "### corr"
   ]
  },
  {
   "cell_type": "code",
   "execution_count": 40,
   "id": "96bdda61",
   "metadata": {},
   "outputs": [
    {
     "data": {
      "image/png": "[encoded data removed]",
      "text/plain": [
       "<Figure size 1000x800 with 2 Axes>"
      ]
     },
     "metadata": {},
     "output_type": "display_data"
    }
   ],
   "source": [
    "method = \"kendall\" # \"spearman\"\n",
    "\n",
    "corr_matrix = X.drop(['index', 'track_E', 'significant', 'odds_result'], axis=1).corr(\n",
    "    method = method\n",
    ")\n",
    "mask = np.triu(np.ones_like(corr_matrix, dtype=bool))\n",
    "\n",
    "plt.figure(figsize=(10, 8))\n",
    "sns.heatmap(corr_matrix, mask=mask, annot=True, fmt=\".2f\", cmap='coolwarm', square=True, linewidths=.5)\n",
    "plt.show()"
   ]
  },
  {
   "cell_type": "markdown",
   "id": "cf12a43d",
   "metadata": {},
   "source": [
    "# Save Preprocess Csv Data"
   ]
  },
  {
   "cell_type": "code",
   "execution_count": 41,
   "id": "a0df0a7e",
   "metadata": {},
   "outputs": [],
   "source": [
    "X.to_csv(\"preprocessing.csv\", index = False)"
   ]
  },
  {
   "cell_type": "markdown",
   "id": "66296b84",
   "metadata": {},
   "source": [
    "# Modeling Data Subset"
   ]
  },
  {
   "cell_type": "code",
   "execution_count": 42,
   "id": "a07d4403",
   "metadata": {},
   "outputs": [],
   "source": [
    "X, y_rank, y_result = X.drop(['rank', 'RESULT'], axis=1), X['rank'], X['RESULT'].astype(bool)"
   ]
  },
  {
   "cell_type": "code",
   "execution_count": 43,
   "id": "03c01079",
   "metadata": {},
   "outputs": [
    {
     "data": {
      "text/html": [
       "<div>\n",
       "<style scoped>\n",
       "    .dataframe tbody tr th:only-of-type {\n",
       "        vertical-align: middle;\n",
       "    }\n",
       "\n",
       "    .dataframe tbody tr th {\n",
       "        vertical-align: top;\n",
       "    }\n",
       "\n",
       "    .dataframe thead th {\n",
       "        text-align: right;\n",
       "    }\n",
       "</style>\n",
       "<table border=\"1\" class=\"dataframe\">\n",
       "  <thead>\n",
       "    <tr style=\"text-align: right;\">\n",
       "      <th></th>\n",
       "      <th>index</th>\n",
       "      <th>date</th>\n",
       "      <th>round</th>\n",
       "      <th>game_count</th>\n",
       "      <th>game_goal</th>\n",
       "      <th>cur_game_count</th>\n",
       "      <th>win_odds</th>\n",
       "      <th>lose_odds</th>\n",
       "      <th>track_E</th>\n",
       "      <th>cc</th>\n",
       "      <th>part_people</th>\n",
       "      <th>prefix_rank</th>\n",
       "      <th>odds_result</th>\n",
       "      <th>significant</th>\n",
       "      <th>track_E_encoded</th>\n",
       "      <th>odds_result_SU</th>\n",
       "      <th>odds_result_UD</th>\n",
       "    </tr>\n",
       "  </thead>\n",
       "  <tbody>\n",
       "    <tr>\n",
       "      <th>0</th>\n",
       "      <td>0</td>\n",
       "      <td>20220204</td>\n",
       "      <td>1</td>\n",
       "      <td>3</td>\n",
       "      <td>15</td>\n",
       "      <td>1</td>\n",
       "      <td>4.71</td>\n",
       "      <td>1.27</td>\n",
       "      <td>Mount Wario</td>\n",
       "      <td>150</td>\n",
       "      <td>10</td>\n",
       "      <td>10</td>\n",
       "      <td>SU</td>\n",
       "      <td>NaN</td>\n",
       "      <td>41</td>\n",
       "      <td>1</td>\n",
       "      <td>0</td>\n",
       "    </tr>\n",
       "    <tr>\n",
       "      <th>1</th>\n",
       "      <td>1</td>\n",
       "      <td>20220204</td>\n",
       "      <td>1</td>\n",
       "      <td>3</td>\n",
       "      <td>15</td>\n",
       "      <td>2</td>\n",
       "      <td>4.71</td>\n",
       "      <td>1.27</td>\n",
       "      <td>Dragon Driftway</td>\n",
       "      <td>150</td>\n",
       "      <td>12</td>\n",
       "      <td>17</td>\n",
       "      <td>SU</td>\n",
       "      <td>NaN</td>\n",
       "      <td>20</td>\n",
       "      <td>1</td>\n",
       "      <td>0</td>\n",
       "    </tr>\n",
       "    <tr>\n",
       "      <th>2</th>\n",
       "      <td>2</td>\n",
       "      <td>20220204</td>\n",
       "      <td>2</td>\n",
       "      <td>3</td>\n",
       "      <td>15</td>\n",
       "      <td>1</td>\n",
       "      <td>7.04</td>\n",
       "      <td>1.17</td>\n",
       "      <td>Mount Wario</td>\n",
       "      <td>150</td>\n",
       "      <td>11</td>\n",
       "      <td>2</td>\n",
       "      <td>UD</td>\n",
       "      <td>NaN</td>\n",
       "      <td>41</td>\n",
       "      <td>0</td>\n",
       "      <td>1</td>\n",
       "    </tr>\n",
       "    <tr>\n",
       "      <th>3</th>\n",
       "      <td>3</td>\n",
       "      <td>20220204</td>\n",
       "      <td>2</td>\n",
       "      <td>3</td>\n",
       "      <td>15</td>\n",
       "      <td>2</td>\n",
       "      <td>7.04</td>\n",
       "      <td>1.17</td>\n",
       "      <td>3DS DK Jungle</td>\n",
       "      <td>150</td>\n",
       "      <td>11</td>\n",
       "      <td>7</td>\n",
       "      <td>UD</td>\n",
       "      <td>NaN</td>\n",
       "      <td>0</td>\n",
       "      <td>0</td>\n",
       "      <td>1</td>\n",
       "    </tr>\n",
       "    <tr>\n",
       "      <th>4</th>\n",
       "      <td>4</td>\n",
       "      <td>20220204</td>\n",
       "      <td>2</td>\n",
       "      <td>3</td>\n",
       "      <td>15</td>\n",
       "      <td>3</td>\n",
       "      <td>7.04</td>\n",
       "      <td>1.17</td>\n",
       "      <td>DS Wario Stardium</td>\n",
       "      <td>150</td>\n",
       "      <td>12</td>\n",
       "      <td>12</td>\n",
       "      <td>UD</td>\n",
       "      <td>NaN</td>\n",
       "      <td>18</td>\n",
       "      <td>0</td>\n",
       "      <td>1</td>\n",
       "    </tr>\n",
       "  </tbody>\n",
       "</table>\n",
       "</div>"
      ],
      "text/plain": [
       "   index      date  round  game_count  game_goal  cur_game_count  win_odds  \\\n",
       "0      0  20220204      1           3         15               1      4.71   \n",
       "1      1  20220204      1           3         15               2      4.71   \n",
       "2      2  20220204      2           3         15               1      7.04   \n",
       "3      3  20220204      2           3         15               2      7.04   \n",
       "4      4  20220204      2           3         15               3      7.04   \n",
       "\n",
       "   lose_odds            track_E   cc  part_people  prefix_rank odds_result  \\\n",
       "0       1.27        Mount Wario  150           10           10          SU   \n",
       "1       1.27    Dragon Driftway  150           12           17          SU   \n",
       "2       1.17        Mount Wario  150           11            2          UD   \n",
       "3       1.17      3DS DK Jungle  150           11            7          UD   \n",
       "4       1.17  DS Wario Stardium  150           12           12          UD   \n",
       "\n",
       "  significant  track_E_encoded  odds_result_SU  odds_result_UD  \n",
       "0         NaN               41               1               0  \n",
       "1         NaN               20               1               0  \n",
       "2         NaN               41               0               1  \n",
       "3         NaN                0               0               1  \n",
       "4         NaN               18               0               1  "
      ]
     },
     "execution_count": 43,
     "metadata": {},
     "output_type": "execute_result"
    }
   ],
   "source": [
    "X.head()"
   ]
  },
  {
   "cell_type": "code",
   "execution_count": 44,
   "id": "a7912dc8",
   "metadata": {},
   "outputs": [
    {
     "data": {
      "text/plain": [
       "0    10\n",
       "1     7\n",
       "2     2\n",
       "3     5\n",
       "4     5\n",
       "Name: rank, dtype: int64"
      ]
     },
     "execution_count": 44,
     "metadata": {},
     "output_type": "execute_result"
    }
   ],
   "source": [
    "y_rank.head()"
   ]
  },
  {
   "cell_type": "code",
   "execution_count": 45,
   "id": "45584961",
   "metadata": {},
   "outputs": [
    {
     "data": {
      "text/plain": [
       "0    False\n",
       "1    False\n",
       "2     True\n",
       "3     True\n",
       "4     True\n",
       "Name: RESULT, dtype: bool"
      ]
     },
     "execution_count": 45,
     "metadata": {},
     "output_type": "execute_result"
    }
   ],
   "source": [
    "y_result.head()"
   ]
  },
  {
   "cell_type": "markdown",
   "id": "41c77f4c",
   "metadata": {},
   "source": [
    "# Modeling"
   ]
  },
  {
   "cell_type": "code",
   "execution_count": 46,
   "id": "44b75dbf",
   "metadata": {},
   "outputs": [],
   "source": [
    "from sklearn.multioutput import MultiOutputClassifier\n",
    "from sklearn.metrics import hamming_loss\n",
    "from sklearn.metrics import jaccard_score\n",
    "\n",
    "from sklearn.linear_model import LinearRegression, LogisticRegression\n",
    "from sklearn.model_selection import train_test_split\n",
    "from sklearn.metrics import (\n",
    "    accuracy_score,\n",
    "    f1_score,\n",
    "    precision_score,\n",
    "    recall_score,\n",
    "    roc_auc_score,\n",
    "    confusion_matrix,\n",
    "    classification_report,\n",
    ")\n",
    "\n",
    "TEST_SIZE = 0.2\n",
    "RANDOM_STATE = 42"
   ]
  },
  {
   "cell_type": "code",
   "execution_count": 47,
   "id": "99f8544a",
   "metadata": {},
   "outputs": [
    {
     "data": {
      "text/html": [
       "<div>\n",
       "<style scoped>\n",
       "    .dataframe tbody tr th:only-of-type {\n",
       "        vertical-align: middle;\n",
       "    }\n",
       "\n",
       "    .dataframe tbody tr th {\n",
       "        vertical-align: top;\n",
       "    }\n",
       "\n",
       "    .dataframe thead th {\n",
       "        text-align: right;\n",
       "    }\n",
       "</style>\n",
       "<table border=\"1\" class=\"dataframe\">\n",
       "  <thead>\n",
       "    <tr style=\"text-align: right;\">\n",
       "      <th></th>\n",
       "      <th>index</th>\n",
       "      <th>date</th>\n",
       "      <th>round</th>\n",
       "      <th>game_count</th>\n",
       "      <th>game_goal</th>\n",
       "      <th>cur_game_count</th>\n",
       "      <th>win_odds</th>\n",
       "      <th>lose_odds</th>\n",
       "      <th>track_E</th>\n",
       "      <th>cc</th>\n",
       "      <th>part_people</th>\n",
       "      <th>prefix_rank</th>\n",
       "      <th>odds_result</th>\n",
       "      <th>significant</th>\n",
       "      <th>track_E_encoded</th>\n",
       "      <th>odds_result_SU</th>\n",
       "      <th>odds_result_UD</th>\n",
       "    </tr>\n",
       "  </thead>\n",
       "  <tbody>\n",
       "    <tr>\n",
       "      <th>0</th>\n",
       "      <td>0</td>\n",
       "      <td>20220204</td>\n",
       "      <td>1</td>\n",
       "      <td>3</td>\n",
       "      <td>15</td>\n",
       "      <td>1</td>\n",
       "      <td>4.71</td>\n",
       "      <td>1.27</td>\n",
       "      <td>Mount Wario</td>\n",
       "      <td>150</td>\n",
       "      <td>10</td>\n",
       "      <td>10</td>\n",
       "      <td>SU</td>\n",
       "      <td>NaN</td>\n",
       "      <td>41</td>\n",
       "      <td>1</td>\n",
       "      <td>0</td>\n",
       "    </tr>\n",
       "    <tr>\n",
       "      <th>1</th>\n",
       "      <td>1</td>\n",
       "      <td>20220204</td>\n",
       "      <td>1</td>\n",
       "      <td>3</td>\n",
       "      <td>15</td>\n",
       "      <td>2</td>\n",
       "      <td>4.71</td>\n",
       "      <td>1.27</td>\n",
       "      <td>Dragon Driftway</td>\n",
       "      <td>150</td>\n",
       "      <td>12</td>\n",
       "      <td>17</td>\n",
       "      <td>SU</td>\n",
       "      <td>NaN</td>\n",
       "      <td>20</td>\n",
       "      <td>1</td>\n",
       "      <td>0</td>\n",
       "    </tr>\n",
       "    <tr>\n",
       "      <th>2</th>\n",
       "      <td>2</td>\n",
       "      <td>20220204</td>\n",
       "      <td>2</td>\n",
       "      <td>3</td>\n",
       "      <td>15</td>\n",
       "      <td>1</td>\n",
       "      <td>7.04</td>\n",
       "      <td>1.17</td>\n",
       "      <td>Mount Wario</td>\n",
       "      <td>150</td>\n",
       "      <td>11</td>\n",
       "      <td>2</td>\n",
       "      <td>UD</td>\n",
       "      <td>NaN</td>\n",
       "      <td>41</td>\n",
       "      <td>0</td>\n",
       "      <td>1</td>\n",
       "    </tr>\n",
       "    <tr>\n",
       "      <th>3</th>\n",
       "      <td>3</td>\n",
       "      <td>20220204</td>\n",
       "      <td>2</td>\n",
       "      <td>3</td>\n",
       "      <td>15</td>\n",
       "      <td>2</td>\n",
       "      <td>7.04</td>\n",
       "      <td>1.17</td>\n",
       "      <td>3DS DK Jungle</td>\n",
       "      <td>150</td>\n",
       "      <td>11</td>\n",
       "      <td>7</td>\n",
       "      <td>UD</td>\n",
       "      <td>NaN</td>\n",
       "      <td>0</td>\n",
       "      <td>0</td>\n",
       "      <td>1</td>\n",
       "    </tr>\n",
       "    <tr>\n",
       "      <th>4</th>\n",
       "      <td>4</td>\n",
       "      <td>20220204</td>\n",
       "      <td>2</td>\n",
       "      <td>3</td>\n",
       "      <td>15</td>\n",
       "      <td>3</td>\n",
       "      <td>7.04</td>\n",
       "      <td>1.17</td>\n",
       "      <td>DS Wario Stardium</td>\n",
       "      <td>150</td>\n",
       "      <td>12</td>\n",
       "      <td>12</td>\n",
       "      <td>UD</td>\n",
       "      <td>NaN</td>\n",
       "      <td>18</td>\n",
       "      <td>0</td>\n",
       "      <td>1</td>\n",
       "    </tr>\n",
       "  </tbody>\n",
       "</table>\n",
       "</div>"
      ],
      "text/plain": [
       "   index      date  round  game_count  game_goal  cur_game_count  win_odds  \\\n",
       "0      0  20220204      1           3         15               1      4.71   \n",
       "1      1  20220204      1           3         15               2      4.71   \n",
       "2      2  20220204      2           3         15               1      7.04   \n",
       "3      3  20220204      2           3         15               2      7.04   \n",
       "4      4  20220204      2           3         15               3      7.04   \n",
       "\n",
       "   lose_odds            track_E   cc  part_people  prefix_rank odds_result  \\\n",
       "0       1.27        Mount Wario  150           10           10          SU   \n",
       "1       1.27    Dragon Driftway  150           12           17          SU   \n",
       "2       1.17        Mount Wario  150           11            2          UD   \n",
       "3       1.17      3DS DK Jungle  150           11            7          UD   \n",
       "4       1.17  DS Wario Stardium  150           12           12          UD   \n",
       "\n",
       "  significant  track_E_encoded  odds_result_SU  odds_result_UD  \n",
       "0         NaN               41               1               0  \n",
       "1         NaN               20               1               0  \n",
       "2         NaN               41               0               1  \n",
       "3         NaN                0               0               1  \n",
       "4         NaN               18               0               1  "
      ]
     },
     "execution_count": 47,
     "metadata": {},
     "output_type": "execute_result"
    }
   ],
   "source": [
    "features_to_drop = [\n",
    "    'index',\n",
    "    'date',\n",
    "    'round', #\n",
    "    # 'game_count',\n",
    "    # 'game_goal',\n",
    "    # 'cur_game_count',\n",
    "    'win_odds', #\n",
    "    'lose_odds', #\n",
    "    'track_E',\n",
    "    # 'cc',\n",
    "    # 'part_people',\n",
    "    # 'rank', -- already drop\n",
    "    'prefix_rank', #\n",
    "    'odds_result',\n",
    "    'significant',\n",
    "    # 'track_E_encoded',\n",
    "    'odds_result_SU', #\n",
    "    'odds_result_UD', #\n",
    "]\n",
    "\n",
    "X.head()"
   ]
  },
  {
   "cell_type": "code",
   "execution_count": 48,
   "id": "39f51ea4",
   "metadata": {},
   "outputs": [],
   "source": [
    "Xt = X.drop(features_to_drop, axis=1)"
   ]
  },
  {
   "cell_type": "markdown",
   "id": "14b578e2",
   "metadata": {},
   "source": [
    "### rank 컬럼에 대해서 model 학습하기"
   ]
  },
  {
   "cell_type": "code",
   "execution_count": 49,
   "id": "c174da93",
   "metadata": {},
   "outputs": [
    {
     "data": {
      "text/html": [
       "<style>#sk-container-id-1 {color: black;background-color: white;}#sk-container-id-1 pre{padding: 0;}#sk-container-id-1 div.sk-toggleable {background-color: white;}#sk-container-id-1 label.sk-toggleable__label {cursor: pointer;display: block;width: 100%;margin-bottom: 0;padding: 0.3em;box-sizing: border-box;text-align: center;}#sk-container-id-1 label.sk-toggleable__label-arrow:before {content: \"▸\";float: left;margin-right: 0.25em;color: #696969;}#sk-container-id-1 label.sk-toggleable__label-arrow:hover:before {color: black;}#sk-container-id-1 div.sk-estimator:hover label.sk-toggleable__label-arrow:before {color: black;}#sk-container-id-1 div.sk-toggleable__content {max-height: 0;max-width: 0;overflow: hidden;text-align: left;background-color: #f0f8ff;}#sk-container-id-1 div.sk-toggleable__content pre {margin: 0.2em;color: black;border-radius: 0.25em;background-color: #f0f8ff;}#sk-container-id-1 input.sk-toggleable__control:checked~div.sk-toggleable__content {max-height: 200px;max-width: 100%;overflow: auto;}#sk-container-id-1 input.sk-toggleable__control:checked~label.sk-toggleable__label-arrow:before {content: \"▾\";}#sk-container-id-1 div.sk-estimator input.sk-toggleable__control:checked~label.sk-toggleable__label {background-color: #d4ebff;}#sk-container-id-1 div.sk-label input.sk-toggleable__control:checked~label.sk-toggleable__label {background-color: #d4ebff;}#sk-container-id-1 input.sk-hidden--visually {border: 0;clip: rect(1px 1px 1px 1px);clip: rect(1px, 1px, 1px, 1px);height: 1px;margin: -1px;overflow: hidden;padding: 0;position: absolute;width: 1px;}#sk-container-id-1 div.sk-estimator {font-family: monospace;background-color: #f0f8ff;border: 1px dotted black;border-radius: 0.25em;box-sizing: border-box;margin-bottom: 0.5em;}#sk-container-id-1 div.sk-estimator:hover {background-color: #d4ebff;}#sk-container-id-1 div.sk-parallel-item::after {content: \"\";width: 100%;border-bottom: 1px solid gray;flex-grow: 1;}#sk-container-id-1 div.sk-label:hover label.sk-toggleable__label {background-color: #d4ebff;}#sk-container-id-1 div.sk-serial::before {content: \"\";position: absolute;border-left: 1px solid gray;box-sizing: border-box;top: 0;bottom: 0;left: 50%;z-index: 0;}#sk-container-id-1 div.sk-serial {display: flex;flex-direction: column;align-items: center;background-color: white;padding-right: 0.2em;padding-left: 0.2em;position: relative;}#sk-container-id-1 div.sk-item {position: relative;z-index: 1;}#sk-container-id-1 div.sk-parallel {display: flex;align-items: stretch;justify-content: center;background-color: white;position: relative;}#sk-container-id-1 div.sk-item::before, #sk-container-id-1 div.sk-parallel-item::before {content: \"\";position: absolute;border-left: 1px solid gray;box-sizing: border-box;top: 0;bottom: 0;left: 50%;z-index: -1;}#sk-container-id-1 div.sk-parallel-item {display: flex;flex-direction: column;z-index: 1;position: relative;background-color: white;}#sk-container-id-1 div.sk-parallel-item:first-child::after {align-self: flex-end;width: 50%;}#sk-container-id-1 div.sk-parallel-item:last-child::after {align-self: flex-start;width: 50%;}#sk-container-id-1 div.sk-parallel-item:only-child::after {width: 0;}#sk-container-id-1 div.sk-dashed-wrapped {border: 1px dashed gray;margin: 0 0.4em 0.5em 0.4em;box-sizing: border-box;padding-bottom: 0.4em;background-color: white;}#sk-container-id-1 div.sk-label label {font-family: monospace;font-weight: bold;display: inline-block;line-height: 1.2em;}#sk-container-id-1 div.sk-label-container {text-align: center;}#sk-container-id-1 div.sk-container {/* jupyter's `normalize.less` sets `[hidden] { display: none; }` but bootstrap.min.css set `[hidden] { display: none !important; }` so we also need the `!important` here to be able to override the default hidden behavior on the sphinx rendered scikit-learn.org. See: https://github.com/scikit-learn/scikit-learn/issues/21755 */display: inline-block !important;position: relative;}#sk-container-id-1 div.sk-text-repr-fallback {display: none;}</style><div id=\"sk-container-id-1\" class=\"sk-top-container\"><div class=\"sk-text-repr-fallback\"><pre>LinearRegression()</pre><b>In a Jupyter environment, please rerun this cell to show the HTML representation or trust the notebook. <br />On GitHub, the HTML representation is unable to render, please try loading this page with nbviewer.org.</b></div><div class=\"sk-container\" hidden><div class=\"sk-item\"><div class=\"sk-estimator sk-toggleable\"><input class=\"sk-toggleable__control sk-hidden--visually\" id=\"sk-estimator-id-1\" type=\"checkbox\" checked><label for=\"sk-estimator-id-1\" class=\"sk-toggleable__label sk-toggleable__label-arrow\">LinearRegression</label><div class=\"sk-toggleable__content\"><pre>LinearRegression()</pre></div></div></div></div></div>"
      ],
      "text/plain": [
       "LinearRegression()"
      ]
     },
     "execution_count": 49,
     "metadata": {},
     "output_type": "execute_result"
    }
   ],
   "source": [
    "# 테스트셋 분리\n",
    "X_rank_train, X_rank_test, y_rank_train, y_rank_test = train_test_split(\n",
    "    Xt,\n",
    "    y_rank,\n",
    "    test_size = TEST_SIZE,\n",
    "    random_state = RANDOM_STATE\n",
    ")\n",
    "\n",
    "# 모델 초기화 및 학습\n",
    "rank_model = LinearRegression()\n",
    "rank_model.fit(X_rank_train, y_rank_train)"
   ]
  },
  {
   "cell_type": "code",
   "execution_count": 50,
   "id": "f7d7ea69",
   "metadata": {},
   "outputs": [
    {
     "data": {
      "text/plain": [
       "((496, 6), (124, 6))"
      ]
     },
     "execution_count": 50,
     "metadata": {},
     "output_type": "execute_result"
    }
   ],
   "source": [
    "# X 데이터 크기\n",
    "X_rank_train.shape, X_rank_test.shape"
   ]
  },
  {
   "cell_type": "code",
   "execution_count": 51,
   "id": "3ceff343",
   "metadata": {},
   "outputs": [
    {
     "data": {
      "text/plain": [
       "((496,), (124,))"
      ]
     },
     "execution_count": 51,
     "metadata": {},
     "output_type": "execute_result"
    }
   ],
   "source": [
    "# rank 데이터 크기\n",
    "y_rank_train.shape, y_rank_test.shape"
   ]
  },
  {
   "cell_type": "markdown",
   "id": "87fbb888",
   "metadata": {},
   "source": [
    "### 모델 학습"
   ]
  },
  {
   "cell_type": "code",
   "execution_count": 52,
   "id": "72816184",
   "metadata": {},
   "outputs": [
    {
     "data": {
      "text/plain": [
       "(2.9518428368173297, 2.9911971002461475)"
      ]
     },
     "execution_count": 52,
     "metadata": {},
     "output_type": "execute_result"
    }
   ],
   "source": [
    "from sklearn.metrics import mean_squared_error\n",
    "\n",
    "# 훈련 세트에서의 성능 평가\n",
    "y_rank_train_pred = rank_model.predict(X_rank_train)\n",
    "train_accuracy = mean_squared_error(y_rank_train, y_rank_train_pred, squared=False)\n",
    "\n",
    "# 테스트 세트에서의 성능 평가\n",
    "y_rank_test_pred = rank_model.predict(X_rank_test)\n",
    "test_accuracy = mean_squared_error(y_rank_test, y_rank_test_pred, squared=False)\n",
    "\n",
    "# 성능 결과 출력\n",
    "train_accuracy, test_accuracy"
   ]
  },
  {
   "cell_type": "code",
   "execution_count": 53,
   "id": "00014d0f",
   "metadata": {},
   "outputs": [
    {
     "data": {
      "text/plain": [
       "'6등'"
      ]
     },
     "execution_count": 53,
     "metadata": {},
     "output_type": "execute_result"
    }
   ],
   "source": [
    "columns_name = [\n",
    "    'game_count',\n",
    "    'game_goal',\n",
    "    'cur_game_count',\n",
    "    'cc',\n",
    "    'part_people',\n",
    "    'track_E_encoded',\n",
    "]\n",
    "\n",
    "new_data = [\n",
    "    1,    # 'game_count'\n",
    "    12,   # 'game_goal'\n",
    "    2,    # 'cur_game_count'\n",
    "    150,  # 'cc'\n",
    "    12,   # 'part_people'\n",
    "    71,  # 'track_E_encoded'\n",
    "]\n",
    "\n",
    "df = pd.DataFrame([new_data], columns=columns_name)\n",
    "proba = rank_model.predict(df)\n",
    "f'{proba[0]:.0f}등'"
   ]
  },
  {
   "cell_type": "markdown",
   "id": "2929e014",
   "metadata": {},
   "source": [
    "### RESULT 컬럼에 대해서 model 학습하기"
   ]
  },
  {
   "cell_type": "code",
   "execution_count": 54,
   "id": "577dad03",
   "metadata": {},
   "outputs": [
    {
     "data": {
      "text/html": [
       "<style>#sk-container-id-2 {color: black;background-color: white;}#sk-container-id-2 pre{padding: 0;}#sk-container-id-2 div.sk-toggleable {background-color: white;}#sk-container-id-2 label.sk-toggleable__label {cursor: pointer;display: block;width: 100%;margin-bottom: 0;padding: 0.3em;box-sizing: border-box;text-align: center;}#sk-container-id-2 label.sk-toggleable__label-arrow:before {content: \"▸\";float: left;margin-right: 0.25em;color: #696969;}#sk-container-id-2 label.sk-toggleable__label-arrow:hover:before {color: black;}#sk-container-id-2 div.sk-estimator:hover label.sk-toggleable__label-arrow:before {color: black;}#sk-container-id-2 div.sk-toggleable__content {max-height: 0;max-width: 0;overflow: hidden;text-align: left;background-color: #f0f8ff;}#sk-container-id-2 div.sk-toggleable__content pre {margin: 0.2em;color: black;border-radius: 0.25em;background-color: #f0f8ff;}#sk-container-id-2 input.sk-toggleable__control:checked~div.sk-toggleable__content {max-height: 200px;max-width: 100%;overflow: auto;}#sk-container-id-2 input.sk-toggleable__control:checked~label.sk-toggleable__label-arrow:before {content: \"▾\";}#sk-container-id-2 div.sk-estimator input.sk-toggleable__control:checked~label.sk-toggleable__label {background-color: #d4ebff;}#sk-container-id-2 div.sk-label input.sk-toggleable__control:checked~label.sk-toggleable__label {background-color: #d4ebff;}#sk-container-id-2 input.sk-hidden--visually {border: 0;clip: rect(1px 1px 1px 1px);clip: rect(1px, 1px, 1px, 1px);height: 1px;margin: -1px;overflow: hidden;padding: 0;position: absolute;width: 1px;}#sk-container-id-2 div.sk-estimator {font-family: monospace;background-color: #f0f8ff;border: 1px dotted black;border-radius: 0.25em;box-sizing: border-box;margin-bottom: 0.5em;}#sk-container-id-2 div.sk-estimator:hover {background-color: #d4ebff;}#sk-container-id-2 div.sk-parallel-item::after {content: \"\";width: 100%;border-bottom: 1px solid gray;flex-grow: 1;}#sk-container-id-2 div.sk-label:hover label.sk-toggleable__label {background-color: #d4ebff;}#sk-container-id-2 div.sk-serial::before {content: \"\";position: absolute;border-left: 1px solid gray;box-sizing: border-box;top: 0;bottom: 0;left: 50%;z-index: 0;}#sk-container-id-2 div.sk-serial {display: flex;flex-direction: column;align-items: center;background-color: white;padding-right: 0.2em;padding-left: 0.2em;position: relative;}#sk-container-id-2 div.sk-item {position: relative;z-index: 1;}#sk-container-id-2 div.sk-parallel {display: flex;align-items: stretch;justify-content: center;background-color: white;position: relative;}#sk-container-id-2 div.sk-item::before, #sk-container-id-2 div.sk-parallel-item::before {content: \"\";position: absolute;border-left: 1px solid gray;box-sizing: border-box;top: 0;bottom: 0;left: 50%;z-index: -1;}#sk-container-id-2 div.sk-parallel-item {display: flex;flex-direction: column;z-index: 1;position: relative;background-color: white;}#sk-container-id-2 div.sk-parallel-item:first-child::after {align-self: flex-end;width: 50%;}#sk-container-id-2 div.sk-parallel-item:last-child::after {align-self: flex-start;width: 50%;}#sk-container-id-2 div.sk-parallel-item:only-child::after {width: 0;}#sk-container-id-2 div.sk-dashed-wrapped {border: 1px dashed gray;margin: 0 0.4em 0.5em 0.4em;box-sizing: border-box;padding-bottom: 0.4em;background-color: white;}#sk-container-id-2 div.sk-label label {font-family: monospace;font-weight: bold;display: inline-block;line-height: 1.2em;}#sk-container-id-2 div.sk-label-container {text-align: center;}#sk-container-id-2 div.sk-container {/* jupyter's `normalize.less` sets `[hidden] { display: none; }` but bootstrap.min.css set `[hidden] { display: none !important; }` so we also need the `!important` here to be able to override the default hidden behavior on the sphinx rendered scikit-learn.org. See: https://github.com/scikit-learn/scikit-learn/issues/21755 */display: inline-block !important;position: relative;}#sk-container-id-2 div.sk-text-repr-fallback {display: none;}</style><div id=\"sk-container-id-2\" class=\"sk-top-container\"><div class=\"sk-text-repr-fallback\"><pre>LogisticRegression(solver=&#x27;liblinear&#x27;)</pre><b>In a Jupyter environment, please rerun this cell to show the HTML representation or trust the notebook. <br />On GitHub, the HTML representation is unable to render, please try loading this page with nbviewer.org.</b></div><div class=\"sk-container\" hidden><div class=\"sk-item\"><div class=\"sk-estimator sk-toggleable\"><input class=\"sk-toggleable__control sk-hidden--visually\" id=\"sk-estimator-id-2\" type=\"checkbox\" checked><label for=\"sk-estimator-id-2\" class=\"sk-toggleable__label sk-toggleable__label-arrow\">LogisticRegression</label><div class=\"sk-toggleable__content\"><pre>LogisticRegression(solver=&#x27;liblinear&#x27;)</pre></div></div></div></div></div>"
      ],
      "text/plain": [
       "LogisticRegression(solver='liblinear')"
      ]
     },
     "execution_count": 54,
     "metadata": {},
     "output_type": "execute_result"
    }
   ],
   "source": [
    "# 테스트셋 분리\n",
    "X_result_train, X_result_test, y_result_train, y_result_test = train_test_split(\n",
    "    Xt,\n",
    "    y_result,\n",
    "    test_size = TEST_SIZE,\n",
    "    random_state = RANDOM_STATE\n",
    ")\n",
    "\n",
    "# 모델 초기화 및 학습\n",
    "result_model = LogisticRegression(solver='liblinear') # 'liblinear'는 소규모 데이터셋에 적합\n",
    "result_model.fit(X_result_train, y_result_train)"
   ]
  },
  {
   "cell_type": "code",
   "execution_count": 55,
   "id": "d88b84ab",
   "metadata": {},
   "outputs": [
    {
     "data": {
      "text/plain": [
       "((496, 6), (124, 6))"
      ]
     },
     "execution_count": 55,
     "metadata": {},
     "output_type": "execute_result"
    }
   ],
   "source": [
    "# X 데이터 크기\n",
    "X_result_train.shape, X_result_test.shape"
   ]
  },
  {
   "cell_type": "code",
   "execution_count": 56,
   "id": "3d320b88",
   "metadata": {},
   "outputs": [
    {
     "data": {
      "text/plain": [
       "((496,), (124,))"
      ]
     },
     "execution_count": 56,
     "metadata": {},
     "output_type": "execute_result"
    }
   ],
   "source": [
    "# result 데이터 크기\n",
    "y_result_train.shape, y_result_test.shape"
   ]
  },
  {
   "cell_type": "markdown",
   "id": "9314cc52",
   "metadata": {},
   "source": [
    "### 모델 학습"
   ]
  },
  {
   "cell_type": "code",
   "execution_count": 57,
   "id": "5911a344",
   "metadata": {},
   "outputs": [
    {
     "data": {
      "text/plain": [
       "(0.7641129032258065, 0.6854838709677419)"
      ]
     },
     "execution_count": 57,
     "metadata": {},
     "output_type": "execute_result"
    }
   ],
   "source": [
    "# 훈련 세트에서의 성능 평가\n",
    "y_result_train_pred = result_model.predict(X_result_train)\n",
    "train_accuracy = accuracy_score(y_result_train, y_result_train_pred)\n",
    "\n",
    "# 테스트 세트에서의 성능 평가\n",
    "y_result_test_pred = result_model.predict(X_result_test)\n",
    "test_accuracy = accuracy_score(y_result_test, y_result_test_pred)\n",
    "\n",
    "# 성능 결과 출력\n",
    "train_accuracy, test_accuracy"
   ]
  },
  {
   "cell_type": "code",
   "execution_count": 58,
   "id": "d9b99269",
   "metadata": {},
   "outputs": [
    {
     "name": "stdout",
     "output_type": "stream",
     "text": [
      "True  probability: 0.5775440973135332\n",
      "False probability: 0.4224559026864668\n"
     ]
    }
   ],
   "source": [
    "columns_name = [\n",
    "    'game_count',\n",
    "    'game_goal',\n",
    "    'cur_game_count',\n",
    "    'cc',\n",
    "    'part_people',\n",
    "    'track_E_encoded',\n",
    "]\n",
    "\n",
    "new_data = [\n",
    "    1,    # 'game_count'\n",
    "    12,   # 'game_goal'\n",
    "    2,    # 'cur_game_count'\n",
    "    150,  # 'cc'\n",
    "    12,   # 'part_people'\n",
    "    71,  # 'track_E_encoded'\n",
    "]\n",
    "\n",
    "df = pd.DataFrame([new_data], columns=columns_name)\n",
    "proba = result_model.predict_proba(df)\n",
    "f, t = proba.flatten()\n",
    "\n",
    "print(f\"True  probability: {t}\")\n",
    "print(f\"False probability: {f}\")"
   ]
  },
  {
   "cell_type": "code",
   "execution_count": 59,
   "id": "091aa56b",
   "metadata": {},
   "outputs": [
    {
     "data": {
      "text/plain": [
       "('Mount Wario', 8)"
      ]
     },
     "execution_count": 59,
     "metadata": {},
     "output_type": "execute_result"
    }
   ],
   "source": [
    "num_2_track[41], track_2_num['Big Blue']"
   ]
  },
  {
   "cell_type": "code",
   "execution_count": 60,
   "id": "9da7b2b5",
   "metadata": {},
   "outputs": [
    {
     "name": "stdout",
     "output_type": "stream",
     "text": [
      "Feature: 0, Score: 0.9006038166320627\n",
      "Feature: 1, Score: 0.16629207849524597\n",
      "Feature: 2, Score: 0.10983134406045209\n",
      "Feature: 3, Score: 0.0044459104004055065\n",
      "Feature: 4, Score: 0.2264303711721163\n",
      "Feature: 5, Score: 0.011115463683966171\n"
     ]
    }
   ],
   "source": [
    "coefficients = result_model.coef_[0]  # 이진 분류의 경우\n",
    "\n",
    "# 계수의 절대값을 기준으로 특성 중요도 확인\n",
    "importance = np.abs(coefficients)\n",
    "\n",
    "# 특성 중요도 출력\n",
    "for i, v in enumerate(importance):\n",
    "    print(f'Feature: {i}, Score: {v}')"
   ]
  },
  {
   "cell_type": "code",
   "execution_count": null,
   "id": "57a93561",
   "metadata": {},
   "outputs": [],
   "source": []
  },
  {
   "cell_type": "code",
   "execution_count": null,
   "id": "ec15a34f",
   "metadata": {},
   "outputs": [],
   "source": []
  },
  {
   "cell_type": "code",
   "execution_count": null,
   "id": "0ef5abcd",
   "metadata": {},
   "outputs": [],
   "source": []
  },
  {
   "cell_type": "code",
   "execution_count": 64,
   "id": "5170ffb5",
   "metadata": {},
   "outputs": [
    {
     "data": {
      "text/html": [
       "<div>\n",
       "<style scoped>\n",
       "    .dataframe tbody tr th:only-of-type {\n",
       "        vertical-align: middle;\n",
       "    }\n",
       "\n",
       "    .dataframe tbody tr th {\n",
       "        vertical-align: top;\n",
       "    }\n",
       "\n",
       "    .dataframe thead th {\n",
       "        text-align: right;\n",
       "    }\n",
       "</style>\n",
       "<table border=\"1\" class=\"dataframe\">\n",
       "  <thead>\n",
       "    <tr style=\"text-align: right;\">\n",
       "      <th></th>\n",
       "      <th>index</th>\n",
       "      <th>date</th>\n",
       "      <th>round</th>\n",
       "      <th>game_count</th>\n",
       "      <th>game_goal</th>\n",
       "      <th>cur_game_count</th>\n",
       "      <th>win_odds</th>\n",
       "      <th>lose_odds</th>\n",
       "      <th>track_E</th>\n",
       "      <th>cc</th>\n",
       "      <th>part_people</th>\n",
       "      <th>rank</th>\n",
       "      <th>prefix_rank</th>\n",
       "      <th>odds_result</th>\n",
       "      <th>significant</th>\n",
       "      <th>RESULT</th>\n",
       "      <th>track_E_encoded</th>\n",
       "      <th>odds_result_SU</th>\n",
       "      <th>odds_result_UD</th>\n",
       "    </tr>\n",
       "  </thead>\n",
       "  <tbody>\n",
       "    <tr>\n",
       "      <th>0</th>\n",
       "      <td>0</td>\n",
       "      <td>20220204</td>\n",
       "      <td>1</td>\n",
       "      <td>3</td>\n",
       "      <td>15</td>\n",
       "      <td>1</td>\n",
       "      <td>4.71</td>\n",
       "      <td>1.27</td>\n",
       "      <td>Mount Wario</td>\n",
       "      <td>150</td>\n",
       "      <td>10</td>\n",
       "      <td>10</td>\n",
       "      <td>10</td>\n",
       "      <td>SU</td>\n",
       "      <td>NaN</td>\n",
       "      <td>False</td>\n",
       "      <td>41</td>\n",
       "      <td>1</td>\n",
       "      <td>0</td>\n",
       "    </tr>\n",
       "    <tr>\n",
       "      <th>1</th>\n",
       "      <td>1</td>\n",
       "      <td>20220204</td>\n",
       "      <td>1</td>\n",
       "      <td>3</td>\n",
       "      <td>15</td>\n",
       "      <td>2</td>\n",
       "      <td>4.71</td>\n",
       "      <td>1.27</td>\n",
       "      <td>Dragon Driftway</td>\n",
       "      <td>150</td>\n",
       "      <td>12</td>\n",
       "      <td>7</td>\n",
       "      <td>17</td>\n",
       "      <td>SU</td>\n",
       "      <td>NaN</td>\n",
       "      <td>False</td>\n",
       "      <td>20</td>\n",
       "      <td>1</td>\n",
       "      <td>0</td>\n",
       "    </tr>\n",
       "    <tr>\n",
       "      <th>2</th>\n",
       "      <td>2</td>\n",
       "      <td>20220204</td>\n",
       "      <td>2</td>\n",
       "      <td>3</td>\n",
       "      <td>15</td>\n",
       "      <td>1</td>\n",
       "      <td>7.04</td>\n",
       "      <td>1.17</td>\n",
       "      <td>Mount Wario</td>\n",
       "      <td>150</td>\n",
       "      <td>11</td>\n",
       "      <td>2</td>\n",
       "      <td>2</td>\n",
       "      <td>UD</td>\n",
       "      <td>NaN</td>\n",
       "      <td>True</td>\n",
       "      <td>41</td>\n",
       "      <td>0</td>\n",
       "      <td>1</td>\n",
       "    </tr>\n",
       "    <tr>\n",
       "      <th>3</th>\n",
       "      <td>3</td>\n",
       "      <td>20220204</td>\n",
       "      <td>2</td>\n",
       "      <td>3</td>\n",
       "      <td>15</td>\n",
       "      <td>2</td>\n",
       "      <td>7.04</td>\n",
       "      <td>1.17</td>\n",
       "      <td>3DS DK Jungle</td>\n",
       "      <td>150</td>\n",
       "      <td>11</td>\n",
       "      <td>5</td>\n",
       "      <td>7</td>\n",
       "      <td>UD</td>\n",
       "      <td>NaN</td>\n",
       "      <td>True</td>\n",
       "      <td>0</td>\n",
       "      <td>0</td>\n",
       "      <td>1</td>\n",
       "    </tr>\n",
       "    <tr>\n",
       "      <th>4</th>\n",
       "      <td>4</td>\n",
       "      <td>20220204</td>\n",
       "      <td>2</td>\n",
       "      <td>3</td>\n",
       "      <td>15</td>\n",
       "      <td>3</td>\n",
       "      <td>7.04</td>\n",
       "      <td>1.17</td>\n",
       "      <td>DS Wario Stardium</td>\n",
       "      <td>150</td>\n",
       "      <td>12</td>\n",
       "      <td>5</td>\n",
       "      <td>12</td>\n",
       "      <td>UD</td>\n",
       "      <td>NaN</td>\n",
       "      <td>True</td>\n",
       "      <td>18</td>\n",
       "      <td>0</td>\n",
       "      <td>1</td>\n",
       "    </tr>\n",
       "    <tr>\n",
       "      <th>...</th>\n",
       "      <td>...</td>\n",
       "      <td>...</td>\n",
       "      <td>...</td>\n",
       "      <td>...</td>\n",
       "      <td>...</td>\n",
       "      <td>...</td>\n",
       "      <td>...</td>\n",
       "      <td>...</td>\n",
       "      <td>...</td>\n",
       "      <td>...</td>\n",
       "      <td>...</td>\n",
       "      <td>...</td>\n",
       "      <td>...</td>\n",
       "      <td>...</td>\n",
       "      <td>...</td>\n",
       "      <td>...</td>\n",
       "      <td>...</td>\n",
       "      <td>...</td>\n",
       "      <td>...</td>\n",
       "    </tr>\n",
       "    <tr>\n",
       "      <th>615</th>\n",
       "      <td>627</td>\n",
       "      <td>20231222</td>\n",
       "      <td>3</td>\n",
       "      <td>3</td>\n",
       "      <td>10</td>\n",
       "      <td>1</td>\n",
       "      <td>7.16</td>\n",
       "      <td>1.16</td>\n",
       "      <td>DS Mario Circuit</td>\n",
       "      <td>150</td>\n",
       "      <td>11</td>\n",
       "      <td>9</td>\n",
       "      <td>9</td>\n",
       "      <td>SU</td>\n",
       "      <td>NaN</td>\n",
       "      <td>False</td>\n",
       "      <td>13</td>\n",
       "      <td>1</td>\n",
       "      <td>0</td>\n",
       "    </tr>\n",
       "    <tr>\n",
       "      <th>616</th>\n",
       "      <td>628</td>\n",
       "      <td>20231222</td>\n",
       "      <td>4</td>\n",
       "      <td>3</td>\n",
       "      <td>10</td>\n",
       "      <td>1</td>\n",
       "      <td>8.24</td>\n",
       "      <td>1.14</td>\n",
       "      <td>Wii Grumble Volcano</td>\n",
       "      <td>150</td>\n",
       "      <td>12</td>\n",
       "      <td>12</td>\n",
       "      <td>12</td>\n",
       "      <td>SU</td>\n",
       "      <td>NaN</td>\n",
       "      <td>False</td>\n",
       "      <td>82</td>\n",
       "      <td>1</td>\n",
       "      <td>0</td>\n",
       "    </tr>\n",
       "    <tr>\n",
       "      <th>617</th>\n",
       "      <td>629</td>\n",
       "      <td>20231222</td>\n",
       "      <td>5</td>\n",
       "      <td>3</td>\n",
       "      <td>18</td>\n",
       "      <td>1</td>\n",
       "      <td>1.87</td>\n",
       "      <td>2.15</td>\n",
       "      <td>GC Yoshi's Circuit</td>\n",
       "      <td>150</td>\n",
       "      <td>8</td>\n",
       "      <td>6</td>\n",
       "      <td>6</td>\n",
       "      <td>UD</td>\n",
       "      <td>NaN</td>\n",
       "      <td>False</td>\n",
       "      <td>36</td>\n",
       "      <td>0</td>\n",
       "      <td>1</td>\n",
       "    </tr>\n",
       "    <tr>\n",
       "      <th>618</th>\n",
       "      <td>630</td>\n",
       "      <td>20231222</td>\n",
       "      <td>5</td>\n",
       "      <td>3</td>\n",
       "      <td>18</td>\n",
       "      <td>2</td>\n",
       "      <td>1.87</td>\n",
       "      <td>2.15</td>\n",
       "      <td>DS Walluigi Pinball</td>\n",
       "      <td>150</td>\n",
       "      <td>9</td>\n",
       "      <td>6</td>\n",
       "      <td>12</td>\n",
       "      <td>UD</td>\n",
       "      <td>NaN</td>\n",
       "      <td>False</td>\n",
       "      <td>17</td>\n",
       "      <td>0</td>\n",
       "      <td>1</td>\n",
       "    </tr>\n",
       "    <tr>\n",
       "      <th>619</th>\n",
       "      <td>631</td>\n",
       "      <td>20231222</td>\n",
       "      <td>5</td>\n",
       "      <td>3</td>\n",
       "      <td>18</td>\n",
       "      <td>3</td>\n",
       "      <td>1.87</td>\n",
       "      <td>2.15</td>\n",
       "      <td>Mario Circuit</td>\n",
       "      <td>150</td>\n",
       "      <td>10</td>\n",
       "      <td>10</td>\n",
       "      <td>22</td>\n",
       "      <td>UD</td>\n",
       "      <td>NaN</td>\n",
       "      <td>False</td>\n",
       "      <td>39</td>\n",
       "      <td>0</td>\n",
       "      <td>1</td>\n",
       "    </tr>\n",
       "  </tbody>\n",
       "</table>\n",
       "<p>620 rows × 19 columns</p>\n",
       "</div>"
      ],
      "text/plain": [
       "     index      date  round  game_count  game_goal  cur_game_count  win_odds  \\\n",
       "0        0  20220204      1           3         15               1      4.71   \n",
       "1        1  20220204      1           3         15               2      4.71   \n",
       "2        2  20220204      2           3         15               1      7.04   \n",
       "3        3  20220204      2           3         15               2      7.04   \n",
       "4        4  20220204      2           3         15               3      7.04   \n",
       "..     ...       ...    ...         ...        ...             ...       ...   \n",
       "615    627  20231222      3           3         10               1      7.16   \n",
       "616    628  20231222      4           3         10               1      8.24   \n",
       "617    629  20231222      5           3         18               1      1.87   \n",
       "618    630  20231222      5           3         18               2      1.87   \n",
       "619    631  20231222      5           3         18               3      1.87   \n",
       "\n",
       "     lose_odds              track_E   cc  part_people  rank  prefix_rank  \\\n",
       "0         1.27          Mount Wario  150           10    10           10   \n",
       "1         1.27      Dragon Driftway  150           12     7           17   \n",
       "2         1.17          Mount Wario  150           11     2            2   \n",
       "3         1.17        3DS DK Jungle  150           11     5            7   \n",
       "4         1.17    DS Wario Stardium  150           12     5           12   \n",
       "..         ...                  ...  ...          ...   ...          ...   \n",
       "615       1.16     DS Mario Circuit  150           11     9            9   \n",
       "616       1.14  Wii Grumble Volcano  150           12    12           12   \n",
       "617       2.15   GC Yoshi's Circuit  150            8     6            6   \n",
       "618       2.15  DS Walluigi Pinball  150            9     6           12   \n",
       "619       2.15        Mario Circuit  150           10    10           22   \n",
       "\n",
       "    odds_result  significant  RESULT  track_E_encoded  odds_result_SU  \\\n",
       "0            SU          NaN   False               41               1   \n",
       "1            SU          NaN   False               20               1   \n",
       "2            UD          NaN    True               41               0   \n",
       "3            UD          NaN    True                0               0   \n",
       "4            UD          NaN    True               18               0   \n",
       "..          ...          ...     ...              ...             ...   \n",
       "615          SU          NaN   False               13               1   \n",
       "616          SU          NaN   False               82               1   \n",
       "617          UD          NaN   False               36               0   \n",
       "618          UD          NaN   False               17               0   \n",
       "619          UD          NaN   False               39               0   \n",
       "\n",
       "     odds_result_UD  \n",
       "0                 0  \n",
       "1                 0  \n",
       "2                 1  \n",
       "3                 1  \n",
       "4                 1  \n",
       "..              ...  \n",
       "615               0  \n",
       "616               0  \n",
       "617               1  \n",
       "618               1  \n",
       "619               1  \n",
       "\n",
       "[620 rows x 19 columns]"
      ]
     },
     "execution_count": 64,
     "metadata": {},
     "output_type": "execute_result"
    }
   ],
   "source": [
    "pp = \"../data/preprocessing.csv\"\n",
    "df_pp = pd.read_csv(pp)\n",
    "df_pp"
   ]
  },
  {
   "cell_type": "code",
   "execution_count": null,
   "id": "32909f89",
   "metadata": {},
   "outputs": [],
   "source": []
  },
  {
   "cell_type": "code",
   "execution_count": null,
   "id": "b6e7720d",
   "metadata": {},
   "outputs": [],
   "source": []
  },
  {
   "cell_type": "code",
   "execution_count": null,
   "id": "5667ed32",
   "metadata": {},
   "outputs": [],
   "source": []
  },
  {
   "cell_type": "code",
   "execution_count": null,
   "id": "7f210e92",
   "metadata": {},
   "outputs": [],
   "source": []
  },
  {
   "cell_type": "code",
   "execution_count": null,
   "id": "7c4ae90a",
   "metadata": {},
   "outputs": [],
   "source": []
  }
 ],
 "metadata": {
  "kernelspec": {
   "display_name": "Python 3 (ipykernel)",
   "language": "python",
   "name": "python3"
  },
  "language_info": {
   "codemirror_mode": {
    "name": "ipython",
    "version": 3
   },
   "file_extension": ".py",
   "mimetype": "text/x-python",
   "name": "python",
   "nbconvert_exporter": "python",
   "pygments_lexer": "ipython3",
   "version": "3.11.5"
  }
 },
 "nbformat": 4,
 "nbformat_minor": 5
}
